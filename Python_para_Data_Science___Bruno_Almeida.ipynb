{
  "nbformat": 4,
  "nbformat_minor": 0,
  "metadata": {
    "colab": {
      "provenance": [],
      "collapsed_sections": [
        "spWrEruS7pWD",
        "GRrEuuns1gzD",
        "-EHD4jPa7gRv"
      ],
      "include_colab_link": true
    },
    "kernelspec": {
      "name": "python3",
      "display_name": "Python 3"
    },
    "language_info": {
      "name": "python"
    }
  },
  "cells": [
    {
      "cell_type": "markdown",
      "metadata": {
        "id": "view-in-github",
        "colab_type": "text"
      },
      "source": [
        "<a href=\"https://colab.research.google.com/github/Bruno-csr/Python-para-Data-Science/blob/main/Python_para_Data_Science___Bruno_Almeida.ipynb\" target=\"_parent\"><img src=\"https://colab.research.google.com/assets/colab-badge.svg\" alt=\"Open In Colab\"/></a>"
      ]
    },
    {
      "cell_type": "markdown",
      "source": [
        "#Preparando o ambiente"
      ],
      "metadata": {
        "id": "spWrEruS7pWD"
      }
    },
    {
      "cell_type": "code",
      "execution_count": null,
      "metadata": {
        "colab": {
          "base_uri": "https://localhost:8080/"
        },
        "id": "dBeq3m-UzcRO",
        "outputId": "0a9b8be6-832e-40c9-dfd0-efb94babd121"
      },
      "outputs": [
        {
          "output_type": "stream",
          "name": "stdout",
          "text": [
            "Requirement already satisfied: numpy in /usr/local/lib/python3.11/dist-packages (2.0.2)\n"
          ]
        }
      ],
      "source": [
        "!pip install numpy"
      ]
    },
    {
      "cell_type": "code",
      "source": [
        "!pip install matplotlib"
      ],
      "metadata": {
        "colab": {
          "base_uri": "https://localhost:8080/"
        },
        "id": "i4g0MUWAzl3V",
        "outputId": "56e575ff-3c60-4356-bf89-2638cd2d5184"
      },
      "execution_count": null,
      "outputs": [
        {
          "output_type": "stream",
          "name": "stdout",
          "text": [
            "Requirement already satisfied: matplotlib in /usr/local/lib/python3.11/dist-packages (3.10.0)\n",
            "Requirement already satisfied: contourpy>=1.0.1 in /usr/local/lib/python3.11/dist-packages (from matplotlib) (1.3.2)\n",
            "Requirement already satisfied: cycler>=0.10 in /usr/local/lib/python3.11/dist-packages (from matplotlib) (0.12.1)\n",
            "Requirement already satisfied: fonttools>=4.22.0 in /usr/local/lib/python3.11/dist-packages (from matplotlib) (4.59.0)\n",
            "Requirement already satisfied: kiwisolver>=1.3.1 in /usr/local/lib/python3.11/dist-packages (from matplotlib) (1.4.8)\n",
            "Requirement already satisfied: numpy>=1.23 in /usr/local/lib/python3.11/dist-packages (from matplotlib) (2.0.2)\n",
            "Requirement already satisfied: packaging>=20.0 in /usr/local/lib/python3.11/dist-packages (from matplotlib) (25.0)\n",
            "Requirement already satisfied: pillow>=8 in /usr/local/lib/python3.11/dist-packages (from matplotlib) (11.3.0)\n",
            "Requirement already satisfied: pyparsing>=2.3.1 in /usr/local/lib/python3.11/dist-packages (from matplotlib) (3.2.3)\n",
            "Requirement already satisfied: python-dateutil>=2.7 in /usr/local/lib/python3.11/dist-packages (from matplotlib) (2.9.0.post0)\n",
            "Requirement already satisfied: six>=1.5 in /usr/local/lib/python3.11/dist-packages (from python-dateutil>=2.7->matplotlib) (1.17.0)\n"
          ]
        }
      ]
    },
    {
      "cell_type": "code",
      "source": [
        "import matplotlib"
      ],
      "metadata": {
        "id": "uUaA50IhzpKY"
      },
      "execution_count": null,
      "outputs": []
    },
    {
      "cell_type": "code",
      "source": [
        "matplotlib.__version__"
      ],
      "metadata": {
        "colab": {
          "base_uri": "https://localhost:8080/",
          "height": 35
        },
        "id": "pXo7QWlJz8AE",
        "outputId": "e795b0ad-b82a-444d-f8c3-55603f6155ae"
      },
      "execution_count": null,
      "outputs": [
        {
          "output_type": "execute_result",
          "data": {
            "text/plain": [
              "'3.10.0'"
            ],
            "application/vnd.google.colaboratory.intrinsic+json": {
              "type": "string"
            }
          },
          "metadata": {},
          "execution_count": 6
        }
      ]
    },
    {
      "cell_type": "code",
      "source": [
        "import matplotlib.pyplot as plt"
      ],
      "metadata": {
        "id": "kIrU2b_fz8u1"
      },
      "execution_count": null,
      "outputs": []
    },
    {
      "cell_type": "code",
      "source": [
        "!pip list"
      ],
      "metadata": {
        "colab": {
          "base_uri": "https://localhost:8080/"
        },
        "collapsed": true,
        "id": "o6j-cV4B0Fy3",
        "outputId": "4526e392-ee0e-49e9-de52-8517162b54f8"
      },
      "execution_count": null,
      "outputs": [
        {
          "output_type": "stream",
          "name": "stdout",
          "text": [
            "Package                               Version\n",
            "------------------------------------- -------------------\n",
            "absl-py                               1.4.0\n",
            "accelerate                            1.9.0\n",
            "aiofiles                              24.1.0\n",
            "aiohappyeyeballs                      2.6.1\n",
            "aiohttp                               3.11.15\n",
            "aiosignal                             1.4.0\n",
            "alabaster                             1.0.0\n",
            "albucore                              0.0.24\n",
            "albumentations                        2.0.8\n",
            "ale-py                                0.11.2\n",
            "altair                                5.5.0\n",
            "annotated-types                       0.7.0\n",
            "antlr4-python3-runtime                4.9.3\n",
            "anyio                                 4.9.0\n",
            "argon2-cffi                           25.1.0\n",
            "argon2-cffi-bindings                  21.2.0\n",
            "array_record                          0.7.2\n",
            "arviz                                 0.22.0\n",
            "astropy                               7.1.0\n",
            "astropy-iers-data                     0.2025.7.21.0.41.39\n",
            "astunparse                            1.6.3\n",
            "atpublic                              5.1\n",
            "attrs                                 25.3.0\n",
            "audioread                             3.0.1\n",
            "autograd                              1.8.0\n",
            "babel                                 2.17.0\n",
            "backcall                              0.2.0\n",
            "backports.tarfile                     1.2.0\n",
            "beautifulsoup4                        4.13.4\n",
            "betterproto                           2.0.0b6\n",
            "bigframes                             2.11.0\n",
            "bigquery-magics                       0.10.1\n",
            "bleach                                6.2.0\n",
            "blinker                               1.9.0\n",
            "blis                                  1.3.0\n",
            "blobfile                              3.0.0\n",
            "blosc2                                3.6.1\n",
            "bokeh                                 3.7.3\n",
            "Bottleneck                            1.4.2\n",
            "bqplot                                0.12.45\n",
            "branca                                0.8.1\n",
            "Brotli                                1.1.0\n",
            "build                                 1.2.2.post1\n",
            "CacheControl                          0.14.3\n",
            "cachetools                            5.5.2\n",
            "catalogue                             2.0.10\n",
            "certifi                               2025.7.14\n",
            "cffi                                  1.17.1\n",
            "chardet                               5.2.0\n",
            "charset-normalizer                    3.4.2\n",
            "chex                                  0.1.89\n",
            "clarabel                              0.11.1\n",
            "click                                 8.2.1\n",
            "cloudpathlib                          0.21.1\n",
            "cloudpickle                           3.1.1\n",
            "cmake                                 3.31.6\n",
            "cmdstanpy                             1.2.5\n",
            "colorcet                              3.1.0\n",
            "colorlover                            0.3.0\n",
            "colour                                0.1.5\n",
            "community                             1.0.0b1\n",
            "confection                            0.1.5\n",
            "cons                                  0.4.7\n",
            "contourpy                             1.3.2\n",
            "cramjam                               2.10.0\n",
            "cryptography                          43.0.3\n",
            "cuda-python                           12.6.2.post1\n",
            "cudf-cu12                             25.6.0\n",
            "cudf-polars-cu12                      25.6.0\n",
            "cufflinks                             0.17.3\n",
            "cuml-cu12                             25.6.0\n",
            "cupy-cuda12x                          13.3.0\n",
            "curl_cffi                             0.12.0\n",
            "cuvs-cu12                             25.6.1\n",
            "cvxopt                                1.3.2\n",
            "cvxpy                                 1.6.7\n",
            "cycler                                0.12.1\n",
            "cyipopt                               1.5.0\n",
            "cymem                                 2.0.11\n",
            "Cython                                3.0.12\n",
            "dask                                  2025.5.0\n",
            "dask-cuda                             25.6.0\n",
            "dask-cudf-cu12                        25.6.0\n",
            "dataproc-spark-connect                0.8.3\n",
            "datasets                              2.14.4\n",
            "db-dtypes                             1.4.3\n",
            "dbus-python                           1.2.18\n",
            "debugpy                               1.8.15\n",
            "decorator                             4.4.2\n",
            "defusedxml                            0.7.1\n",
            "diffusers                             0.34.0\n",
            "dill                                  0.3.7\n",
            "distributed                           2025.5.0\n",
            "distributed-ucxx-cu12                 0.44.0\n",
            "distro                                1.9.0\n",
            "dlib                                  19.24.6\n",
            "dm-tree                               0.1.9\n",
            "docstring_parser                      0.17.0\n",
            "docutils                              0.21.2\n",
            "dopamine_rl                           4.1.2\n",
            "duckdb                                1.3.2\n",
            "earthengine-api                       1.5.24\n",
            "easydict                              1.13\n",
            "editdistance                          0.8.1\n",
            "eerepr                                0.1.2\n",
            "einops                                0.8.1\n",
            "en_core_web_sm                        3.8.0\n",
            "entrypoints                           0.4\n",
            "et_xmlfile                            2.0.0\n",
            "etils                                 1.13.0\n",
            "etuples                               0.3.10\n",
            "Farama-Notifications                  0.0.4\n",
            "fastai                                2.7.19\n",
            "fastapi                               0.116.1\n",
            "fastcore                              1.7.29\n",
            "fastdownload                          0.0.7\n",
            "fastjsonschema                        2.21.1\n",
            "fastprogress                          1.0.3\n",
            "fastrlock                             0.8.3\n",
            "ffmpy                                 0.6.0\n",
            "filelock                              3.18.0\n",
            "firebase-admin                        6.9.0\n",
            "Flask                                 3.1.1\n",
            "flatbuffers                           25.2.10\n",
            "flax                                  0.10.6\n",
            "folium                                0.20.0\n",
            "fonttools                             4.59.0\n",
            "frozendict                            2.4.6\n",
            "frozenlist                            1.7.0\n",
            "fsspec                                2025.7.0\n",
            "future                                1.0.0\n",
            "gast                                  0.6.0\n",
            "gcsfs                                 2025.7.0\n",
            "GDAL                                  3.8.4\n",
            "gdown                                 5.2.0\n",
            "geemap                                0.35.3\n",
            "geocoder                              1.38.1\n",
            "geographiclib                         2.0\n",
            "geopandas                             1.1.1\n",
            "geopy                                 2.4.1\n",
            "gin-config                            0.5.0\n",
            "gitdb                                 4.0.12\n",
            "GitPython                             3.1.44\n",
            "glob2                                 0.7\n",
            "google                                2.0.3\n",
            "google-ai-generativelanguage          0.6.15\n",
            "google-api-core                       2.25.1\n",
            "google-api-python-client              2.176.0\n",
            "google-auth                           2.38.0\n",
            "google-auth-httplib2                  0.2.0\n",
            "google-auth-oauthlib                  1.2.2\n",
            "google-cloud-aiplatform               1.104.0\n",
            "google-cloud-bigquery                 3.35.0\n",
            "google-cloud-bigquery-connection      1.18.3\n",
            "google-cloud-bigquery-storage         2.32.0\n",
            "google-cloud-core                     2.4.3\n",
            "google-cloud-dataproc                 5.21.0\n",
            "google-cloud-datastore                2.21.0\n",
            "google-cloud-firestore                2.21.0\n",
            "google-cloud-functions                1.20.4\n",
            "google-cloud-iam                      2.19.1\n",
            "google-cloud-language                 2.17.2\n",
            "google-cloud-resource-manager         1.14.2\n",
            "google-cloud-spanner                  3.55.0\n",
            "google-cloud-storage                  2.19.0\n",
            "google-cloud-translate                3.21.1\n",
            "google-colab                          1.0.0\n",
            "google-crc32c                         1.7.1\n",
            "google-genai                          1.26.0\n",
            "google-generativeai                   0.8.5\n",
            "google-pasta                          0.2.0\n",
            "google-resumable-media                2.7.2\n",
            "googleapis-common-protos              1.70.0\n",
            "googledrivedownloader                 1.1.0\n",
            "gradio                                5.38.0\n",
            "gradio_client                         1.11.0\n",
            "graphviz                              0.21\n",
            "greenlet                              3.2.3\n",
            "groovy                                0.1.2\n",
            "grpc-google-iam-v1                    0.14.2\n",
            "grpc-interceptor                      0.15.4\n",
            "grpcio                                1.73.1\n",
            "grpcio-status                         1.71.2\n",
            "grpclib                               0.4.8\n",
            "gspread                               6.2.1\n",
            "gspread-dataframe                     4.0.0\n",
            "gym                                   0.25.2\n",
            "gym-notices                           0.0.8\n",
            "gymnasium                             1.2.0\n",
            "h11                                   0.16.0\n",
            "h2                                    4.2.0\n",
            "h5netcdf                              1.6.3\n",
            "h5py                                  3.14.0\n",
            "hdbscan                               0.8.40\n",
            "hf_transfer                           0.1.9\n",
            "hf-xet                                1.1.5\n",
            "highspy                               1.11.0\n",
            "holidays                              0.77\n",
            "holoviews                             1.21.0\n",
            "hpack                                 4.1.0\n",
            "html5lib                              1.1\n",
            "httpcore                              1.0.9\n",
            "httpimport                            1.4.1\n",
            "httplib2                              0.22.0\n",
            "httpx                                 0.28.1\n",
            "huggingface-hub                       0.33.4\n",
            "humanize                              4.12.3\n",
            "hyperframe                            6.1.0\n",
            "hyperopt                              0.2.7\n",
            "ibis-framework                        9.5.0\n",
            "idna                                  3.10\n",
            "imageio                               2.37.0\n",
            "imageio-ffmpeg                        0.6.0\n",
            "imagesize                             1.4.1\n",
            "imbalanced-learn                      0.13.0\n",
            "immutabledict                         4.2.1\n",
            "importlib_metadata                    8.7.0\n",
            "importlib_resources                   6.5.2\n",
            "imutils                               0.5.4\n",
            "inflect                               7.5.0\n",
            "iniconfig                             2.1.0\n",
            "intel-cmplr-lib-ur                    2025.2.0\n",
            "intel-openmp                          2025.2.0\n",
            "ipyevents                             2.0.2\n",
            "ipyfilechooser                        0.6.0\n",
            "ipykernel                             6.17.1\n",
            "ipyleaflet                            0.20.0\n",
            "ipyparallel                           8.8.0\n",
            "ipython                               7.34.0\n",
            "ipython-genutils                      0.2.0\n",
            "ipython-sql                           0.5.0\n",
            "ipytree                               0.2.2\n",
            "ipywidgets                            7.7.1\n",
            "itsdangerous                          2.2.0\n",
            "jaraco.classes                        3.4.0\n",
            "jaraco.context                        6.0.1\n",
            "jaraco.functools                      4.2.1\n",
            "jax                                   0.5.2\n",
            "jax-cuda12-pjrt                       0.5.1\n",
            "jax-cuda12-plugin                     0.5.1\n",
            "jaxlib                                0.5.1\n",
            "jeepney                               0.9.0\n",
            "jieba                                 0.42.1\n",
            "Jinja2                                3.1.6\n",
            "jiter                                 0.10.0\n",
            "joblib                                1.5.1\n",
            "jsonpatch                             1.33\n",
            "jsonpickle                            4.1.1\n",
            "jsonpointer                           3.0.0\n",
            "jsonschema                            4.25.0\n",
            "jsonschema-specifications             2025.4.1\n",
            "jupyter-client                        6.1.12\n",
            "jupyter-console                       6.1.0\n",
            "jupyter_core                          5.8.1\n",
            "jupyter_kernel_gateway                2.5.2\n",
            "jupyter-leaflet                       0.20.0\n",
            "jupyter-server                        1.16.0\n",
            "jupyterlab_pygments                   0.3.0\n",
            "jupyterlab_widgets                    3.0.15\n",
            "jupytext                              1.17.2\n",
            "kaggle                                1.7.4.5\n",
            "kagglehub                             0.3.12\n",
            "keras                                 3.8.0\n",
            "keras-hub                             0.18.1\n",
            "keras-nlp                             0.18.1\n",
            "keyring                               25.6.0\n",
            "keyrings.google-artifactregistry-auth 1.1.2\n",
            "kiwisolver                            1.4.8\n",
            "langchain                             0.3.26\n",
            "langchain-core                        0.3.70\n",
            "langchain-text-splitters              0.3.8\n",
            "langcodes                             3.5.0\n",
            "langsmith                             0.4.8\n",
            "language_data                         1.3.0\n",
            "launchpadlib                          1.10.16\n",
            "lazr.restfulclient                    0.14.4\n",
            "lazr.uri                              1.0.6\n",
            "lazy_loader                           0.4\n",
            "libclang                              18.1.1\n",
            "libcudf-cu12                          25.6.0\n",
            "libcugraph-cu12                       25.6.0\n",
            "libcuml-cu12                          25.6.0\n",
            "libcuvs-cu12                          25.6.1\n",
            "libkvikio-cu12                        25.6.0\n",
            "libpysal                              4.13.0\n",
            "libraft-cu12                          25.6.0\n",
            "librmm-cu12                           25.6.0\n",
            "librosa                               0.11.0\n",
            "libucx-cu12                           1.18.1\n",
            "libucxx-cu12                          0.44.0\n",
            "lightgbm                              4.6.0\n",
            "linkify-it-py                         2.0.3\n",
            "llvmlite                              0.43.0\n",
            "locket                                1.0.0\n",
            "logical-unification                   0.4.6\n",
            "lxml                                  5.4.0\n",
            "Mako                                  1.1.3\n",
            "marisa-trie                           1.2.1\n",
            "Markdown                              3.8.2\n",
            "markdown-it-py                        3.0.0\n",
            "MarkupSafe                            3.0.2\n",
            "matplotlib                            3.10.0\n",
            "matplotlib-inline                     0.1.7\n",
            "matplotlib-venn                       1.1.2\n",
            "mdit-py-plugins                       0.4.2\n",
            "mdurl                                 0.1.2\n",
            "miniKanren                            1.0.3\n",
            "missingno                             0.5.2\n",
            "mistune                               3.1.3\n",
            "mizani                                0.13.5\n",
            "mkl                                   2025.2.0\n",
            "ml-dtypes                             0.4.1\n",
            "mlxtend                               0.23.4\n",
            "more-itertools                        10.7.0\n",
            "moviepy                               1.0.3\n",
            "mpmath                                1.3.0\n",
            "msgpack                               1.1.1\n",
            "multidict                             6.6.3\n",
            "multipledispatch                      1.0.0\n",
            "multiprocess                          0.70.15\n",
            "multitasking                          0.0.12\n",
            "murmurhash                            1.0.13\n",
            "music21                               9.3.0\n",
            "namex                                 0.1.0\n",
            "narwhals                              1.48.0\n",
            "natsort                               8.4.0\n",
            "nbclassic                             1.3.1\n",
            "nbclient                              0.10.2\n",
            "nbconvert                             7.16.6\n",
            "nbformat                              5.10.4\n",
            "ndindex                               1.10.0\n",
            "nest-asyncio                          1.6.0\n",
            "networkx                              3.5\n",
            "nibabel                               5.3.2\n",
            "nltk                                  3.9.1\n",
            "notebook                              6.5.7\n",
            "notebook_shim                         0.2.4\n",
            "numba                                 0.60.0\n",
            "numba-cuda                            0.11.0\n",
            "numexpr                               2.11.0\n",
            "numpy                                 2.0.2\n",
            "nvidia-cublas-cu12                    12.5.3.2\n",
            "nvidia-cuda-cupti-cu12                12.5.82\n",
            "nvidia-cuda-nvcc-cu12                 12.5.82\n",
            "nvidia-cuda-nvrtc-cu12                12.5.82\n",
            "nvidia-cuda-runtime-cu12              12.5.82\n",
            "nvidia-cudnn-cu12                     9.3.0.75\n",
            "nvidia-cufft-cu12                     11.2.3.61\n",
            "nvidia-curand-cu12                    10.3.6.82\n",
            "nvidia-cusolver-cu12                  11.6.3.83\n",
            "nvidia-cusparse-cu12                  12.5.1.3\n",
            "nvidia-cusparselt-cu12                0.6.2\n",
            "nvidia-ml-py                          12.575.51\n",
            "nvidia-nccl-cu12                      2.21.5\n",
            "nvidia-nvjitlink-cu12                 12.5.82\n",
            "nvidia-nvtx-cu12                      12.4.127\n",
            "nvtx                                  0.2.12\n",
            "nx-cugraph-cu12                       25.6.0\n",
            "oauth2client                          4.1.3\n",
            "oauthlib                              3.3.1\n",
            "omegaconf                             2.3.0\n",
            "openai                                1.97.0\n",
            "opencv-contrib-python                 4.12.0.88\n",
            "opencv-python                         4.12.0.88\n",
            "opencv-python-headless                4.12.0.88\n",
            "openpyxl                              3.1.5\n",
            "opt_einsum                            3.4.0\n",
            "optax                                 0.2.5\n",
            "optree                                0.16.0\n",
            "orbax-checkpoint                      0.11.16\n",
            "orjson                                3.11.0\n",
            "osqp                                  1.0.4\n",
            "packaging                             25.0\n",
            "pandas                                2.2.2\n",
            "pandas-datareader                     0.10.0\n",
            "pandas-gbq                            0.29.2\n",
            "pandas-stubs                          2.2.2.240909\n",
            "pandocfilters                         1.5.1\n",
            "panel                                 1.7.4\n",
            "param                                 2.2.1\n",
            "parso                                 0.8.4\n",
            "parsy                                 2.1\n",
            "partd                                 1.4.2\n",
            "patsy                                 1.0.1\n",
            "peewee                                3.18.2\n",
            "peft                                  0.16.0\n",
            "pexpect                               4.9.0\n",
            "pickleshare                           0.7.5\n",
            "pillow                                11.3.0\n",
            "pip                                   24.1.2\n",
            "platformdirs                          4.3.8\n",
            "plotly                                5.24.1\n",
            "plotnine                              0.14.5\n",
            "pluggy                                1.6.0\n",
            "ply                                   3.11\n",
            "polars                                1.25.0\n",
            "pooch                                 1.8.2\n",
            "portpicker                            1.5.2\n",
            "preshed                               3.0.10\n",
            "prettytable                           3.16.0\n",
            "proglog                               0.1.12\n",
            "progressbar2                          4.5.0\n",
            "prometheus_client                     0.22.1\n",
            "promise                               2.3\n",
            "prompt_toolkit                        3.0.51\n",
            "propcache                             0.3.2\n",
            "prophet                               1.1.7\n",
            "proto-plus                            1.26.1\n",
            "protobuf                              5.29.5\n",
            "psutil                                5.9.5\n",
            "psycopg2                              2.9.10\n",
            "ptyprocess                            0.7.0\n",
            "py-cpuinfo                            9.0.0\n",
            "py4j                                  0.10.9.7\n",
            "pyarrow                               18.1.0\n",
            "pyasn1                                0.6.1\n",
            "pyasn1_modules                        0.4.2\n",
            "pycairo                               1.28.0\n",
            "pycocotools                           2.0.10\n",
            "pycparser                             2.22\n",
            "pycryptodomex                         3.23.0\n",
            "pydantic                              2.11.7\n",
            "pydantic_core                         2.33.2\n",
            "pydata-google-auth                    1.9.1\n",
            "pydot                                 3.0.4\n",
            "pydotplus                             2.0.2\n",
            "PyDrive                               1.3.1\n",
            "PyDrive2                              1.21.3\n",
            "pydub                                 0.25.1\n",
            "pyerfa                                2.0.1.5\n",
            "pygame                                2.6.1\n",
            "pygit2                                1.18.0\n",
            "Pygments                              2.19.2\n",
            "PyGObject                             3.42.0\n",
            "PyJWT                                 2.10.1\n",
            "pylibcudf-cu12                        25.6.0\n",
            "pylibcugraph-cu12                     25.6.0\n",
            "pylibraft-cu12                        25.6.0\n",
            "pymc                                  5.24.1\n",
            "pynndescent                           0.5.13\n",
            "pynvjitlink-cu12                      0.7.0\n",
            "pynvml                                12.0.0\n",
            "pyogrio                               0.11.0\n",
            "pyomo                                 6.9.2\n",
            "PyOpenGL                              3.1.9\n",
            "pyOpenSSL                             24.2.1\n",
            "pyparsing                             3.2.3\n",
            "pyperclip                             1.9.0\n",
            "pyproj                                3.7.1\n",
            "pyproject_hooks                       1.2.0\n",
            "pyshp                                 2.3.1\n",
            "PySocks                               1.7.1\n",
            "pyspark                               3.5.1\n",
            "pytensor                              2.31.7\n",
            "pytest                                8.4.1\n",
            "python-apt                            0.0.0\n",
            "python-box                            7.3.2\n",
            "python-dateutil                       2.9.0.post0\n",
            "python-louvain                        0.16\n",
            "python-multipart                      0.0.20\n",
            "python-slugify                        8.0.4\n",
            "python-snappy                         0.7.3\n",
            "python-utils                          3.9.1\n",
            "pytz                                  2025.2\n",
            "pyviz_comms                           3.0.6\n",
            "PyWavelets                            1.8.0\n",
            "PyYAML                                6.0.2\n",
            "pyzmq                                 24.0.1\n",
            "raft-dask-cu12                        25.6.0\n",
            "rapids-dask-dependency                25.6.0\n",
            "rapids-logger                         0.1.1\n",
            "ratelim                               0.1.6\n",
            "referencing                           0.36.2\n",
            "regex                                 2024.11.6\n",
            "requests                              2.32.3\n",
            "requests-oauthlib                     2.0.0\n",
            "requests-toolbelt                     1.0.0\n",
            "requirements-parser                   0.9.0\n",
            "rich                                  13.9.4\n",
            "rmm-cu12                              25.6.0\n",
            "roman-numerals-py                     3.1.0\n",
            "rpds-py                               0.26.0\n",
            "rpy2                                  3.5.17\n",
            "rsa                                   4.9.1\n",
            "ruff                                  0.12.4\n",
            "safehttpx                             0.1.6\n",
            "safetensors                           0.5.3\n",
            "scikit-image                          0.25.2\n",
            "scikit-learn                          1.6.1\n",
            "scipy                                 1.16.0\n",
            "scooby                                0.10.1\n",
            "scs                                   3.2.7.post2\n",
            "seaborn                               0.13.2\n",
            "SecretStorage                         3.3.3\n",
            "semantic-version                      2.10.0\n",
            "Send2Trash                            1.8.3\n",
            "sentence-transformers                 4.1.0\n",
            "sentencepiece                         0.2.0\n",
            "sentry-sdk                            2.33.1\n",
            "setuptools                            75.2.0\n",
            "shap                                  0.48.0\n",
            "shapely                               2.1.1\n",
            "shellingham                           1.5.4\n",
            "simple-parsing                        0.1.7\n",
            "simplejson                            3.20.1\n",
            "simsimd                               6.5.0\n",
            "six                                   1.17.0\n",
            "sklearn-compat                        0.1.3\n",
            "sklearn-pandas                        2.2.0\n",
            "slicer                                0.0.8\n",
            "smart_open                            7.3.0.post1\n",
            "smmap                                 5.0.2\n",
            "sniffio                               1.3.1\n",
            "snowballstemmer                       3.0.1\n",
            "sortedcontainers                      2.4.0\n",
            "soundfile                             0.13.1\n",
            "soupsieve                             2.7\n",
            "soxr                                  0.5.0.post1\n",
            "spacy                                 3.8.7\n",
            "spacy-legacy                          3.0.12\n",
            "spacy-loggers                         1.0.5\n",
            "spanner-graph-notebook                1.1.7\n",
            "Sphinx                                8.2.3\n",
            "sphinxcontrib-applehelp               2.0.0\n",
            "sphinxcontrib-devhelp                 2.0.0\n",
            "sphinxcontrib-htmlhelp                2.1.0\n",
            "sphinxcontrib-jsmath                  1.0.1\n",
            "sphinxcontrib-qthelp                  2.0.0\n",
            "sphinxcontrib-serializinghtml         2.0.0\n",
            "SQLAlchemy                            2.0.41\n",
            "sqlglot                               25.20.2\n",
            "sqlparse                              0.5.3\n",
            "srsly                                 2.5.1\n",
            "stanio                                0.5.1\n",
            "starlette                             0.47.2\n",
            "statsmodels                           0.14.5\n",
            "stringzilla                           3.12.5\n",
            "stumpy                                1.13.0\n",
            "sympy                                 1.13.1\n",
            "tables                                3.10.2\n",
            "tabulate                              0.9.0\n",
            "tbb                                   2022.2.0\n",
            "tblib                                 3.1.0\n",
            "tcmlib                                1.4.0\n",
            "tenacity                              8.5.0\n",
            "tensorboard                           2.18.0\n",
            "tensorboard-data-server               0.7.2\n",
            "tensorflow                            2.18.0\n",
            "tensorflow-datasets                   4.9.9\n",
            "tensorflow_decision_forests           1.11.0\n",
            "tensorflow-hub                        0.16.1\n",
            "tensorflow-io-gcs-filesystem          0.37.1\n",
            "tensorflow-metadata                   1.17.2\n",
            "tensorflow-probability                0.25.0\n",
            "tensorflow-text                       2.18.1\n",
            "tensorstore                           0.1.74\n",
            "termcolor                             3.1.0\n",
            "terminado                             0.18.1\n",
            "text-unidecode                        1.3\n",
            "textblob                              0.19.0\n",
            "tf_keras                              2.18.0\n",
            "tf-slim                               1.1.0\n",
            "thinc                                 8.3.6\n",
            "threadpoolctl                         3.6.0\n",
            "tifffile                              2025.6.11\n",
            "tiktoken                              0.9.0\n",
            "timm                                  1.0.17\n",
            "tinycss2                              1.4.0\n",
            "tokenizers                            0.21.2\n",
            "toml                                  0.10.2\n",
            "tomlkit                               0.13.3\n",
            "toolz                                 0.12.1\n",
            "torch                                 2.6.0+cu124\n",
            "torchao                               0.10.0\n",
            "torchaudio                            2.6.0+cu124\n",
            "torchdata                             0.11.0\n",
            "torchsummary                          1.5.1\n",
            "torchtune                             0.6.1\n",
            "torchvision                           0.21.0+cu124\n",
            "tornado                               6.4.2\n",
            "tqdm                                  4.67.1\n",
            "traitlets                             5.7.1\n",
            "traittypes                            0.2.1\n",
            "transformers                          4.53.2\n",
            "treelite                              4.4.1\n",
            "treescope                             0.1.9\n",
            "triton                                3.2.0\n",
            "tsfresh                               0.21.0\n",
            "tweepy                                4.16.0\n",
            "typeguard                             4.4.4\n",
            "typer                                 0.16.0\n",
            "types-pytz                            2025.2.0.20250516\n",
            "types-setuptools                      80.9.0.20250529\n",
            "typing_extensions                     4.14.1\n",
            "typing-inspection                     0.4.1\n",
            "tzdata                                2025.2\n",
            "tzlocal                               5.3.1\n",
            "uc-micro-py                           1.0.3\n",
            "ucx-py-cu12                           0.44.0\n",
            "ucxx-cu12                             0.44.0\n",
            "umap-learn                            0.5.9.post2\n",
            "umf                                   0.11.0\n",
            "uritemplate                           4.2.0\n",
            "urllib3                               2.5.0\n",
            "uvicorn                               0.35.0\n",
            "vega-datasets                         0.9.0\n",
            "wadllib                               1.3.6\n",
            "wandb                                 0.21.0\n",
            "wasabi                                1.1.3\n",
            "wcwidth                               0.2.13\n",
            "weasel                                0.4.1\n",
            "webcolors                             24.11.1\n",
            "webencodings                          0.5.1\n",
            "websocket-client                      1.8.0\n",
            "websockets                            15.0.1\n",
            "Werkzeug                              3.1.3\n",
            "wheel                                 0.45.1\n",
            "widgetsnbextension                    3.6.10\n",
            "wordcloud                             1.9.4\n",
            "wrapt                                 1.17.2\n",
            "wurlitzer                             3.1.1\n",
            "xarray                                2025.7.1\n",
            "xarray-einstats                       0.9.1\n",
            "xgboost                               3.0.2\n",
            "xlrd                                  2.0.2\n",
            "xxhash                                3.5.0\n",
            "xyzservices                           2025.4.0\n",
            "yarl                                  1.20.1\n",
            "ydf                                   0.13.0\n",
            "yellowbrick                           1.5\n",
            "yfinance                              0.2.65\n",
            "zict                                  3.0.0\n",
            "zipp                                  3.23.0\n",
            "zstandard                             0.23.0\n"
          ]
        }
      ]
    },
    {
      "cell_type": "markdown",
      "source": [
        "#1. Utilizando Pacotes / Bibliotecas"
      ],
      "metadata": {
        "id": "GRrEuuns1gzD"
      }
    },
    {
      "cell_type": "code",
      "source": [
        "estudantes = [\"João\", \"Maria\", \"José\"]\n",
        "notas = [8.5, 9, 6.5]"
      ],
      "metadata": {
        "id": "Vzeh7KUn1Y_T"
      },
      "execution_count": null,
      "outputs": []
    },
    {
      "cell_type": "code",
      "source": [
        "plt.bar(x = estudantes, height = notas)"
      ],
      "metadata": {
        "colab": {
          "base_uri": "https://localhost:8080/",
          "height": 447
        },
        "collapsed": true,
        "id": "iQPdAZrh1axk",
        "outputId": "45b786ca-54c1-4c89-a3ed-697930ba48ef"
      },
      "execution_count": null,
      "outputs": [
        {
          "output_type": "execute_result",
          "data": {
            "text/plain": [
              "<BarContainer object of 3 artists>"
            ]
          },
          "metadata": {},
          "execution_count": 15
        },
        {
          "output_type": "display_data",
          "data": {
            "text/plain": [
              "<Figure size 640x480 with 1 Axes>"
            ],
            "image/png": "[encoded data removed]"
          },
          "metadata": {}
        }
      ]
    },
    {
      "cell_type": "markdown",
      "source": [
        "## 2.1 Random"
      ],
      "metadata": {
        "id": "DmbOA90J1nED"
      }
    },
    {
      "cell_type": "code",
      "source": [
        "from random import choices, choice, randrange"
      ],
      "metadata": {
        "id": "s9QyZUCB2XAv"
      },
      "execution_count": null,
      "outputs": []
    },
    {
      "cell_type": "code",
      "source": [
        "help(choice)"
      ],
      "metadata": {
        "colab": {
          "base_uri": "https://localhost:8080/"
        },
        "id": "dhs4Iya32Z_W",
        "outputId": "bead7633-e590-414f-e20c-8ff868c64a45"
      },
      "execution_count": null,
      "outputs": [
        {
          "output_type": "stream",
          "name": "stdout",
          "text": [
            "Help on method choice in module random:\n",
            "\n",
            "choice(seq) method of random.Random instance\n",
            "    Choose a random element from a non-empty sequence.\n",
            "\n"
          ]
        }
      ]
    },
    {
      "cell_type": "code",
      "source": [
        "estudantes_2 = [\"João\", \"Maria\", \"José\", \"Ana\"]\n",
        "choice(estudantes_2)"
      ],
      "metadata": {
        "colab": {
          "base_uri": "https://localhost:8080/",
          "height": 35
        },
        "id": "T4u9OVth1p6M",
        "outputId": "2920e4af-6f6a-4319-aab0-2fd60e70b81e"
      },
      "execution_count": null,
      "outputs": [
        {
          "output_type": "execute_result",
          "data": {
            "text/plain": [
              "'Maria'"
            ],
            "application/vnd.google.colaboratory.intrinsic+json": {
              "type": "string"
            }
          },
          "metadata": {},
          "execution_count": 24
        }
      ]
    },
    {
      "cell_type": "code",
      "source": [
        "from random import randrange, sample\n",
        "\n",
        "lista = []\n",
        "\n",
        "for i in range(0, 20):\n",
        "  lista.append(randrange(100))\n",
        "\n",
        "sample(lista, 5)"
      ],
      "metadata": {
        "colab": {
          "base_uri": "https://localhost:8080/"
        },
        "id": "d__eHdau2tE8",
        "outputId": "f262b8af-512f-4ed7-b168-38b1f0ebd812"
      },
      "execution_count": null,
      "outputs": [
        {
          "output_type": "execute_result",
          "data": {
            "text/plain": [
              "[43, 96, 99, 63, 47]"
            ]
          },
          "metadata": {},
          "execution_count": 26
        }
      ]
    },
    {
      "cell_type": "markdown",
      "source": [
        "## IMPORTANDO: from nome_biblioteca import * VS import nome_biblioteca"
      ],
      "metadata": {
        "id": "4VQnkEat299n"
      }
    },
    {
      "cell_type": "code",
      "source": [
        "import math\n",
        "\n",
        "n = int(input(\"Digite um número positivo para calcular sua raiz quadrada:\"))\n",
        "print(f\"\\nA raiz quadrada de {n} é igual a {math.sqrt(n)}\")"
      ],
      "metadata": {
        "colab": {
          "base_uri": "https://localhost:8080/"
        },
        "id": "lmMKZ8yA2yDj",
        "outputId": "7eee499c-a87e-4fd0-ea69-5ced97305322"
      },
      "execution_count": null,
      "outputs": [
        {
          "output_type": "stream",
          "name": "stdout",
          "text": [
            "Digite um número positivo para calcular sua raiz quadrada:9\n",
            "\n",
            "A raiz quadrada de 9 é igual a 3.0\n"
          ]
        }
      ]
    },
    {
      "cell_type": "code",
      "source": [
        "from math import *\n",
        "\n",
        "n = int(input(\"Digite um número positivo para calcular sua raiz quadrada:\"))\n",
        "print(f\"\\nA raiz quadrada de {n} é igual a {sqrt(n)}\")"
      ],
      "metadata": {
        "colab": {
          "base_uri": "https://localhost:8080/"
        },
        "id": "03RGTiAG23XD",
        "outputId": "0bec02d3-c627-4d41-f6d3-b72c1ed74a4f"
      },
      "execution_count": null,
      "outputs": [
        {
          "output_type": "stream",
          "name": "stdout",
          "text": [
            "Digite um número positivo para calcular sua raiz quadrada:9\n",
            "\n",
            "A raiz quadrada de 9 é igual a 3.0\n"
          ]
        }
      ]
    },
    {
      "cell_type": "markdown",
      "source": [
        "Note que, no segundo exemplo, suprimimos o nome math utilizando o método desejado e escrevendo o código com menos caracteres.\n",
        "\n",
        "Atenção: A importação nesse sentido precisa de alguns cuidados:\n",
        "\n",
        "> Podemos ter choque de nomes entre as variáveis. Por exemplo: no caso de termos uma função chamada sqrt antes de importar a da biblioteca math.\n",
        "\n",
        "> Não fica explícito de onde aquela variável, método ou classe veio."
      ],
      "metadata": {
        "id": "Y078bQ6-3Knj"
      }
    },
    {
      "cell_type": "code",
      "source": [],
      "metadata": {
        "id": "Ovfpalis3bgF"
      },
      "execution_count": null,
      "outputs": []
    },
    {
      "cell_type": "markdown",
      "source": [
        "## Hora da Prática"
      ],
      "metadata": {
        "id": "tFKtZhQF3_w0"
      }
    },
    {
      "cell_type": "code",
      "source": [
        "#1. Escreva um código para instalar a versão 3.7.1 da biblioteca matplotlib.\n",
        "!pip install matplotlib==3.7.1"
      ],
      "metadata": {
        "colab": {
          "base_uri": "https://localhost:8080/"
        },
        "collapsed": true,
        "id": "KYY7mhbq4CRc",
        "outputId": "df53b75d-d6f4-4b6e-9794-5a3623203c87"
      },
      "execution_count": null,
      "outputs": [
        {
          "output_type": "stream",
          "name": "stdout",
          "text": [
            "Requirement already satisfied: matplotlib==3.7.1 in /usr/local/lib/python3.11/dist-packages (3.7.1)\n",
            "Requirement already satisfied: contourpy>=1.0.1 in /usr/local/lib/python3.11/dist-packages (from matplotlib==3.7.1) (1.3.2)\n",
            "Requirement already satisfied: cycler>=0.10 in /usr/local/lib/python3.11/dist-packages (from matplotlib==3.7.1) (0.12.1)\n",
            "Requirement already satisfied: fonttools>=4.22.0 in /usr/local/lib/python3.11/dist-packages (from matplotlib==3.7.1) (4.59.0)\n",
            "Requirement already satisfied: kiwisolver>=1.0.1 in /usr/local/lib/python3.11/dist-packages (from matplotlib==3.7.1) (1.4.8)\n",
            "Requirement already satisfied: numpy>=1.20 in /usr/local/lib/python3.11/dist-packages (from matplotlib==3.7.1) (2.0.2)\n",
            "Requirement already satisfied: packaging>=20.0 in /usr/local/lib/python3.11/dist-packages (from matplotlib==3.7.1) (25.0)\n",
            "Requirement already satisfied: pillow>=6.2.0 in /usr/local/lib/python3.11/dist-packages (from matplotlib==3.7.1) (11.3.0)\n",
            "Requirement already satisfied: pyparsing>=2.3.1 in /usr/local/lib/python3.11/dist-packages (from matplotlib==3.7.1) (3.2.3)\n",
            "Requirement already satisfied: python-dateutil>=2.7 in /usr/local/lib/python3.11/dist-packages (from matplotlib==3.7.1) (2.9.0.post0)\n",
            "Requirement already satisfied: six>=1.5 in /usr/local/lib/python3.11/dist-packages (from python-dateutil>=2.7->matplotlib==3.7.1) (1.17.0)\n"
          ]
        }
      ]
    },
    {
      "cell_type": "code",
      "source": [
        "#2. Escreva um código para importar a biblioteca numpy com o alias np.\n",
        "import numpy as np"
      ],
      "metadata": {
        "id": "fTZGUdzj4Jg3"
      },
      "execution_count": null,
      "outputs": []
    },
    {
      "cell_type": "code",
      "source": [
        "#3. Crie um programa que leia a seguinte lista de números e escolha um número desta aleatoriamente.\n",
        "from random import choices\n",
        "lista = [8, 12, 54, 23, 43, 1, 90, 87, 105, 77]\n",
        "choices(lista, k=2)"
      ],
      "metadata": {
        "colab": {
          "base_uri": "https://localhost:8080/"
        },
        "id": "kRioNfDj4RQD",
        "outputId": "2d580f10-3580-4cf4-cbd1-834bc9015aa7"
      },
      "execution_count": null,
      "outputs": [
        {
          "output_type": "execute_result",
          "data": {
            "text/plain": [
              "[105, 43]"
            ]
          },
          "metadata": {},
          "execution_count": 10
        }
      ]
    },
    {
      "cell_type": "code",
      "source": [
        "#4. Crie um programa que sorteia, aleatoriamente, um número inteiro positivo menor que 100.\n",
        "from random import randrange\n",
        "randrange(100)"
      ],
      "metadata": {
        "colab": {
          "base_uri": "https://localhost:8080/"
        },
        "id": "s24nWxWu4x-n",
        "outputId": "7dd19b56-b154-41d8-f49c-901715bf1be6"
      },
      "execution_count": null,
      "outputs": [
        {
          "output_type": "execute_result",
          "data": {
            "text/plain": [
              "71"
            ]
          },
          "metadata": {},
          "execution_count": 11
        }
      ]
    },
    {
      "cell_type": "code",
      "source": [
        "#5. Crie um programa que solicite à pessoa usuária digitar dois números inteiros e calcular a potência do 1º número elevado ao 2º.\n",
        "from math import pow\n",
        "n1 = int(input(\"Digite um número inteiro:\"))\n",
        "n2 = int(input(\"Digite outro número inteiro:\"))\n",
        "print(f\"{n1} elevado a {n2} é igual a {pow(n1, n2)}\")"
      ],
      "metadata": {
        "colab": {
          "base_uri": "https://localhost:8080/"
        },
        "id": "D7BZl2vt46fL",
        "outputId": "4a577c9a-bdda-4aff-9f10-b5e63b08fd30"
      },
      "execution_count": null,
      "outputs": [
        {
          "output_type": "stream",
          "name": "stdout",
          "text": [
            "Digite um número inteiro:3\n",
            "Digite outro número inteiro:3\n",
            "3 elevado a 3 é igual a 27.0\n"
          ]
        }
      ]
    },
    {
      "cell_type": "code",
      "source": [
        "#6. Um programa deve ser escrito para sortear uma pessoa seguidora de uma rede social para ganhar um prêmio. A lista de participantes é numerada e devemos escolher aleatoriamente um número de acordo com a quantidade de participantes. Peça à pessoa usuária para fornecer o número de participantes do sorteio e devolva para ela o número sorteado.\n",
        "from random import randrange\n",
        "participantes = int(input('Digite o número de participantes:'))\n",
        "print(f'O número sorteado foi {randrange(participantes)}')"
      ],
      "metadata": {
        "colab": {
          "base_uri": "https://localhost:8080/"
        },
        "id": "pi_sx78h4pG6",
        "outputId": "81974bc3-9544-41be-dc65-3f4d1378a4c3"
      },
      "execution_count": null,
      "outputs": [
        {
          "output_type": "stream",
          "name": "stdout",
          "text": [
            "Digite o número de participantes:10\n",
            "O número sorteado foi 9\n"
          ]
        }
      ]
    },
    {
      "cell_type": "code",
      "source": [
        "#7. Você recebeu uma demanda para gerar números de token para acessar o aplicativo de uma empresa. O token precisa ser par e variar de 1000 até 9998. Escreva um código que solicita à pessoa usuária o seu nome e exibe uma mensagem junto a esse token gerado aleatoriamente.\n",
        "nome = input('Digite seu nome: ')\n",
        "token = randrange(1000, 9998, 2)\n",
        "\n",
        "print(f'Olá {nome}, o seu token é {token}. Seja bem vindo!')"
      ],
      "metadata": {
        "colab": {
          "base_uri": "https://localhost:8080/"
        },
        "id": "8rWt2sBo5dAH",
        "outputId": "9137e59f-607e-4bb0-80a5-af89add570e8"
      },
      "execution_count": null,
      "outputs": [
        {
          "output_type": "stream",
          "name": "stdout",
          "text": [
            "Digite seu nome: Bruno\n",
            "Olá Bruno, o seu token é 6388. Seja bem vindo!\n"
          ]
        }
      ]
    },
    {
      "cell_type": "code",
      "source": [
        "#8. Para diversificar e atrair novos(as) clientes, uma lanchonete criou um item misterioso em seu cardápio chamado \"salada de frutas surpresa\". Neste item, são escolhidas aleatoriamente 3 frutas de uma lista de 12 para compor a salada de frutas da pessoa cliente. Crie o código que faça essa seleção aleatória de acordo com a lista abaixo:\n",
        "frutas = [\"maçã\", \"banana\", \"uva\", \"pêra\",\n",
        "          \"manga\", \"coco\", \"melancia\", \"mamão\",\n",
        "          \"laranja\", \"abacaxi\", \"kiwi\", \"ameixa\"]\n",
        "\n",
        "saladaDeFrutaMista = choices(frutas, k=3)\n",
        "print(f'A salada de frutas surpresa é: {saladaDeFrutaMista}')"
      ],
      "metadata": {
        "colab": {
          "base_uri": "https://localhost:8080/"
        },
        "id": "x1h9wr345noE",
        "outputId": "593d942a-e721-4cc4-d712-b14cfdde4c39"
      },
      "execution_count": null,
      "outputs": [
        {
          "output_type": "stream",
          "name": "stdout",
          "text": [
            "A salada de frutas surpresa é: ['manga', 'laranja', 'maçã']\n"
          ]
        }
      ]
    },
    {
      "cell_type": "code",
      "source": [
        "#9. Você recebeu um desafio de calcular a raiz quadrada de uma lista de números, identificando quais resultaram em um número inteiro. A lista é a seguinte:\n",
        "from math import sqrt\n",
        "numeros = [2, 8, 9, 15, 23, 91, 112, 256]\n",
        "raizInteiro = []\n",
        "for numero in numeros:\n",
        "  raiz = sqrt(numero)\n",
        "  if raiz % 1 == 0:\n",
        "    print(f'A raiz quadrada de {numero} é {int(raiz)}')\n",
        "    raizInteiro.append(numero)\n",
        "print(f'Os números {raizInteiro} tem a raiz quadrada com número inteiro')"
      ],
      "metadata": {
        "colab": {
          "base_uri": "https://localhost:8080/"
        },
        "id": "Zoe7oubC6L5L",
        "outputId": "6097a4ee-58b4-487f-a7d1-caf5a9eafe8b"
      },
      "execution_count": null,
      "outputs": [
        {
          "output_type": "stream",
          "name": "stdout",
          "text": [
            "A raiz quadrada de 9 é 3\n",
            "A raiz quadrada de 256 é 16\n",
            "Os números [9, 256] tem a raiz quadrada com número inteiro\n"
          ]
        }
      ]
    },
    {
      "cell_type": "code",
      "source": [
        "#10. Faça um programa para uma loja que vende grama para jardins. Essa loja trabalha com jardins circulares e o preço do metro quadrado da grama é de R$ 25,00. Peça à pessoa usuária o raio da área circular e devolva o valor em reais do quanto precisará pagar.\n",
        "#Dica: use a variável pi e o método pow() da biblioteca math. O cálculo da área de um círculo é de: A = π*r^2 (lê-se pi vezes raio ao quadrado).\n",
        "\n",
        "from math import pi, pow\n",
        "raio = float(input('Digite o raio da área circular: '))\n",
        "area = pi * pow(raio, 2)\n",
        "preco = area * 25\n",
        "\n",
        "print(f'A área do jardim é {area:.2f}')\n",
        "print(f'O preço a pagar é de R${preco:.2f}')\n"
      ],
      "metadata": {
        "colab": {
          "base_uri": "https://localhost:8080/"
        },
        "id": "5lOsr-aO6S8c",
        "outputId": "3af7335a-cfc9-4c1a-8fe8-ce4b3c57e3c6"
      },
      "execution_count": null,
      "outputs": [
        {
          "output_type": "stream",
          "name": "stdout",
          "text": [
            "Digite o raio da área circular: 10\n",
            "A área do jardim é 314.16\n",
            "O preço a pagar é de R$7853.98\n"
          ]
        }
      ]
    },
    {
      "cell_type": "markdown",
      "source": [
        "\n",
        "\n",
        "---\n",
        "\n"
      ],
      "metadata": {
        "id": "B-iGcTI6UvEF"
      }
    },
    {
      "cell_type": "markdown",
      "source": [
        "#2. Funções"
      ],
      "metadata": {
        "id": "-EHD4jPa7gRv"
      }
    },
    {
      "cell_type": "markdown",
      "source": [
        "##Built-in functions"
      ],
      "metadata": {
        "id": "MsZJ74la8x98"
      }
    },
    {
      "cell_type": "markdown",
      "source": [
        "Situação 1: A escola em que estamos construindo o nosso case de dados compartilhou os dados das notas de um estudante para que pudéssemos calcular a média deste em até uma casa decimal. Os dados recebidos correspondem a um dicionário com as chaves indicando o trimestre em questão e os valores das notas de cada trimestre do estudante em uma dada matéria.\n"
      ],
      "metadata": {
        "id": "Ca0gCJRF8BOL"
      }
    },
    {
      "cell_type": "code",
      "source": [
        "#Notas do(a) estudante\n",
        "notas = {'19 Trimestre': 8.5, '2° Trimestre': 9.5, '3º trimestre': 7}\n",
        "notas"
      ],
      "metadata": {
        "colab": {
          "base_uri": "https://localhost:8080/"
        },
        "id": "YPHcAW9-7_wD",
        "outputId": "3bc93047-afbf-4c50-ffbe-08e88c82bd6a"
      },
      "execution_count": null,
      "outputs": [
        {
          "output_type": "execute_result",
          "data": {
            "text/plain": [
              "{'19 Trimestre': 8.5, '2° Trimestre': 9.5, '3º trimestre': 7}"
            ]
          },
          "metadata": {},
          "execution_count": 27
        }
      ]
    },
    {
      "cell_type": "code",
      "source": [
        "# Calculando a soma\n",
        "soma = 0\n",
        "\n",
        "for nota in notas.values():\n",
        "    soma += nota\n",
        "\n",
        "soma"
      ],
      "metadata": {
        "colab": {
          "base_uri": "https://localhost:8080/"
        },
        "id": "tx6opu__8GDm",
        "outputId": "9b3127a7-02bf-450e-a824-b63a0239cb6b"
      },
      "execution_count": null,
      "outputs": [
        {
          "output_type": "execute_result",
          "data": {
            "text/plain": [
              "25.0"
            ]
          },
          "metadata": {},
          "execution_count": 28
        }
      ]
    },
    {
      "cell_type": "code",
      "source": [
        "# Usando a função embutida sum()\n",
        "somatorio = sum(notas.values())\n",
        "\n",
        "somatorio"
      ],
      "metadata": {
        "colab": {
          "base_uri": "https://localhost:8080/"
        },
        "id": "ZpoDQJha8NTD",
        "outputId": "e90b8ff5-6981-428e-94c8-df2a05420417"
      },
      "execution_count": null,
      "outputs": [
        {
          "output_type": "execute_result",
          "data": {
            "text/plain": [
              "25.0"
            ]
          },
          "metadata": {},
          "execution_count": 29
        }
      ]
    },
    {
      "cell_type": "code",
      "source": [
        "# Usando a função embutida len()\n",
        "qtd_notas = len(notas)\n",
        "\n",
        "qtd_notas"
      ],
      "metadata": {
        "colab": {
          "base_uri": "https://localhost:8080/"
        },
        "id": "PvNCMfKV8Ym_",
        "outputId": "bcc49d9c-afcf-48b1-b74a-8fac4ae8e5a0"
      },
      "execution_count": null,
      "outputs": [
        {
          "output_type": "execute_result",
          "data": {
            "text/plain": [
              "3"
            ]
          },
          "metadata": {},
          "execution_count": 31
        }
      ]
    },
    {
      "cell_type": "code",
      "source": [
        "# Calculando a média\n",
        "media = somatorio / qtd_notas\n",
        "\n",
        "media"
      ],
      "metadata": {
        "colab": {
          "base_uri": "https://localhost:8080/"
        },
        "id": "QeZ3pI_K8Z8J",
        "outputId": "c7cc0df9-e7d1-4ae6-a1f7-1ae9f57a67ea"
      },
      "execution_count": null,
      "outputs": [
        {
          "output_type": "execute_result",
          "data": {
            "text/plain": [
              "8.333333333333334"
            ]
          },
          "metadata": {},
          "execution_count": 33
        }
      ]
    },
    {
      "cell_type": "code",
      "source": [
        "#round\n",
        "#help(round)\n",
        "round?"
      ],
      "metadata": {
        "id": "r15pToJ78eqi"
      },
      "execution_count": null,
      "outputs": []
    },
    {
      "cell_type": "code",
      "source": [
        "media = somatorio / qtd_notas\n",
        "media = round(media,1)\n",
        "media"
      ],
      "metadata": {
        "colab": {
          "base_uri": "https://localhost:8080/"
        },
        "id": "ZDNb-xzt8sBK",
        "outputId": "7a814668-2f44-4ac1-c816-464498b50cb7"
      },
      "execution_count": null,
      "outputs": [
        {
          "output_type": "execute_result",
          "data": {
            "text/plain": [
              "8.3"
            ]
          },
          "metadata": {},
          "execution_count": 37
        }
      ]
    },
    {
      "cell_type": "markdown",
      "source": [
        "##Criando Funções"
      ],
      "metadata": {
        "id": "LL7XhZ7Q9cC_"
      }
    },
    {
      "cell_type": "markdown",
      "source": [
        "###Funções sem parâmetros"
      ],
      "metadata": {
        "id": "14C6QJQh-P9H"
      }
    },
    {
      "cell_type": "markdown",
      "source": [
        "`def` é a palavra-chave para criar uma função."
      ],
      "metadata": {
        "id": "PHACYoXH9kx7"
      }
    },
    {
      "cell_type": "code",
      "source": [
        "def media():\n",
        "    calculo = (10 + 9 + 8) / 3\n",
        "    print(calculo)"
      ],
      "metadata": {
        "id": "wGfekd0J9gK3"
      },
      "execution_count": null,
      "outputs": []
    },
    {
      "cell_type": "code",
      "source": [
        "media()"
      ],
      "metadata": {
        "colab": {
          "base_uri": "https://localhost:8080/"
        },
        "id": "vilfVQeG9rzy",
        "outputId": "09d33afe-9f89-45cf-e2a4-3908983f00b2"
      },
      "execution_count": null,
      "outputs": [
        {
          "output_type": "stream",
          "name": "stdout",
          "text": [
            "9.0\n"
          ]
        }
      ]
    },
    {
      "cell_type": "markdown",
      "source": [
        "###Criando funções com parâmetros"
      ],
      "metadata": {
        "id": "ZjDi6uep9ulD"
      }
    },
    {
      "cell_type": "markdown",
      "source": [
        "A diferença entre a estrutura das funções com e sem parâmetros é que eles são passados entre parênteses e separados por vírgulas:"
      ],
      "metadata": {
        "id": "-LKmCsL99zGj"
      }
    },
    {
      "cell_type": "code",
      "source": [
        "def media(nota_1, nota_2, nota_3):\n",
        "    calculo = (nota_1 + nota_2 + nota_3)/3\n",
        "    print(calculo)"
      ],
      "metadata": {
        "id": "Z43oSB7V9w-c"
      },
      "execution_count": null,
      "outputs": []
    },
    {
      "cell_type": "code",
      "source": [
        "media(10, 9, 8)"
      ],
      "metadata": {
        "colab": {
          "base_uri": "https://localhost:8080/"
        },
        "id": "8kdN3zcv92eb",
        "outputId": "b57c7685-630a-4ff4-8471-dfe21f03e019"
      },
      "execution_count": null,
      "outputs": [
        {
          "output_type": "stream",
          "name": "stdout",
          "text": [
            "9.0\n"
          ]
        }
      ]
    },
    {
      "cell_type": "markdown",
      "source": [
        "Os valores que passamos para substituir esses parâmetros no momento de executar a função passam a ser chamados de argumentos.\n",
        "> Ou seja, o argumento não precisa necessariamente ser igual ao parâmetro. Mas quando criamos um parâmetro dentro dos parênteses da função, precisamos utilizar o mesmo nome para utilizá-lo nas instruções desta função"
      ],
      "metadata": {
        "id": "_XVguzJ2-BI2"
      }
    },
    {
      "cell_type": "code",
      "source": [
        "nota1 = 8\n",
        "nota2 = 7\n",
        "nota3 = 6\n",
        "\n",
        "media(nota1, nota2, nota3)"
      ],
      "metadata": {
        "colab": {
          "base_uri": "https://localhost:8080/"
        },
        "id": "HtfX9bQ--FIG",
        "outputId": "8fe1cc93-bf01-4753-8e4c-947d6c4bb2d0"
      },
      "execution_count": null,
      "outputs": [
        {
          "output_type": "stream",
          "name": "stdout",
          "text": [
            "7.0\n"
          ]
        }
      ]
    },
    {
      "cell_type": "markdown",
      "source": [
        "###Situações"
      ],
      "metadata": {
        "id": "30aIe6An-UrH"
      }
    },
    {
      "cell_type": "markdown",
      "source": [
        "Situação 2: Recebemos uma demanda de calcular a média de um estudante a partir de uma lista, sendo possível alterar a quantidade de notas, sem impedir que o cálculo seja refeito. Os dados recebidos, desta vez, correspondem a uma lista contendo apenas as notas de um estudante em uma dada matéria."
      ],
      "metadata": {
        "id": "lnP_Gv7n-WQF"
      }
    },
    {
      "cell_type": "code",
      "source": [
        "# Notas do(a) estudante\n",
        "notas = [8.5, 9.0, 6.0, 10.0]"
      ],
      "metadata": {
        "id": "wHBCOSLd-XrL"
      },
      "execution_count": null,
      "outputs": []
    },
    {
      "cell_type": "code",
      "source": [
        "def media(lista):\n",
        "    calculo = sum(lista) / len(lista)\n",
        "    print(calculo)"
      ],
      "metadata": {
        "id": "HsuE5sUB-aCw"
      },
      "execution_count": null,
      "outputs": []
    },
    {
      "cell_type": "code",
      "source": [
        "media(notas)"
      ],
      "metadata": {
        "colab": {
          "base_uri": "https://localhost:8080/"
        },
        "id": "utmOMrqO-chI",
        "outputId": "30485768-7088-49af-f37e-5e23de6cb24f"
      },
      "execution_count": null,
      "outputs": [
        {
          "output_type": "stream",
          "name": "stdout",
          "text": [
            "8.375\n"
          ]
        }
      ]
    },
    {
      "cell_type": "code",
      "source": [
        "resultado = media(notas)"
      ],
      "metadata": {
        "colab": {
          "base_uri": "https://localhost:8080/"
        },
        "id": "oi7-xD50-hRw",
        "outputId": "71dec391-dec4-4b70-846d-c4fcf7d7bc2b"
      },
      "execution_count": null,
      "outputs": [
        {
          "output_type": "stream",
          "name": "stdout",
          "text": [
            "8.375\n"
          ]
        }
      ]
    },
    {
      "cell_type": "code",
      "source": [
        "resultado"
      ],
      "metadata": {
        "id": "GJmEE_2o-ixb"
      },
      "execution_count": null,
      "outputs": []
    },
    {
      "cell_type": "code",
      "source": [
        "type(resultado)"
      ],
      "metadata": {
        "colab": {
          "base_uri": "https://localhost:8080/"
        },
        "id": "pE_FuzuP-lqm",
        "outputId": "fd6a8365-f7cd-4e3c-c607-837d21776a08"
      },
      "execution_count": null,
      "outputs": [
        {
          "output_type": "execute_result",
          "data": {
            "text/plain": [
              "NoneType"
            ]
          },
          "metadata": {},
          "execution_count": 51
        }
      ]
    },
    {
      "cell_type": "markdown",
      "source": [
        "Obtemos `NoneType` como retorno, como se fosse nulo. Isso ocorre porque, utilizando print, ele só serve para imprimir algo na tela, então não conseguimos salvar este valor printado em uma variável."
      ],
      "metadata": {
        "id": "C45QrBIl-pD3"
      }
    },
    {
      "cell_type": "markdown",
      "source": [
        "Se tentarmos chamar `calculo`, que está na função, também encontraremos um erro dizendo que este nome não está definido.\n",
        "\n",
        "Isso ocorre por causa do escopo de função, que determina que uma variável que nasce dentro de uma função, também morre dentro desta função. Ou seja, existe apenas dentro da função, então não conseguimos utilizar este valor."
      ],
      "metadata": {
        "id": "lRgoWy8Y-u4p"
      }
    },
    {
      "cell_type": "markdown",
      "source": [],
      "metadata": {
        "id": "ExfhG3PC-yz4"
      }
    },
    {
      "cell_type": "markdown",
      "source": [
        "###Escopo de uma variável"
      ],
      "metadata": {
        "id": "zCckMLvlCygM"
      }
    },
    {
      "cell_type": "markdown",
      "source": [
        "Em Python, o escopo de uma variável é definido pela região do código onde ela pode ser acessada. No caso de uma função, o escopo pode ser dividido em duas categorias: escopo global e escopo local.\n",
        "\n",
        "O escopo global é o espaço no qual uma variável pode ser acessada por qualquer função ou código que esteja sendo executado no programa. Já o escopo local é o espaço no qual a variável pode ser acessada apenas pela função em que foi definida."
      ],
      "metadata": {
        "id": "Oh7S260hC0uP"
      }
    },
    {
      "cell_type": "code",
      "source": [
        "x = 7\n",
        "\n",
        "def soma():\n",
        "  y = 9\n",
        "  print(x + y)\n",
        "\n",
        "soma()"
      ],
      "metadata": {
        "colab": {
          "base_uri": "https://localhost:8080/"
        },
        "id": "ogTNidtYC4pT",
        "outputId": "61a0109c-648b-4c66-9473-9e8f6ca21fe3"
      },
      "execution_count": null,
      "outputs": [
        {
          "output_type": "stream",
          "name": "stdout",
          "text": [
            "16\n"
          ]
        }
      ]
    },
    {
      "cell_type": "code",
      "source": [
        "print(x + y)"
      ],
      "metadata": {
        "colab": {
          "base_uri": "https://localhost:8080/",
          "height": 141
        },
        "id": "Yvx3vo9XC8vD",
        "outputId": "570b7a27-0dd5-440d-f9cc-8ee7e6fc8249"
      },
      "execution_count": null,
      "outputs": [
        {
          "output_type": "error",
          "ename": "NameError",
          "evalue": "name 'y' is not defined",
          "traceback": [
            "\u001b[0;31m---------------------------------------------------------------------------\u001b[0m",
            "\u001b[0;31mNameError\u001b[0m                                 Traceback (most recent call last)",
            "\u001b[0;32m/tmp/ipython-input-53-3598954175.py\u001b[0m in \u001b[0;36m<cell line: 0>\u001b[0;34m()\u001b[0m\n\u001b[0;32m----> 1\u001b[0;31m \u001b[0mprint\u001b[0m\u001b[0;34m(\u001b[0m\u001b[0mx\u001b[0m \u001b[0;34m+\u001b[0m \u001b[0my\u001b[0m\u001b[0;34m)\u001b[0m\u001b[0;34m\u001b[0m\u001b[0;34m\u001b[0m\u001b[0m\n\u001b[0m",
            "\u001b[0;31mNameError\u001b[0m: name 'y' is not defined"
          ]
        }
      ]
    },
    {
      "cell_type": "markdown",
      "source": [
        "##Funções Retorno"
      ],
      "metadata": {
        "id": "vG66lWkKDDAX"
      }
    },
    {
      "cell_type": "markdown",
      "source": [
        "Diferente das outras funções, esta precisa da palavra-chave return ao final. Possui a seguinte estrutura:"
      ],
      "metadata": {
        "id": "1U0u4JIXDKov"
      }
    },
    {
      "cell_type": "code",
      "source": [
        "# Notas do(a) estudante\n",
        "notas = [8.5, 9.0, 6.0, 10.0]"
      ],
      "metadata": {
        "id": "kCwdXEafDIOX"
      },
      "execution_count": null,
      "outputs": []
    },
    {
      "cell_type": "code",
      "source": [
        "def media(lista):\n",
        "    calculo = sum(lista) / len(lista)\n",
        "    return calculo"
      ],
      "metadata": {
        "id": "4MJ9GQoPDMd4"
      },
      "execution_count": null,
      "outputs": []
    },
    {
      "cell_type": "code",
      "source": [
        "resultado = media(notas)"
      ],
      "metadata": {
        "id": "RttCxisuDN2X"
      },
      "execution_count": null,
      "outputs": []
    },
    {
      "cell_type": "code",
      "source": [
        "resultado"
      ],
      "metadata": {
        "colab": {
          "base_uri": "https://localhost:8080/"
        },
        "id": "7UkBrWXADPOX",
        "outputId": "238ca4dc-257e-4818-b81d-32063c056ce1"
      },
      "execution_count": null,
      "outputs": [
        {
          "output_type": "execute_result",
          "data": {
            "text/plain": [
              "8.375"
            ]
          },
          "metadata": {},
          "execution_count": 57
        }
      ]
    },
    {
      "cell_type": "markdown",
      "source": [
        "###Situações"
      ],
      "metadata": {
        "id": "jN7-MdaBDSjX"
      }
    },
    {
      "cell_type": "markdown",
      "source": [
        "Situação 3: Recebemos uma nova demanda, desta vez, de calcular a média de um estudante a partir de uma lista e retornar tanto a média quanto a situação do estudante (\"Aprovado(a)\" se a nota for maior ou igual a 6.0, caso contrário, será \"Reprovado(a)\"). Além disso, precisamos exibir um pequeno texto em que indicamos a média do(a) estudante e qual a situação. Os dados recebidos correspondem a uma lista contendo apenas as notas de um estudante em uma dada matéria."
      ],
      "metadata": {
        "id": "zQB5BuXxDVFj"
      }
    },
    {
      "cell_type": "code",
      "source": [
        "# Notas do(a) estudante\n",
        "notas = [6.0, 7.0, 9.0, 5.0]"
      ],
      "metadata": {
        "id": "Yk54lY0cDYkJ"
      },
      "execution_count": null,
      "outputs": []
    },
    {
      "cell_type": "code",
      "source": [
        "def boletim(lista):\n",
        "    media = sum(lista) / len(lista)\n",
        "\n",
        "    if media >= 6:\n",
        "        situacao = \"Aprovado(a)\"\n",
        "    else:\n",
        "        situacao = \"Reprovado(a)\"\n",
        "\n",
        "    return calculo"
      ],
      "metadata": {
        "id": "R1jGvdRwDbPn"
      },
      "execution_count": null,
      "outputs": []
    },
    {
      "cell_type": "markdown",
      "source": [
        "Lembre-se, porém, que o texto retornado deve apresentar a média e a situação do estudante, então precisamos retornar duas variáveis. Para isso, podemos passá-las como uma tupla, que é uma coleção de valores entre parênteses separados por vírgulas."
      ],
      "metadata": {
        "id": "rL57scSIDjqg"
      }
    },
    {
      "cell_type": "code",
      "source": [
        "def boletim(lista):\n",
        "    media = sum(lista) / len(lista)\n",
        "\n",
        "    if media >= 6:\n",
        "        situacao = \"Aprovado(a)\"\n",
        "    else:\n",
        "        situacao = \"Reprovado(a)\"\n",
        "\n",
        "    return (media, situacao)"
      ],
      "metadata": {
        "id": "7kzvdjdBDksX"
      },
      "execution_count": null,
      "outputs": []
    },
    {
      "cell_type": "code",
      "source": [
        "boletim(notas)"
      ],
      "metadata": {
        "colab": {
          "base_uri": "https://localhost:8080/"
        },
        "id": "t2cLq5wrDmsv",
        "outputId": "5bb71f60-c6c1-440e-a8f0-4fd7aac16611"
      },
      "execution_count": null,
      "outputs": [
        {
          "output_type": "execute_result",
          "data": {
            "text/plain": [
              "(6.75, 'Aprovado(a)')"
            ]
          },
          "metadata": {},
          "execution_count": 61
        }
      ]
    },
    {
      "cell_type": "markdown",
      "source": [
        "Perceba que a tupla pode ter valores de diferentes tipos, já que neste caso temos um número float e uma string. Sua leitura pode ser feita da mesma forma que lemos uma lista, pegando um elemento. Outra opção é passar cada valor para uma variável."
      ],
      "metadata": {
        "id": "BkODSTlZD1hw"
      }
    },
    {
      "cell_type": "code",
      "source": [
        "media, situacao = boletim(notas)"
      ],
      "metadata": {
        "id": "O1ehlyh6D304"
      },
      "execution_count": null,
      "outputs": []
    },
    {
      "cell_type": "code",
      "source": [
        "media"
      ],
      "metadata": {
        "colab": {
          "base_uri": "https://localhost:8080/"
        },
        "id": "JkK6-qDvD4vD",
        "outputId": "408316da-cb11-454a-a060-ad6a5dfcc585"
      },
      "execution_count": null,
      "outputs": [
        {
          "output_type": "execute_result",
          "data": {
            "text/plain": [
              "6.75"
            ]
          },
          "metadata": {},
          "execution_count": 63
        }
      ]
    },
    {
      "cell_type": "code",
      "source": [
        "situacao"
      ],
      "metadata": {
        "colab": {
          "base_uri": "https://localhost:8080/",
          "height": 35
        },
        "id": "38KYfg6lD5Jy",
        "outputId": "f2406b4c-3044-4828-c995-9b78b398ebf2"
      },
      "execution_count": null,
      "outputs": [
        {
          "output_type": "execute_result",
          "data": {
            "text/plain": [
              "'Aprovado(a)'"
            ],
            "application/vnd.google.colaboratory.intrinsic+json": {
              "type": "string"
            }
          },
          "metadata": {},
          "execution_count": 64
        }
      ]
    },
    {
      "cell_type": "code",
      "source": [
        "print(f'O(a) estudante atingiu uma média de {media} e foi {situacao}.')"
      ],
      "metadata": {
        "colab": {
          "base_uri": "https://localhost:8080/"
        },
        "id": "UH9OTUqPD6U4",
        "outputId": "fc2592bd-1355-49af-f9c3-444ba400973e"
      },
      "execution_count": null,
      "outputs": [
        {
          "output_type": "stream",
          "name": "stdout",
          "text": [
            "O(a) estudante atingiu uma média de 6.75 e foi Aprovado(a).\n"
          ]
        }
      ]
    },
    {
      "cell_type": "markdown",
      "source": [
        "###Documentando Funções"
      ],
      "metadata": {
        "id": "NK1cwj3OEEYs"
      }
    },
    {
      "cell_type": "markdown",
      "source": [
        "O `Type Hint` é uma sintaxe utilizada no Python para indicar o tipo de dado esperado de um parâmetro ou retorno de função, auxiliando na legibilidade e manutenção do código. Podemos dizer, em poucas palavras, que ela é a dica de tipagem dos dados."
      ],
      "metadata": {
        "id": "Ofzs2xIoEMdb"
      }
    },
    {
      "cell_type": "code",
      "source": [
        "# a nossa função recebe uma lista do tipo list e retorna uma variável do tipo float\n",
        "def media(lista: list) -> float:\n",
        "  calculo = sum(lista) / len(lista)\n",
        "  return calculo"
      ],
      "metadata": {
        "id": "AJowxXW2ESJ7"
      },
      "execution_count": null,
      "outputs": []
    },
    {
      "cell_type": "markdown",
      "source": [
        "Se escrevermos a função `media()` em outra célula e passarmos o mouse por cima, podemos observar a seguinte imagem apontando as dicas de tipagem dos parâmetros de entrada e retorno da função:"
      ],
      "metadata": {
        "id": "2U7QpBhZEWQT"
      }
    },
    {
      "cell_type": "code",
      "source": [
        "media()"
      ],
      "metadata": {
        "id": "wo4N44y1EXl1"
      },
      "execution_count": null,
      "outputs": []
    },
    {
      "cell_type": "markdown",
      "source": [
        "No Python, o `Default Value` é um valor padrão atribuído a um argumento de função que é utilizado caso nenhum valor seja passado pelo usuário."
      ],
      "metadata": {
        "id": "MjP5K5NUEeeb"
      }
    },
    {
      "cell_type": "code",
      "source": [
        "# a nossa função recebe uma lista do tipo list e retorna uma variável do tipo float\n",
        "# caso não recebe nenhum valor de parâmetro será passada uma lista com um único\n",
        "# elemento sendo ele zero\n",
        "def media(lista: list=[0]) -> float:\n",
        "  calculo = sum(lista) / len(lista)\n",
        "  return calculo"
      ],
      "metadata": {
        "id": "EjKHRObwEgDH"
      },
      "execution_count": null,
      "outputs": []
    },
    {
      "cell_type": "markdown",
      "source": [
        "se escrevermos a função media() em outra célula e passarmos o mouse por cima, podemos observar o que está na imagem abaixo. Nela temos apontado tanto as dicas de tipagem dos parâmetros de entrada e retorno da função, quanto o valor padrão para nossa lista, caso a pessoa usuária não passe nenhum valor na execução."
      ],
      "metadata": {
        "id": "YavAI2FOElxQ"
      }
    },
    {
      "cell_type": "code",
      "source": [
        "media()"
      ],
      "metadata": {
        "colab": {
          "base_uri": "https://localhost:8080/"
        },
        "id": "BaKYImHxEmVL",
        "outputId": "8e327459-e0e2-417a-dd81-4d630252ee18"
      },
      "execution_count": null,
      "outputs": [
        {
          "output_type": "execute_result",
          "data": {
            "text/plain": [
              "0.0"
            ]
          },
          "metadata": {},
          "execution_count": 69
        }
      ]
    },
    {
      "cell_type": "markdown",
      "source": [
        "Por fim, temos o `Docstring` que é uma string literal usada para documentar módulo, função, classe ou método em Python. Ela é colocada como o primeiro item de definição e pode ser acessada usando a função help()."
      ],
      "metadata": {
        "id": "6lugxWG0Es4v"
      }
    },
    {
      "cell_type": "code",
      "source": [
        "def media(lista: list=[0]) -> float:\n",
        "  ''' Função para calcular a média de notas passadas por uma lista\n",
        "\n",
        "  lista: list, default [0]\n",
        "    Lista com as notas para calcular a média\n",
        "  return = calculo: float\n",
        "    Média calculada\n",
        "  '''\n",
        "  calculo = sum(lista) / len(lista)\n",
        "  return calculo"
      ],
      "metadata": {
        "id": "ht3pSzbREvj3"
      },
      "execution_count": null,
      "outputs": []
    },
    {
      "cell_type": "markdown",
      "source": [
        "Se executarmos o código `help(media)` em uma outra célula, temos a seguinte saída:"
      ],
      "metadata": {
        "id": "9ARyaQiJEyB_"
      }
    },
    {
      "cell_type": "code",
      "source": [
        "help(media)"
      ],
      "metadata": {
        "colab": {
          "base_uri": "https://localhost:8080/"
        },
        "id": "4rhjJ7G6Env9",
        "outputId": "a831b453-b9df-4136-8e05-1620fa4a1660"
      },
      "execution_count": null,
      "outputs": [
        {
          "output_type": "stream",
          "name": "stdout",
          "text": [
            "Help on function media in module __main__:\n",
            "\n",
            "media(lista: list = [0]) -> float\n",
            "    Função para calcular a média de notas passadas por uma lista\n",
            "    \n",
            "    lista: list, default [0]\n",
            "      Lista com as notas para calcular a média\n",
            "    return = calculo: float\n",
            "      Média calculada\n",
            "\n"
          ]
        }
      ]
    },
    {
      "cell_type": "markdown",
      "source": [
        "##Funcoes Lambda"
      ],
      "metadata": {
        "id": "I4EUENv5E-dX"
      }
    },
    {
      "cell_type": "markdown",
      "source": [
        "Uma função lambda, também chamada de função anônima, não precisa ser definida, ou seja, não possui um nome. Além disso, pode ser descrita uma única linha."
      ],
      "metadata": {
        "id": "KUBzMc2XFDhH"
      }
    },
    {
      "cell_type": "markdown",
      "source": [
        "###Situações"
      ],
      "metadata": {
        "id": "CB2gKxz5FHRp"
      }
    },
    {
      "cell_type": "markdown",
      "source": [
        "Situação 4: Nesta nova demanda, precisamos criar uma calculadora simples da média ponderada de notas de uma dada matéria. Vamos requisitar ao usuário a entrada das 3 notas (N1, N2, N3) do estudante e devolver a média ponderada deste estudante. Os pesos das notas são de, respectivamente 3, 2, 5. Precisamos exibir um pequeno texto em que indicamos a média do(a) estudante. Vamos resolver esse desafio?"
      ],
      "metadata": {
        "id": "5kGj5BaLFJpc"
      }
    },
    {
      "cell_type": "code",
      "source": [
        "# Comparando uma função de qualitativo no formato de função para função anônima\n",
        "nota = float(input(\"Digite a nota do(a) estudante: \"))\n",
        "\n",
        "def qualitativo(x):\n",
        "    return x + 0.5\n",
        "\n",
        "qualitativo(nota)"
      ],
      "metadata": {
        "colab": {
          "base_uri": "https://localhost:8080/"
        },
        "id": "mwpkJDnkFIlA",
        "outputId": "fa2aed56-50f3-4c29-b330-96f9e65660e4"
      },
      "execution_count": null,
      "outputs": [
        {
          "name": "stdout",
          "output_type": "stream",
          "text": [
            "Digite a nota do(a) estudante: 9\n"
          ]
        },
        {
          "output_type": "execute_result",
          "data": {
            "text/plain": [
              "9.5"
            ]
          },
          "metadata": {},
          "execution_count": 72
        }
      ]
    },
    {
      "cell_type": "code",
      "source": [
        "# Testando a mesma função para uma função lambda\n",
        "nota = float(input(\"Digite a nota do(a) estudante: \"))\n",
        "\n",
        "qualitativo = lambda x: x + 0.5\n",
        "\n",
        "qualitativo(nota)"
      ],
      "metadata": {
        "colab": {
          "base_uri": "https://localhost:8080/"
        },
        "id": "A4tbnNm1FYcH",
        "outputId": "29515955-0e11-46b3-9bf5-1f1c732f7d84"
      },
      "execution_count": null,
      "outputs": [
        {
          "name": "stdout",
          "output_type": "stream",
          "text": [
            "Digite a nota do(a) estudante: 8\n"
          ]
        },
        {
          "output_type": "execute_result",
          "data": {
            "text/plain": [
              "8.5"
            ]
          },
          "metadata": {},
          "execution_count": 73
        }
      ]
    },
    {
      "cell_type": "code",
      "source": [
        "# Recebendo as notas e calculando a média ponderável\n",
        "N1 = float(input(\"Digite a 1ª nota do(a) estudante: \"))\n",
        "N2 = float(input(\"Digite a 2ª nota do(a) estudante: \"))\n",
        "N3 = float(input(\"Digite a 3ª nota do(a) estudante: \"))\n",
        "\n",
        "media_ponderavel = lambda x, y, z: (x * 3 + y * 2 + z * 5)/10\n",
        "media_estudante = media_ponderavel(N1, N2, N3)\n",
        "media_estudante"
      ],
      "metadata": {
        "colab": {
          "base_uri": "https://localhost:8080/"
        },
        "id": "lEyPykUgFb43",
        "outputId": "44c58fa5-77a9-426f-827a-bfafa187ae59"
      },
      "execution_count": null,
      "outputs": [
        {
          "name": "stdout",
          "output_type": "stream",
          "text": [
            "Digite a 1ª nota do(a) estudante: 8\n",
            "Digite a 2ª nota do(a) estudante: 5\n",
            "Digite a 3ª nota do(a) estudante: 9\n"
          ]
        },
        {
          "output_type": "execute_result",
          "data": {
            "text/plain": [
              "7.9"
            ]
          },
          "metadata": {},
          "execution_count": 74
        }
      ]
    },
    {
      "cell_type": "code",
      "source": [
        "# Exibindo a média\n",
        "print(f'O(a) estudante atingiu uma média de {media_estudante}')"
      ],
      "metadata": {
        "colab": {
          "base_uri": "https://localhost:8080/"
        },
        "id": "Bi3gK8shFw4X",
        "outputId": "a3579261-c1d4-4e30-8429-45235390afda"
      },
      "execution_count": null,
      "outputs": [
        {
          "output_type": "stream",
          "name": "stdout",
          "text": [
            "O(a) estudante atingiu uma média de 7.9\n"
          ]
        }
      ]
    },
    {
      "cell_type": "markdown",
      "source": [
        "Existe, ainda, outro método de utilização da função lambda, que possui muito mais potencial e é bastante usado por cientistas de dados: atrelar a função lambda ao map.\n",
        "\n",
        "O map é uma _BUILT-IN FUNCTIONS que mapeia valores. Quando usado junto à lambda, conseguimos realizar funções simples e rápidas que nos permitem alterar valores de variáveis, listas e até dicionários."
      ],
      "metadata": {
        "id": "jHakn3YyF5It"
      }
    },
    {
      "cell_type": "markdown",
      "source": [
        "### Utilizando o `MAP`"
      ],
      "metadata": {
        "id": "N4dSUAeFF6Nz"
      }
    },
    {
      "cell_type": "markdown",
      "source": [
        "Situação 5: Recebemos mais uma demanda, desta vez, para criar uma pequena função que pudesse adicionar qualitativo (pontuação extra) às notas do trimestre dos estudantes da turma que ganhou a gincana de programação promovida pela escola. Cada estudante receberá o qualitativo de 0.5 acrescido à média. Os dados recebidos correspondem a uma lista contendo as notas de alguns estudantes e uma variável com o qualitativo recebido."
      ],
      "metadata": {
        "id": "K__-4oJZF-hr"
      }
    },
    {
      "cell_type": "code",
      "source": [
        "# Notas do(a) estudante\n",
        "notas = [6.0, 7.0, 9.0, 5.5, 8.0]\n",
        "qualitativo = 0.5"
      ],
      "metadata": {
        "id": "trbJblU1F9nj"
      },
      "execution_count": null,
      "outputs": []
    },
    {
      "cell_type": "code",
      "source": [
        "notas_atualizadas = lambda x: x + qualitativo\n",
        "notas_atualizadas(notas)"
      ],
      "metadata": {
        "colab": {
          "base_uri": "https://localhost:8080/",
          "height": 228
        },
        "id": "OGg9a0x6GFVL",
        "outputId": "ca994ddc-c56e-4ce3-a454-f98a06fa16fe"
      },
      "execution_count": null,
      "outputs": [
        {
          "output_type": "error",
          "ename": "TypeError",
          "evalue": "can only concatenate list (not \"float\") to list",
          "traceback": [
            "\u001b[0;31m---------------------------------------------------------------------------\u001b[0m",
            "\u001b[0;31mTypeError\u001b[0m                                 Traceback (most recent call last)",
            "\u001b[0;32m/tmp/ipython-input-77-3570108379.py\u001b[0m in \u001b[0;36m<cell line: 0>\u001b[0;34m()\u001b[0m\n\u001b[1;32m      1\u001b[0m \u001b[0mnotas_atualizadas\u001b[0m \u001b[0;34m=\u001b[0m \u001b[0;32mlambda\u001b[0m \u001b[0mx\u001b[0m\u001b[0;34m:\u001b[0m \u001b[0mx\u001b[0m \u001b[0;34m+\u001b[0m \u001b[0mqualitativo\u001b[0m\u001b[0;34m\u001b[0m\u001b[0;34m\u001b[0m\u001b[0m\n\u001b[0;32m----> 2\u001b[0;31m \u001b[0mnotas_atualizadas\u001b[0m\u001b[0;34m(\u001b[0m\u001b[0mnotas\u001b[0m\u001b[0;34m)\u001b[0m\u001b[0;34m\u001b[0m\u001b[0;34m\u001b[0m\u001b[0m\n\u001b[0m",
            "\u001b[0;32m/tmp/ipython-input-77-3570108379.py\u001b[0m in \u001b[0;36m<lambda>\u001b[0;34m(x)\u001b[0m\n\u001b[0;32m----> 1\u001b[0;31m \u001b[0mnotas_atualizadas\u001b[0m \u001b[0;34m=\u001b[0m \u001b[0;32mlambda\u001b[0m \u001b[0mx\u001b[0m\u001b[0;34m:\u001b[0m \u001b[0mx\u001b[0m \u001b[0;34m+\u001b[0m \u001b[0mqualitativo\u001b[0m\u001b[0;34m\u001b[0m\u001b[0;34m\u001b[0m\u001b[0m\n\u001b[0m\u001b[1;32m      2\u001b[0m \u001b[0mnotas_atualizadas\u001b[0m\u001b[0;34m(\u001b[0m\u001b[0mnotas\u001b[0m\u001b[0;34m)\u001b[0m\u001b[0;34m\u001b[0m\u001b[0;34m\u001b[0m\u001b[0m\n",
            "\u001b[0;31mTypeError\u001b[0m: can only concatenate list (not \"float\") to list"
          ]
        }
      ]
    },
    {
      "cell_type": "markdown",
      "source": [
        "Ao rodar esta célula, perceba que obtivemos um erro. Isso ocorre porque só conseguimos concatenar (juntar) uma lista com outra lista, mas não com um float. Ou seja, o `x` é lido como uma lista completa e não cada um de seus elementos separadamente. Além disso, qualitativo é do tipo `float`."
      ],
      "metadata": {
        "id": "B_ruoW3PGL2_"
      }
    },
    {
      "cell_type": "code",
      "source": [
        "# Não conseguimos aplicar o lambda em lista direto, é necessário utilizarmos junto a ela a função map\n",
        "notas_atualizadas = map(lambda x: x + qualitativo, notas)\n",
        "notas_atualizadas"
      ],
      "metadata": {
        "colab": {
          "base_uri": "https://localhost:8080/"
        },
        "id": "0JqnhJKZGUHj",
        "outputId": "b46a02b5-db04-42c9-f828-3d5488b1da0d"
      },
      "execution_count": null,
      "outputs": [
        {
          "output_type": "execute_result",
          "data": {
            "text/plain": [
              "<map at 0x7d5cfb675270>"
            ]
          },
          "metadata": {},
          "execution_count": 78
        }
      ]
    },
    {
      "cell_type": "markdown",
      "source": [
        "O resultado do código anterior trata-se de um objeto do tipo mapa que mapeou os valores. Para conseguimos visualizá-lo, precisamos usar uma _BUILT-IN FUNCTIONS chamada list que transforma o objeto mapa em uma lista."
      ],
      "metadata": {
        "id": "GtVSKWXTGb2Y"
      }
    },
    {
      "cell_type": "code",
      "source": [
        "notas_atualizadas = list(notas_atualizadas)"
      ],
      "metadata": {
        "id": "QwNOSJu9GbII"
      },
      "execution_count": null,
      "outputs": []
    },
    {
      "cell_type": "code",
      "source": [
        "notas_atualizadas"
      ],
      "metadata": {
        "colab": {
          "base_uri": "https://localhost:8080/"
        },
        "id": "MCUYZV_VGhJD",
        "outputId": "375dc7e2-f063-41dc-dd61-99a13b7a95c3"
      },
      "execution_count": null,
      "outputs": [
        {
          "output_type": "execute_result",
          "data": {
            "text/plain": [
              "[6.5, 7.5, 9.5, 6.0, 8.5]"
            ]
          },
          "metadata": {},
          "execution_count": 84
        }
      ]
    },
    {
      "cell_type": "code",
      "source": [
        "notas"
      ],
      "metadata": {
        "colab": {
          "base_uri": "https://localhost:8080/"
        },
        "id": "742cvnxAGmCM",
        "outputId": "09b637ad-2a4d-4df7-abfe-7dd9914c4828"
      },
      "execution_count": null,
      "outputs": [
        {
          "output_type": "execute_result",
          "data": {
            "text/plain": [
              "[6.0, 7.0, 9.0, 5.5, 8.0]"
            ]
          },
          "metadata": {},
          "execution_count": 85
        }
      ]
    },
    {
      "cell_type": "markdown",
      "source": [
        "\n",
        "\n",
        "---\n",
        "\n"
      ],
      "metadata": {
        "id": "w8ilG4XRHGsn"
      }
    },
    {
      "cell_type": "markdown",
      "source": [
        "###HORA DA PRÁTICA"
      ],
      "metadata": {
        "id": "K7CzVsRsHHrg"
      }
    },
    {
      "cell_type": "code",
      "source": [
        "#1. Escreva um código que lê a lista abaixo e faça:\n",
        "#A leitura do tamanho da lista\n",
        "#A leitura do maior e menor valor\n",
        "#A soma dos valores da lista\n",
        "#Ao final exiba uma mensagem dizendo:\n",
        "#\"A lista possui [tam] números em que o maior número é [maior] e o menor número é [menor]. A soma dos valores presentes nela é igual a [soma]\"\n",
        "\n",
        "lista = [16, 14, 63, 65, 17, 99, 70, 11, 20, 48, 79, 32, 17, 89, 12, 25, 66]\n",
        "\n",
        "tamanho = len(lista)\n",
        "maior = max(lista)\n",
        "menor = min(lista)\n",
        "soma = sum(lista)\n",
        "\n",
        "print(f'A lista possui {tamanho} números em que o maior número é {maior} e o menor número é {menor}. A soma dos valores presentes nela é igual a {soma}')\n"
      ],
      "metadata": {
        "colab": {
          "base_uri": "https://localhost:8080/"
        },
        "id": "kFuu0fneHLgT",
        "outputId": "252fae37-a2dd-49bf-f415-b7915266178b"
      },
      "execution_count": null,
      "outputs": [
        {
          "output_type": "stream",
          "name": "stdout",
          "text": [
            "A lista possui 17 números em que o maior número é 99 e o menor número é 11. A soma dos valores presentes nela é igual a 743\n"
          ]
        }
      ]
    },
    {
      "cell_type": "code",
      "source": [
        "#2. Escreva uma função que gere a tabuada de um número inteiro de 1 a 10, de acordo com a escolha da pessoa usuária. Como exemplo, para o número 7, a tabuada deve ser mostrada no seguinte formato:\n",
        "\n",
        "def taboada(num):\n",
        "  for i in range(1, 11):\n",
        "    print(f'{num} x {i} = {num * i}')\n",
        "\n",
        "taboada(int(input('Digite um número de 1 a 10:')))"
      ],
      "metadata": {
        "colab": {
          "base_uri": "https://localhost:8080/"
        },
        "id": "TcK-F_RYHjXT",
        "outputId": "2918c40e-a46b-4be9-a0a3-3a7d3f0f221b"
      },
      "execution_count": null,
      "outputs": [
        {
          "output_type": "stream",
          "name": "stdout",
          "text": [
            "Digite um número de 1 a 10:8\n",
            "8 x 1 = 8\n",
            "8 x 2 = 16\n",
            "8 x 3 = 24\n",
            "8 x 4 = 32\n",
            "8 x 5 = 40\n",
            "8 x 6 = 48\n",
            "8 x 7 = 56\n",
            "8 x 8 = 64\n",
            "8 x 9 = 72\n",
            "8 x 10 = 80\n"
          ]
        }
      ]
    },
    {
      "cell_type": "code",
      "source": [
        "#3. Crie a função que leia a lista abaixo e retorne uma nova lista com os múltiplos de 3:\n",
        "lista = [97, 80, 94, 88, 80, 1, 16, 53, 62, 32, 24, 99]\n",
        "\n",
        "def multiplosDeTres(lista):\n",
        "  listaMultiplosDeTres = []\n",
        "  for numero in lista:\n",
        "    if numero % 3 == 0:\n",
        "      listaMultiplosDeTres.append(numero)\n",
        "  return listaMultiplosDeTres\n",
        "\n",
        "mult_3 = multiplosDeTres(lista)\n",
        "mult_3"
      ],
      "metadata": {
        "colab": {
          "base_uri": "https://localhost:8080/"
        },
        "id": "oI-rwOlTIANj",
        "outputId": "16de806b-d464-41b6-a3f2-8d86bb644ff5"
      },
      "execution_count": null,
      "outputs": [
        {
          "output_type": "execute_result",
          "data": {
            "text/plain": [
              "[24, 99]"
            ]
          },
          "metadata": {},
          "execution_count": 92
        }
      ]
    },
    {
      "cell_type": "code",
      "source": [
        "#4. Crie uma lista dos quadrados dos números da seguinte lista [1, 2, 3, 4, 5, 6, 7, 8, 9, 10]. Lembre-se de utilizar as funções lambda e map() para calcular o quadrado de cada elemento da lista.\n",
        "from math import pow\n",
        "listaBase = [1, 2, 3, 4, 5, 6, 7, 8, 9, 10]\n",
        "listaQuadrado = list(map(lambda x: int(pow(x,2)), listaBase))\n",
        "listaQuadrado"
      ],
      "metadata": {
        "colab": {
          "base_uri": "https://localhost:8080/"
        },
        "id": "qWUC383pIY8f",
        "outputId": "077ebe6b-2fb8-4202-e38f-8e1c6da211f0"
      },
      "execution_count": null,
      "outputs": [
        {
          "output_type": "execute_result",
          "data": {
            "text/plain": [
              "[1, 4, 9, 16, 25, 36, 49, 64, 81, 100]"
            ]
          },
          "metadata": {},
          "execution_count": 95
        }
      ]
    },
    {
      "cell_type": "code",
      "source": [
        "#5. Você foi contratado(a) como cientista de dados de uma associação de skate. Para analisar as notas recebidas de skatistas em algumas competições ao longo do ano, você precisa criar um código que calcula a pontuação dos(as) atletas. Para isso, o seu código deve receber 5 notas digitadas pelas pessoas juradas.\n",
        "#Para calcular a pontuação de um(a) skatista, você precisa eliminar a maior e a menor pontuação dentre as 5 notas e tirar a média das 3 notas que sobraram. Retorne a média para apresentar o texto:\n",
        "#\"Nota da manobra: [media]\"\n",
        "\n",
        "def calculaNota(listaNotas):\n",
        "  listaNotas.remove(max(listaNotas))\n",
        "  listaNotas.remove(min(listaNotas))\n",
        "  media = sum(listaNotas) / len(listaNotas)\n",
        "  return media\n",
        "\n",
        "listaNotas = []\n",
        "for i in range(1, 6):\n",
        "  nota = float(input(f'Digite a {i}ª nota:'))\n",
        "  listaNotas.append(nota)\n",
        "\n",
        "media = calculaNota(listaNotas)\n",
        "print(f'Nota da manobra: {media}')"
      ],
      "metadata": {
        "colab": {
          "base_uri": "https://localhost:8080/"
        },
        "id": "rJleZ9ZRIyOA",
        "outputId": "a14c123c-5c36-4b16-b87e-7da5a8c9fb7f"
      },
      "execution_count": null,
      "outputs": [
        {
          "output_type": "stream",
          "name": "stdout",
          "text": [
            "Digite a 1ª nota:1\n",
            "Digite a 2ª nota:3\n",
            "Digite a 3ª nota:3\n",
            "Digite a 4ª nota:3\n",
            "Digite a 5ª nota:5\n",
            "Nota da manobra: 3.0\n"
          ]
        }
      ]
    },
    {
      "cell_type": "code",
      "source": [
        "# 6. Para atender a uma demanda de uma instituição de ensino para a análise do desempenho de seus(suas) estudantes, você precisa criar uma função que receba uma lista de 4 notas e retorne:\n",
        "#maior nota\n",
        "3#menor nota\n",
        "#média\n",
        "#situação (Aprovado(a) ou Reprovado(a))\n",
        "#Para testar o comportamento da função, os dados podem ser exibidos em um texto:\n",
        "#\"O(a) estudante obteve uma média de [media], com a sua maior nota de [maior] pontos e a menor nota de [menor] pontos e foi [situacao]\"\n",
        "\n",
        "def calculaNotas(listaNotas):\n",
        "  maiorNota = max(listaNotas)\n",
        "  menorNota = min(listaNotas)\n",
        "  media = sum(listaNotas) / len(listaNotas)\n",
        "  situacao = lambda x: 'Aprovado(a)'if x >= 6 else 'Reprovado(a)'\n",
        "  return maiorNota, menorNota, media, situacao(media)\n",
        "\n",
        "listaNotas = []\n",
        "for i in range(1, 5):\n",
        "  nota = float(input(f'Digite a {i}ª nota:'))\n",
        "  listaNotas.append(nota)\n",
        "\n",
        "maiorNota, menorNota, media, situacao = calculaNotas(listaNotas)\n",
        "print(f'O(a) estudante obteve uma média de {media}, com a sua maior nota de {maiorNota} pontos e a menor nota de {menorNota} pontos e foi {situacao}')\n"
      ],
      "metadata": {
        "colab": {
          "base_uri": "https://localhost:8080/"
        },
        "id": "fLw_-rhqJsYj",
        "outputId": "1506ee5f-ce6c-4e73-d694-4c2a61730ba9"
      },
      "execution_count": null,
      "outputs": [
        {
          "output_type": "stream",
          "name": "stdout",
          "text": [
            "Digite a 1ª nota:1\n",
            "Digite a 2ª nota:3\n",
            "Digite a 3ª nota:3\n",
            "Digite a 4ª nota:5\n",
            "O(a) estudante obteve uma média de 3.0, com a sua maior nota de 5.0 pontos e a menor nota de 1.0 pontos e foi Reprovado(a)\n"
          ]
        }
      ]
    },
    {
      "cell_type": "code",
      "source": [
        "#7. Você recebeu uma demanda para tratar 2 listas com os nomes e sobrenomes de cada estudante concatenando-as para apresentar seus nomes completos na forma Nome Sobrenome. As listas são:\n",
        "\n",
        "nomes = [\"joão\", \"MaRia\", \"JOSÉ\"]\n",
        "sobrenomes = [\"SILVA\", \"souza\", \"Tavares\"]\n",
        "\n",
        "def tratarNome (listaNomes, listaSobrenomes):\n",
        "  listaNomes = list(map(lambda x: x.capitalize(), listaNomes))\n",
        "  listaSobrenomes = list(map(lambda x: x.capitalize(), listaSobrenomes))\n",
        "  listaCompleta = []\n",
        "  for i in range(len(listaNomes)):\n",
        "    listaCompleta.append(listaNomes[i] + ' ' + listaSobrenomes[i])\n",
        "  return listaCompleta\n",
        "\n",
        "listaCompleta = tratarNome(nomes, sobrenomes)\n",
        "for i in listaCompleta:\n",
        "  print('Nome Completo:', i)\n"
      ],
      "metadata": {
        "colab": {
          "base_uri": "https://localhost:8080/"
        },
        "id": "jrUjStjNKlJ7",
        "outputId": "feff7709-2c40-4c31-96c1-ef555a74c888"
      },
      "execution_count": null,
      "outputs": [
        {
          "output_type": "stream",
          "name": "stdout",
          "text": [
            "Nome Completo: João Silva\n",
            "Nome Completo: Maria Souza\n",
            "Nome Completo: José Tavares\n"
          ]
        }
      ]
    },
    {
      "cell_type": "code",
      "source": [
        "#8. Como cientista de dados em um time de futebol, você precisa implementar novas formas de coleta de dados sobre o desempenho de jogadores e do time como um todo. Sua primeira ação é criar uma forma de calcular a pontuação do time no campeonato nacional a partir dos dados de gols marcados e sofridos em cada jogo.\n",
        "#Escreva uma função chamada calcula_pontos que recebe como parâmetros duas listas de números inteiros, representando os gols marcados e sofridos pelo time em cada partida do campeonato. A função deve retornar a pontuação do time e o aproveitamento em percentual, levando em consideração que a vitória vale 3 pontos, o empate vale 1 ponto e a derrota 0 pontos.\n",
        "#Observação: se a quantidade de gols marcados numa partida for maior que a de sofridos, o time venceu. Caso seja igual, o time empatou e se for menor, o time perdeu. Para calcular o aproveitamento devemos fazer a razão entre a pontuação do time pela pontuação máxima que ele poderia receber.\n",
        "#texto a ser exibido: \"A pontuação do time foi de [pontos] e seu aproveitamento foi de [aprov]%\"\n",
        "gols_marcados = [2, 1, 3, 1, 0]\n",
        "gols_sofridos = [1, 2, 2, 1, 3]\n",
        "\n",
        "def ganhouPerdeu (listaGolsMarcados, listaGolsSofridos):\n",
        "  pontos = 0\n",
        "  for i in range(len(listaGolsMarcados)):\n",
        "    if listaGolsMarcados[i] > listaGolsSofridos[i]:\n",
        "      pontos += 3\n",
        "    elif listaGolsMarcados[i] == listaGolsSofridos[i]:\n",
        "      pontos += 1\n",
        "    elif listaGolsMarcados[i] < listaGolsSofridos[i]:\n",
        "      pontos += 0\n",
        "  return pontos\n",
        "\n",
        "pontoMaximo = len(gols_marcados) * 3\n",
        "pontuacaoTime = ganhouPerdeu(gols_marcados, gols_sofridos)\n",
        "aproveitamento = (pontuacaoTime / pontoMaximo) * 100\n",
        "print(f'A pontuação do time foi de {pontuacaoTime} e seu aproveitamento foi de {aproveitamento:.2f}%')"
      ],
      "metadata": {
        "colab": {
          "base_uri": "https://localhost:8080/"
        },
        "id": "NlWtmJ5INPyY",
        "outputId": "10016d47-1407-42ec-b9b7-39e4a2a15fd9"
      },
      "execution_count": null,
      "outputs": [
        {
          "output_type": "stream",
          "name": "stdout",
          "text": [
            "A pontuação do time foi de 7 e seu aproveitamento foi de 46.67%\n"
          ]
        }
      ]
    },
    {
      "cell_type": "code",
      "source": [
        "#9. Você recebeu o desafio de criar um código que calcula os gastos de uma viagem para um das quatro cidades partindo de Recife, sendo elas: Salvador, Fortaleza, Natal e Aracaju.\n",
        "#O custo da diária do hotel é de 150 reais em todas elas e o consumo de gasolina na viagem de carro é de 14 km/l, sendo que o valor da gasolina é de 5 reais o litro. O gastos com passeios e alimentação a se fazer em cada uma delas por dia seria de [200, 400, 250, 300], respectivamente.\n",
        "#Sabendo que as distâncias entre Recife e cada uma das cidades é de aproximadamente [850, 800, 300, 550] km, crie três funções nas quais: a 1ª função calcule os gastos com hotel (gasto_hotel), a 2ª calcule os gastos com a gasolina (gasto_gasolina) e a 3ª os gastos com passeio e alimentação (gasto_passeio).\n",
        "#Para testar, simule uma viagem de 3 dias para Salvador partindo de Recife. Considere a viagem de ida e volta de carro.\n",
        "#\"Com base nos gastos definidos, uma viagem de [dias] dias para [cidade] saindo de Recife custaria [gastos] reais\"\n",
        "\n",
        "#partida = Recife\n",
        "#destinos = Salvador, Fortaleza, Natal e Aracaju\n",
        "\n",
        "dias = int(input('Quantos dias você quer viajar: '))\n",
        "ondeIr = int(input('Digite 0 para Salvador, 1 para Fortaleza, 2 para Natal e 3 para Aracaju: '))\n",
        "diariaHotel = 150\n",
        "consumoCarroKm = 14\n",
        "PrecoGasolina = 5\n",
        "destinos = {0: 'Salvador', 1: 'Fortaleza', 2: 'Natal', 3: 'Aracaju'}\n",
        "gastoViagem = [200, 400, 250, 300]\n",
        "distancia = [850, 800, 300, 550]\n",
        "\n",
        "def gasto_hotel(dias, diariaHotel):\n",
        "  return dias * diariaHotel\n",
        "\n",
        "def gasto_gasolina(distancia, consumoCarroKm, PrecoGasolina):\n",
        "  return (distancia / consumoCarroKm) * PrecoGasolina\n",
        "\n",
        "def gasto_passeio(dias, gastoViagem):\n",
        "  return dias * gastoViagem\n",
        "\n",
        "cidade = destinos[ondeIr]\n",
        "gastos = gasto_hotel(dias, diariaHotel) + gasto_gasolina(distancia[ondeIr], consumoCarroKm, PrecoGasolina) + gasto_passeio(dias, gastoViagem[ondeIr])\n",
        "print(f'Com base nos gastos definidos, uma viagem de {dias} dias para {cidade} saindo de Recife custaria, aproximadamente, {gastos:.2f} reais')"
      ],
      "metadata": {
        "colab": {
          "base_uri": "https://localhost:8080/"
        },
        "id": "30-tZgGeOdTb",
        "outputId": "89de55b9-b072-446e-9db8-c42728eba0a1"
      },
      "execution_count": null,
      "outputs": [
        {
          "output_type": "stream",
          "name": "stdout",
          "text": [
            "Quantos dias você quer viajar: 3\n",
            "Digite 0 para Salvador, 1 para Fortaleza, 2 para Natal e 3 para Aracaju: 0\n",
            "Com base nos gastos definidos, uma viagem de 3 dias para Salvador saindo de Recife custaria, aproximadamente, 1353.57 reais\n"
          ]
        }
      ]
    },
    {
      "cell_type": "code",
      "source": [
        "#10. Você iniciou um estágio em uma empresa que trabalha com processamento de linguagem natural (NLP). Sua líder requisitou que você criasse um trecho de código que recebe uma frase digitada pela pessoa usuária e filtre apenas as palavras com tamanho maior ou igual a 5, exibindo-as em uma lista. Essa demanda é voltada para a análise do padrão de comportamento de pessoas na escrita de palavras acima dessa quantidade de caracteres.\n",
        "frase = input('Digite uma frase: ')\n",
        "frase = frase.replace(',',' ').replace('.',' ').replace('!',' ').replace('?',' ').split()\n",
        "\n",
        "palavras = filter(lambda x: len(x) >= 5, frase)\n",
        "list(palavras)"
      ],
      "metadata": {
        "colab": {
          "base_uri": "https://localhost:8080/"
        },
        "id": "chACg_z8R6Pv",
        "outputId": "231e3132-6aed-4f17-dccd-0609ff4fc987"
      },
      "execution_count": null,
      "outputs": [
        {
          "name": "stdout",
          "output_type": "stream",
          "text": [
            "Digite uma frase: Aprender Python aqui na Alura é muito bom\n"
          ]
        },
        {
          "output_type": "execute_result",
          "data": {
            "text/plain": [
              "['Aprender', 'Python', 'Alura', 'muito']"
            ]
          },
          "metadata": {},
          "execution_count": 134
        }
      ]
    },
    {
      "cell_type": "markdown",
      "source": [
        "#3. Estrutura de Dados"
      ],
      "metadata": {
        "id": "KcTVEENIU04s"
      }
    },
    {
      "cell_type": "markdown",
      "source": [
        "##LIsta de Listas"
      ],
      "metadata": {
        "id": "UgE70lTtK6cQ"
      }
    },
    {
      "cell_type": "markdown",
      "source": [
        "Uma lista é uma coleção ordenada de elementos que podem ser ou não do mesmo tipo. Podemos ter strings, números, tuplas e até mesmo listas."
      ],
      "metadata": {
        "id": "FhfKrIU2LBKx"
      }
    },
    {
      "cell_type": "code",
      "source": [
        "#Formato padrão:\n",
        "[[a1, a2,...,an], [b1, b2,...,bn], ..., [n1, n2,...,nn]]"
      ],
      "metadata": {
        "id": "PDGq0eppVALV"
      },
      "execution_count": null,
      "outputs": []
    },
    {
      "cell_type": "markdown",
      "source": [
        "###Situação 6"
      ],
      "metadata": {
        "id": "yWSe7GrCLKu4"
      }
    },
    {
      "cell_type": "markdown",
      "source": [
        "Recebemos a demanda de transformar uma lista com o nome e as notas dos três trimestres de estudantes em uma lista simples com os nomes separados das notas e uma lista de listas com as três notas de cada estudante separadas umas das outras.\n",
        "\n",
        "Os dados recebidos correspondem a uma lista com os nomes e as respectivas notas de cada estudante. Vamos resolver esse desafio? Para facilitar o nosso entendimento do processo vamos trabalhar com uma turma fictícia de 5 estudantes."
      ],
      "metadata": {
        "id": "xBef0rsZLH7a"
      }
    },
    {
      "cell_type": "code",
      "source": [
        "notas_turma = ['João', 8.0, 9.0, 10.0,\n",
        "               'Maria', 9.0, 7.0, 6.0,\n",
        "               'José', 3.4, 7.0, 7.0,\n",
        "               'Cláudia', 5.5, 6.6, 8.0,\n",
        "               'Ana', 6.0, 10.0, 9.5]"
      ],
      "metadata": {
        "id": "FgvNCV-QLNmi"
      },
      "execution_count": null,
      "outputs": []
    },
    {
      "cell_type": "markdown",
      "source": [
        "Primeiro, podemos tentar separar os nomes das listas. Vamos gerar duas listas vazias, uma com nomes e outra com as notas_juntas"
      ],
      "metadata": {
        "id": "Ya8h1TmWLXxt"
      }
    },
    {
      "cell_type": "code",
      "source": [
        "nomes = []\n",
        "notas_juntas = []\n",
        "\n",
        "for i in range(len(notas_turma)):\n",
        "  if i % 4 ==0:\n",
        "      nomes.append(notas_turma[i])\n",
        "  else:\n",
        "      notas_juntas.append(notas_turma[i])"
      ],
      "metadata": {
        "id": "V_KPSQP9LZEp"
      },
      "execution_count": null,
      "outputs": []
    },
    {
      "cell_type": "code",
      "source": [
        "nomes"
      ],
      "metadata": {
        "colab": {
          "base_uri": "https://localhost:8080/"
        },
        "id": "Z2oH-50yLjiQ",
        "outputId": "e88ed590-831a-4964-90d6-ea520f37e9e2"
      },
      "execution_count": null,
      "outputs": [
        {
          "output_type": "execute_result",
          "data": {
            "text/plain": [
              "['João', 'Maria', 'José', 'Cláudia', 'Ana']"
            ]
          },
          "metadata": {},
          "execution_count": 3
        }
      ]
    },
    {
      "cell_type": "code",
      "source": [
        "notas_juntas"
      ],
      "metadata": {
        "colab": {
          "base_uri": "https://localhost:8080/"
        },
        "id": "zaxgibkGLj-P",
        "outputId": "491ef05c-7660-4260-a6c5-577d1b71fe67"
      },
      "execution_count": null,
      "outputs": [
        {
          "output_type": "execute_result",
          "data": {
            "text/plain": [
              "[8.0, 9.0, 10.0, 9.0, 7.0, 6.0, 3.4, 7.0, 7.0, 5.5, 6.6, 8.0, 6.0, 10.0, 9.5]"
            ]
          },
          "metadata": {},
          "execution_count": 4
        }
      ]
    },
    {
      "cell_type": "markdown",
      "source": [
        "Pronto! Conseguimos separar os nomes dos 5 alunos de suas 15 notas. Agora, trabalharemos com a criação da lista de listas. Vamos iniciá-la com uma lista normal, zerada, isto é, sem elementos."
      ],
      "metadata": {
        "id": "8vdp4dBDLzyc"
      }
    },
    {
      "cell_type": "markdown",
      "source": [
        "A ideia é ler a posição zero, fazer algo com isso e saltar 3 posições. Vamos saltar de 3 em 3, porque só nos interessa entender quando a nota começa (a de João, depois a de Maria e assim sucessivamente). Isso nos permitirá fazer a separação."
      ],
      "metadata": {
        "id": "VXAYflAnL7Rx"
      }
    },
    {
      "cell_type": "code",
      "source": [
        "notas = []\n",
        "\n",
        "for i in range(0, len(notas_juntas), 3):"
      ],
      "metadata": {
        "id": "KLkxazFjL0Q9"
      },
      "execution_count": null,
      "outputs": []
    },
    {
      "cell_type": "markdown",
      "source": [
        "Lembrando que o método append() sempre recebe apenas um valor colocado dentro de uma lista. Se estamos passando uma lista de listas, ela será considerada um único elemento."
      ],
      "metadata": {
        "id": "7NHhIBBMMAiF"
      }
    },
    {
      "cell_type": "code",
      "source": [
        "notas = []\n",
        "\n",
        "for i in range(0, len(notas_juntas), 3):\n",
        "  notas.append([notas_juntas[i], notas_juntas[i+1], notas_juntas[i+2]])\n",
        "notas"
      ],
      "metadata": {
        "colab": {
          "base_uri": "https://localhost:8080/"
        },
        "id": "H7E0_yQuMCc9",
        "outputId": "af67563b-d5d5-4942-c6b3-07f1f3ba7caa"
      },
      "execution_count": null,
      "outputs": [
        {
          "output_type": "execute_result",
          "data": {
            "text/plain": [
              "[[8.0, 9.0, 10.0],\n",
              " [9.0, 7.0, 6.0],\n",
              " [3.4, 7.0, 7.0],\n",
              " [5.5, 6.6, 8.0],\n",
              " [6.0, 10.0, 9.5]]"
            ]
          },
          "metadata": {},
          "execution_count": 5
        }
      ]
    },
    {
      "cell_type": "code",
      "source": [
        "notas[0]"
      ],
      "metadata": {
        "colab": {
          "base_uri": "https://localhost:8080/"
        },
        "id": "b5knRxjWMLTp",
        "outputId": "b982d5a8-1434-499c-8b5c-92624332baa3"
      },
      "execution_count": null,
      "outputs": [
        {
          "output_type": "execute_result",
          "data": {
            "text/plain": [
              "[8.0, 9.0, 10.0]"
            ]
          },
          "metadata": {},
          "execution_count": 6
        }
      ]
    },
    {
      "cell_type": "markdown",
      "source": [
        "Os colchetes estarão sempre da parte externa para a interna, portanto, sempre vamos do macro ao micro, que é o resultado. Vamos passar:\n",
        "\n",
        "> Notas na posição zero, referente às notas de João, e queremos saber a última nota, posição 2 ou -1, tanto faz."
      ],
      "metadata": {
        "id": "A1WleT9LMRMW"
      }
    },
    {
      "cell_type": "markdown",
      "source": [],
      "metadata": {
        "id": "aq1CINGdMgbs"
      }
    },
    {
      "cell_type": "code",
      "source": [
        "notas[0][2]"
      ],
      "metadata": {
        "colab": {
          "base_uri": "https://localhost:8080/"
        },
        "id": "sk_x0XOTMPzU",
        "outputId": "11d206ca-3590-4731-c842-26de6bcc4b36"
      },
      "execution_count": null,
      "outputs": [
        {
          "output_type": "execute_result",
          "data": {
            "text/plain": [
              "10.0"
            ]
          },
          "metadata": {},
          "execution_count": 7
        }
      ]
    },
    {
      "cell_type": "markdown",
      "source": [
        "##Tuplas"
      ],
      "metadata": {
        "id": "LWOTCRV7M26p"
      }
    },
    {
      "cell_type": "markdown",
      "source": [
        "As tuplas são estruturas de dados imutáveis da linguagem Python que são utilizadas para armazenar conjuntos de múltiplos itens e frequentemente são aplicadas para agrupar dados que não devem ser modificados. Ou seja, não é possível adicionar, alterar ou remover seus elementos depois de criadas.\n",
        "\n",
        ">Tuplas são especialmente úteis em situações nas quais precisamos garantir que os dados não sejam alterados acidental ou intencionalmente."
      ],
      "metadata": {
        "id": "LkKXL4IiM4XV"
      }
    },
    {
      "cell_type": "markdown",
      "source": [
        "Para criar uma tupla, basta separar seus elementos por vírgulas. Por exemplo, podemos criar uma tupla com um registro de uma estudante da seguinte maneira:"
      ],
      "metadata": {
        "id": "CSZmNXOqM_Cp"
      }
    },
    {
      "cell_type": "code",
      "source": [
        "cadastro = (\"Júlia\", 23, \"São Paulo\", \"SP\", \"Python para DS 1\")"
      ],
      "metadata": {
        "id": "JbNjCjBVNCCC"
      },
      "execution_count": null,
      "outputs": []
    },
    {
      "cell_type": "code",
      "source": [
        "print(cadastro[0]) # imprime Júlia\n",
        "print(cadastro[-1]) # imprime Python para DS 1"
      ],
      "metadata": {
        "colab": {
          "base_uri": "https://localhost:8080/"
        },
        "id": "EML31mojNEkB",
        "outputId": "7f4482f0-ef47-4ade-e708-8cb5ea2a8328"
      },
      "execution_count": null,
      "outputs": [
        {
          "output_type": "stream",
          "name": "stdout",
          "text": [
            "Júlia\n",
            "Python para DS 1\n"
          ]
        }
      ]
    },
    {
      "cell_type": "code",
      "source": [
        "nome, idade, cidade, estado, turma = cadastro"
      ],
      "metadata": {
        "id": "oh--gmsYNGmY"
      },
      "execution_count": null,
      "outputs": []
    },
    {
      "cell_type": "code",
      "source": [
        "print(f'A estudante {nome} tem {idade} anos e mora em {cidade}-{estado}. Ela está matriculada na turma de {turma}.')"
      ],
      "metadata": {
        "colab": {
          "base_uri": "https://localhost:8080/"
        },
        "id": "dc9Lk1vjNISB",
        "outputId": "bef76f49-10cf-49e5-987e-e760201c14f0"
      },
      "execution_count": null,
      "outputs": [
        {
          "output_type": "stream",
          "name": "stdout",
          "text": [
            "A estudante Júlia tem 23 anos e mora em São Paulo-SP. Ela está matriculada na turma de Python para DS 1.\n"
          ]
        }
      ]
    },
    {
      "cell_type": "markdown",
      "source": [
        "##Lista de Tuplas"
      ],
      "metadata": {
        "id": "K12H0NBxqSAy"
      }
    },
    {
      "cell_type": "markdown",
      "source": [
        "###Situação"
      ],
      "metadata": {
        "id": "qrD7-FcJqZKr"
      }
    },
    {
      "cell_type": "markdown",
      "source": [
        "Nesta nova demanda, precisamos gerar uma lista de tuplas com os nomes dos estudantes e o código ID de cada um para a plataforma de análise dos dados. A criação do código consiste em concatenar a primeira letra do nome do estudante a um número aleatório de 0 a 999. Os dados recebidos correspondem a uma lista dos nomes de cada estudante."
      ],
      "metadata": {
        "id": "ihyhawb8qec0"
      }
    },
    {
      "cell_type": "code",
      "source": [
        "estudantes = [\"João\", \"Maria\", \"José\", \"Cláudia\", \"Ana\"]\n",
        "estudantes"
      ],
      "metadata": {
        "colab": {
          "base_uri": "https://localhost:8080/"
        },
        "id": "50MQrq3sqULX",
        "outputId": "b33172c1-e799-4b12-d122-e33c1e250591"
      },
      "execution_count": null,
      "outputs": [
        {
          "output_type": "execute_result",
          "data": {
            "text/plain": [
              "['João', 'Maria', 'José', 'Cláudia', 'Ana']"
            ]
          },
          "metadata": {},
          "execution_count": 1
        }
      ]
    },
    {
      "cell_type": "markdown",
      "source": [
        "O código da geração do ID já foi criado: vamos trazer, da biblioteca `random`, o `randint`. Considerando que:\n",
        "\n",
        "> O `randint` é uma função que gera um inteiro partindo de um ponto inicial a um ponto final.\n",
        "\n",
        "> O número que queremos será escolhido dentro do `randint`.\n",
        "\n",
        "> Este `randint` é de valor fechado, ou seja, o número inicial e final também podem ser escolhidos."
      ],
      "metadata": {
        "id": "c48d-vuUqveK"
      }
    },
    {
      "cell_type": "code",
      "source": [
        "from random import randint"
      ],
      "metadata": {
        "id": "31BYF84xq2A3"
      },
      "execution_count": null,
      "outputs": []
    },
    {
      "cell_type": "code",
      "source": [
        "from random import randint\n",
        "\n",
        "def gera_codigo():\n",
        "  return str(randint(0,999))"
      ],
      "metadata": {
        "id": "AhZ-cL-Zq27d"
      },
      "execution_count": null,
      "outputs": []
    },
    {
      "cell_type": "markdown",
      "source": [
        "Uma string também é um iterável e pode ser utilizada para indexação. Se queremos pegar o primeiro elemento, isto é, a inicial de cada nome, então devemos passar o número zero. Primeiro, buscamos o nome e, em seguida, o elemento do nome. É uma ideia bem similar à de multi indexação com listas de listas."
      ],
      "metadata": {
        "id": "MGmEKIAUrFRn"
      }
    },
    {
      "cell_type": "code",
      "source": [
        "codigo_estudantes = []\n",
        "\n",
        "for i in range(len(estudantes)):\n",
        "  codigo_estudantes.append((estudantes[i], estudantes[i][0] + gera_codigo()))\n",
        "\n",
        "codigo_estudantes"
      ],
      "metadata": {
        "colab": {
          "base_uri": "https://localhost:8080/"
        },
        "id": "U399p9Yiq4nf",
        "outputId": "bb6792b4-4119-4b2d-db9e-7717cc4b5f65"
      },
      "execution_count": null,
      "outputs": [
        {
          "output_type": "execute_result",
          "data": {
            "text/plain": [
              "[('João', 'J572'),\n",
              " ('Maria', 'M220'),\n",
              " ('José', 'J994'),\n",
              " ('Cláudia', 'C635'),\n",
              " ('Ana', 'A246')]"
            ]
          },
          "metadata": {},
          "execution_count": 5
        }
      ]
    },
    {
      "cell_type": "markdown",
      "source": [
        "##List comprehension"
      ],
      "metadata": {
        "id": "i_fsxR5trl7y"
      }
    },
    {
      "cell_type": "markdown",
      "source": [
        "A List comprehension é uma forma simples e concisa de criar listas, sendo que essas listas seguirão alguns padrões, via condicionais, laços e outras expressões."
      ],
      "metadata": {
        "id": "ckoPyXqMrpym"
      }
    },
    {
      "cell_type": "markdown",
      "source": [
        "Para conhecer mais sobre o List Comprehension, inclusive os diversos formatos de listas que podemos criar a partir dele, basta acessar a documentação - compreensão de listas"
      ],
      "metadata": {
        "id": "Q2ZjEsF9rqJ2"
      }
    },
    {
      "cell_type": "code",
      "source": [
        "#O formato padrão é:\n",
        "[expressão for item in lista]"
      ],
      "metadata": {
        "id": "WCLTSh46rwbl"
      },
      "execution_count": null,
      "outputs": []
    },
    {
      "cell_type": "markdown",
      "source": [
        "###Situação"
      ],
      "metadata": {
        "id": "vYf59NPEr0By"
      }
    },
    {
      "cell_type": "markdown",
      "source": [
        "Recebemos a demanda de criar uma lista com as médias dos estudantes da lista de listas que criamos na Situação 6. Lembrando que cada lista da lista de listas possui as três notas de cada estudante."
      ],
      "metadata": {
        "id": "kPjggpO8r1ba"
      }
    },
    {
      "cell_type": "code",
      "source": [
        "notas = [[8.0, 9.0, 10.0], [9.0, 7.0, 6.0], [3.4, 7.0, 7.0], [5.5, 6.6, 8.0], [6.0, 10.0, 9.5]]"
      ],
      "metadata": {
        "id": "gUGhW9OOr2zq"
      },
      "execution_count": null,
      "outputs": []
    },
    {
      "cell_type": "code",
      "source": [
        "def media(lista: list=[0]) -> float:\n",
        "  ''' Função para calcular a média de notas passadas por uma lista\n",
        "\n",
        "  lista: list, default [0]\n",
        "    Lista com as notas para calcular a média\n",
        "  return = calculo: float\n",
        "    Média calculada\n",
        "  '''\n",
        "\n",
        "  calculo = sum(lista) / len(lista)\n",
        "\n",
        "  return calculo"
      ],
      "metadata": {
        "id": "P5TUOP3-r7Na"
      },
      "execution_count": null,
      "outputs": []
    },
    {
      "cell_type": "code",
      "source": [
        "medias = [round(media(nota),1) for nota in notas]\n",
        "medias"
      ],
      "metadata": {
        "colab": {
          "base_uri": "https://localhost:8080/"
        },
        "id": "lCHyhbLNr7nD",
        "outputId": "cf5f5307-9712-4c91-dc46-9b2ff3a8bbb7"
      },
      "execution_count": null,
      "outputs": [
        {
          "output_type": "execute_result",
          "data": {
            "text/plain": [
              "[9.0, 7.3, 5.8, 6.7, 8.5]"
            ]
          },
          "metadata": {},
          "execution_count": 8
        }
      ]
    },
    {
      "cell_type": "markdown",
      "source": [
        "###Situação 9"
      ],
      "metadata": {
        "id": "9mP5NMCJsGY7"
      }
    },
    {
      "cell_type": "markdown",
      "source": [
        "Agora, precisamos utilizar as médias calculadas no exemplo anterior, pareando com o nome dos estudantes. Isto será necessário para gerar uma lista que selecione aqueles estudantes que possuam uma média final maior ou igual a 8 para concorrer a uma bolsa para o próximo ano letivo."
      ],
      "metadata": {
        "id": "Y9RQ3RyksIJH"
      }
    },
    {
      "cell_type": "markdown",
      "source": [
        "Anteriormente, criamos a lista aplicando a função em cada item da lista. Agora, utilizaremos uma condição. Ou seja, vamos gerar uma lista de listas e filtrá-la, trazendo apenas os estudantes com média maior ou igual a 8."
      ],
      "metadata": {
        "id": "OOQ_5w4NsOOU"
      }
    },
    {
      "cell_type": "code",
      "source": [
        "nomes = [('João', 'J720'), ('Maria', 'M205'), ('José', 'J371'), ('Cláudia', 'C546'), ('Ana', 'A347')]\n",
        "medias = [9.0, 7.3, 5.8, 6.7, 8.5]"
      ],
      "metadata": {
        "id": "NYMsA_b7sO_1"
      },
      "execution_count": null,
      "outputs": []
    },
    {
      "cell_type": "code",
      "source": [
        "lista_nomes = [nome[0] for nome in nomes]\n",
        "lista_nomes"
      ],
      "metadata": {
        "colab": {
          "base_uri": "https://localhost:8080/"
        },
        "id": "8Eojr8cosSWn",
        "outputId": "7a563293-3c2e-44ca-8515-3cc6bc9ce658"
      },
      "execution_count": null,
      "outputs": [
        {
          "output_type": "execute_result",
          "data": {
            "text/plain": [
              "['João', 'Maria', 'José', 'Cláudia', 'Ana']"
            ]
          },
          "metadata": {},
          "execution_count": 10
        }
      ]
    },
    {
      "cell_type": "markdown",
      "source": [
        "###built-in function: zip()"
      ],
      "metadata": {
        "id": "_N3E4Xd8seav"
      }
    },
    {
      "cell_type": "markdown",
      "source": [
        "O zip() recebe um ou mais iteráveis (lista, string, dict, etc.) e retorna-os como um iterador de tuplas onde cada elemento dos iteráveis são pareados."
      ],
      "metadata": {
        "id": "NCPjOdmJsgQL"
      }
    },
    {
      "cell_type": "code",
      "source": [
        "estudantes = zip(nomes, medias)\n",
        "estudantes"
      ],
      "metadata": {
        "colab": {
          "base_uri": "https://localhost:8080/"
        },
        "id": "YkVScOKusfTd",
        "outputId": "6f9c1367-bcd7-4988-fd66-8d9d548d339a"
      },
      "execution_count": null,
      "outputs": [
        {
          "output_type": "execute_result",
          "data": {
            "text/plain": [
              "<zip at 0x7f3c7da5ed80>"
            ]
          },
          "metadata": {},
          "execution_count": 11
        }
      ]
    },
    {
      "cell_type": "markdown",
      "source": [
        "A partir do retorno, é possível notar que um objeto do tipo zip foi gerado. Precisamos transformá-lo em uma lista ou não conseguiremos ler o que está dentro dele.\n",
        "\n",
        "Para isso, vamos colocar o zip() dentro de um list() e rodar o código outra vez."
      ],
      "metadata": {
        "id": "2zKa8k_fslDM"
      }
    },
    {
      "cell_type": "code",
      "source": [
        "estudantes = list(zip(lista_nomes, medias))\n",
        "estudantes"
      ],
      "metadata": {
        "colab": {
          "base_uri": "https://localhost:8080/"
        },
        "id": "kMd7zILhsltS",
        "outputId": "98563c11-d3bd-4398-b450-b597e97ec390"
      },
      "execution_count": null,
      "outputs": [
        {
          "output_type": "execute_result",
          "data": {
            "text/plain": [
              "[('João', 9.0), ('Maria', 7.3), ('José', 5.8), ('Cláudia', 6.7), ('Ana', 8.5)]"
            ]
          },
          "metadata": {},
          "execution_count": 13
        }
      ]
    },
    {
      "cell_type": "code",
      "source": [
        "candidatos = [estudante[0] for estudante in estudantes if estudante[1] >= 8]\n",
        "candidatos"
      ],
      "metadata": {
        "colab": {
          "base_uri": "https://localhost:8080/"
        },
        "id": "HG85y-xWsv54",
        "outputId": "554e949e-97ba-484d-efc8-769f294cf9c7"
      },
      "execution_count": null,
      "outputs": [
        {
          "output_type": "execute_result",
          "data": {
            "text/plain": [
              "['João', 'Ana']"
            ]
          },
          "metadata": {},
          "execution_count": 14
        }
      ]
    },
    {
      "cell_type": "markdown",
      "source": [
        "##Função zip"
      ],
      "metadata": {
        "id": "jnE31xQTs-LN"
      }
    },
    {
      "cell_type": "markdown",
      "source": [
        "A `zip()` é uma função embutida do Python que recebe um ou mais iteráveis (lista, string, dict, etc.) e retorna-os como um iterador de tuplas onde cada elemento dos iteráveis são pareados. Ela é útil para fazer iterações simultâneas em várias listas."
      ],
      "metadata": {
        "id": "hhInalnmtBL-"
      }
    },
    {
      "cell_type": "markdown",
      "source": [
        "Por exemplo, se quisermos criar uma lista de tuplas com o mapeamento das regiões do Brasil com seus respectivos ids:"
      ],
      "metadata": {
        "id": "Bmt61nA4tF-i"
      }
    },
    {
      "cell_type": "code",
      "source": [
        "id = [1, 2, 3, 4, 5]\n",
        "regiao = [\"Norte\", \"Nordeste\", \"Sudeste\", \"Centro-Oeste\", \"Sul\"]\n",
        "\n",
        "mapa = list(zip(id, regiao))\n",
        "mapa"
      ],
      "metadata": {
        "colab": {
          "base_uri": "https://localhost:8080/"
        },
        "id": "EIqmMYcWs94f",
        "outputId": "bf1506ce-6ad0-4d1a-d041-55c324a7b49a"
      },
      "execution_count": null,
      "outputs": [
        {
          "output_type": "execute_result",
          "data": {
            "text/plain": [
              "[(1, 'Norte'),\n",
              " (2, 'Nordeste'),\n",
              " (3, 'Sudeste'),\n",
              " (4, 'Centro-Oeste'),\n",
              " (5, 'Sul')]"
            ]
          },
          "metadata": {},
          "execution_count": 15
        }
      ]
    },
    {
      "cell_type": "markdown",
      "source": [
        "Para uma pessoa cientista de dados, essa função pode auxiliar a parear 2 listas distintas em um único objeto zip, podendo este ser transformado em uma lista de tuplas (formato ideal para gerar um índice de mais de um nível que será explorado em alguns dos cursos da formação) ou em um dicionário passando o objeto zip para a função `dict()`."
      ],
      "metadata": {
        "id": "UzCK_5Z3tQ4j"
      }
    },
    {
      "cell_type": "markdown",
      "source": [
        "Agora, se as listas de entrada têm comprimentos diferentes, a saída contém o mesmo número de tuplas que a lista de menor comprimento e os elementos restantes dos outros iteráveis serão ignorados."
      ],
      "metadata": {
        "id": "ECROGPbOtWwb"
      }
    },
    {
      "cell_type": "code",
      "source": [
        "codigos = [\"1000\", \"1001\", \"1002\", \"1003\", \"1004\", \"1005\"]\n",
        "frutas = [\"maçã\", \"uva\", \"banana\", \"laranja\"]\n",
        "\n",
        "mercadorias = list(zip(codigos, frutas))\n",
        "mercadorias"
      ],
      "metadata": {
        "colab": {
          "base_uri": "https://localhost:8080/"
        },
        "id": "3sJ9FLzGtXzj",
        "outputId": "6864c124-e4be-47d2-fff0-651ddfab1853"
      },
      "execution_count": null,
      "outputs": [
        {
          "output_type": "execute_result",
          "data": {
            "text/plain": [
              "[('1000', 'maçã'), ('1001', 'uva'), ('1002', 'banana'), ('1003', 'laranja')]"
            ]
          },
          "metadata": {},
          "execution_count": 16
        }
      ]
    },
    {
      "cell_type": "markdown",
      "source": [
        "Para fazer o processo contrário, de transformar uma tupla iterável em listas, basta passar o operador asterisco (*) ao lado esquerdo do nome da tupla iterável que quer extrair os dados, repassando cada tupla para uma variável."
      ],
      "metadata": {
        "id": "Q3RN2H1ltazk"
      }
    },
    {
      "cell_type": "code",
      "source": [
        "tupla_iteravel = [('J392', 'João'), ('M890', 'Maria'), ('J681', 'José'), ('C325', 'Claúdia'), ('A49', 'Ana')]\n",
        "ids, nomes  = zip(*tupla_iteravel)\n",
        "\n",
        "ids = list(ids)\n",
        "nomes = list(nomes)\n",
        "\n",
        "print(\"IDs = \", ids)\n",
        "print(\"Nomes = \", nomes)"
      ],
      "metadata": {
        "colab": {
          "base_uri": "https://localhost:8080/"
        },
        "id": "RJM-xen5tbn6",
        "outputId": "cde6177a-4e6e-4be2-f103-ff77ad2ceebd"
      },
      "execution_count": null,
      "outputs": [
        {
          "output_type": "stream",
          "name": "stdout",
          "text": [
            "IDs =  ['J392', 'M890', 'J681', 'C325', 'A49']\n",
            "Nomes =  ['João', 'Maria', 'José', 'Claúdia', 'Ana']\n"
          ]
        }
      ]
    },
    {
      "cell_type": "markdown",
      "source": [
        "A ideia de fazer um “unzip” é bem-vinda quando queremos extrair chaves ou valores separadamente ou gerar uma lista de tuplas separadas, com o conjunto de chaves e valores cada uma representados em uma tupla."
      ],
      "metadata": {
        "id": "AFUhJb42tnd_"
      }
    },
    {
      "cell_type": "markdown",
      "source": [
        "##List comprehension com if-else"
      ],
      "metadata": {
        "id": "qV2uEpEPtp1e"
      }
    },
    {
      "cell_type": "markdown",
      "source": [
        "###Situaçao"
      ],
      "metadata": {
        "id": "u2XF5Ihgts2K"
      }
    },
    {
      "cell_type": "markdown",
      "source": [
        "Recebemos duas demandas a respeito desse projeto com as notas dos estudantes:\n",
        "\n",
        "Criar uma lista da situação dos estudantes em que caso sua média seja maior ou igual a 6 receberá o valor \"Aprovado\" e caso contrário receberá o valor \"Reprovado\".\n",
        "\n",
        "Gerar uma lista de listas com:\n",
        "\n",
        "> Lista de tuplas com o nome dos estudantes e seus códigos.\n",
        "\n",
        "> Lista de listas com as notas de cada estudante.\n",
        "\n",
        "> Lista com as médias de cada estudante.\n",
        "\n",
        "> Lista da situação dos estudantes de acordo com as médias.\n",
        "\n",
        "> Os dados que utilizaremos são os mesmos que geramos nas situações anteriores (nomes, notas, medias)."
      ],
      "metadata": {
        "id": "etNL7ItctuFj"
      }
    },
    {
      "cell_type": "markdown",
      "source": [
        "Dica: Para a lista das situações, utilize o formato: [resultado_if if cond else resultado_else for item in lista]"
      ],
      "metadata": {
        "id": "6qWbzIC2t4HM"
      }
    },
    {
      "cell_type": "code",
      "source": [
        "nomes = [('João', 'J720'), ('Maria', 'M205'), ('José', 'J371'), ('Cláudia', 'C546'), ('Ana', 'A347')]\n",
        "notas = [[8.0, 9.0, 10.0], [9.0, 7.0, 6.0], [3.4, 7.0, 7.0], [5.5, 6.6, 8.0], [6.0, 10.0, 9.5]]\n",
        "medias = [9.0, 7.3, 5.8, 6.7, 8.5]"
      ],
      "metadata": {
        "id": "qnNs_hAitpb-"
      },
      "execution_count": null,
      "outputs": []
    },
    {
      "cell_type": "code",
      "source": [
        "#situacao = [resultado_if if cond else resultado_else for item in lista]\n",
        "#situacao = [resultado_if if cond else resultado_else for media in medias]\n",
        "#situacao = [\"Aprovado\" if media >= 6 else \"Reprovado\" for media in medias]\n",
        "situacao = [\"Aprovado\" if media >= 6 else \"Reprovado\" for media in medias]\n",
        "situacao"
      ],
      "metadata": {
        "colab": {
          "base_uri": "https://localhost:8080/"
        },
        "id": "e4RF_7Gxt5Qr",
        "outputId": "41664bd4-caf1-4c36-a5c7-5bd16dcea905"
      },
      "execution_count": null,
      "outputs": [
        {
          "output_type": "execute_result",
          "data": {
            "text/plain": [
              "['Aprovado', 'Aprovado', 'Reprovado', 'Aprovado', 'Aprovado']"
            ]
          },
          "metadata": {},
          "execution_count": 19
        }
      ]
    },
    {
      "cell_type": "markdown",
      "source": [
        "[expr for item in lista de listas]"
      ],
      "metadata": {
        "id": "rnccJI8euLEn"
      }
    },
    {
      "cell_type": "code",
      "source": [
        "cadastro = [x for x in [nomes, notas, medias, situacao]]\n",
        "cadastro"
      ],
      "metadata": {
        "colab": {
          "base_uri": "https://localhost:8080/"
        },
        "id": "DNXZoTxuuL0P",
        "outputId": "8f438a3c-6ead-42e8-e4be-7fa90461a3f1"
      },
      "execution_count": null,
      "outputs": [
        {
          "output_type": "execute_result",
          "data": {
            "text/plain": [
              "[[('João', 'J720'),\n",
              "  ('Maria', 'M205'),\n",
              "  ('José', 'J371'),\n",
              "  ('Cláudia', 'C546'),\n",
              "  ('Ana', 'A347')],\n",
              " [[8.0, 9.0, 10.0],\n",
              "  [9.0, 7.0, 6.0],\n",
              "  [3.4, 7.0, 7.0],\n",
              "  [5.5, 6.6, 8.0],\n",
              "  [6.0, 10.0, 9.5]],\n",
              " [9.0, 7.3, 5.8, 6.7, 8.5],\n",
              " ['Aprovado', 'Aprovado', 'Reprovado', 'Aprovado', 'Aprovado']]"
            ]
          },
          "metadata": {},
          "execution_count": 21
        }
      ]
    },
    {
      "cell_type": "code",
      "source": [
        "lista_completa = [nomes, notas, medias, situacao]\n",
        "lista_completa"
      ],
      "metadata": {
        "colab": {
          "base_uri": "https://localhost:8080/"
        },
        "id": "I_sT8qy3uMdG",
        "outputId": "a15bed8b-52d8-434e-83fe-5a0c868332cd"
      },
      "execution_count": null,
      "outputs": [
        {
          "output_type": "execute_result",
          "data": {
            "text/plain": [
              "[[('João', 'J720'),\n",
              "  ('Maria', 'M205'),\n",
              "  ('José', 'J371'),\n",
              "  ('Cláudia', 'C546'),\n",
              "  ('Ana', 'A347')],\n",
              " [[8.0, 9.0, 10.0],\n",
              "  [9.0, 7.0, 6.0],\n",
              "  [3.4, 7.0, 7.0],\n",
              "  [5.5, 6.6, 8.0],\n",
              "  [6.0, 10.0, 9.5]],\n",
              " [9.0, 7.3, 5.8, 6.7, 8.5],\n",
              " ['Aprovado', 'Aprovado', 'Reprovado', 'Aprovado', 'Aprovado']]"
            ]
          },
          "metadata": {},
          "execution_count": 22
        }
      ]
    },
    {
      "cell_type": "markdown",
      "source": [
        "##Dict comprehension"
      ],
      "metadata": {
        "id": "zflIr7TSuzh2"
      }
    },
    {
      "cell_type": "markdown",
      "source": [
        "Para saber como o Dict Comprehension surgiu e algumas utilizações a partir de um PEP, proposta de enriquecimento do Python, basta acessar PEP 274 – Dict Comprehensions."
      ],
      "metadata": {
        "id": "Trf3cedFu2pO"
      }
    },
    {
      "cell_type": "code",
      "source": [
        "#{chave: valor for item in lista}"
      ],
      "metadata": {
        "id": "Oq1Af_gnu5g7"
      },
      "execution_count": null,
      "outputs": []
    },
    {
      "cell_type": "markdown",
      "source": [
        "###Situação 11"
      ],
      "metadata": {
        "id": "g3vd-8Equ6ub"
      }
    },
    {
      "cell_type": "markdown",
      "source": [
        "Agora, a nossa demanda consiste em gerar um dicionário a partir da lista de listas que criamos na Situação 10 para passá-la à pessoa responsável por construir as tabelas, possibilitando a análise dos dados.\n",
        "\n",
        "> As chaves do nosso dicionário serão as colunas identificando o tipo de dado.\n",
        "\n",
        "> Os valores serão as listas com os dados correspondentes àquela chave."
      ],
      "metadata": {
        "id": "ct-ZwXOXu8xq"
      }
    },
    {
      "cell_type": "markdown",
      "source": [
        "Isso é muito comum na ciência de dados, inclusive quando trabalhamos com estruturas como dataframes, uma forma de apresentação do dado com tabelas. Aqui, não aprenderemos todo esse ferramental, mas entenderemos um pouco de como funciona a construção desse tipo de estrutura.\n",
        "\n",
        "\n"
      ],
      "metadata": {
        "id": "luZMt6UMu-ZP"
      }
    },
    {
      "cell_type": "code",
      "source": [
        "lista_completa = [[('João', 'J720'), ('Maria', 'M205'), ('José', 'J371'), ('Cláudia', 'C546'), ('Ana', 'A347')],\n",
        "                  [[8.0, 9.0, 10.0], [9.0, 7.0, 6.0], [3.4, 7.0, 7.0], [5.5, 6.6, 8.0], [6.0, 10.0, 9.5]],\n",
        "                  [9.0, 7.3, 5.8, 6.7, 8.5],\n",
        "                  ['Aprovado', 'Aprovado', 'Reprovado', 'Aprovado', 'Aprovado']]"
      ],
      "metadata": {
        "id": "psStstR9ubk-"
      },
      "execution_count": null,
      "outputs": []
    },
    {
      "cell_type": "code",
      "source": [
        "coluna = [\"Notas\", \"Media Final\", \"Situação\"]\n",
        "#cadastro  = {chave: valor for item in lista}\n",
        "#Na lista ou iterável passaremos range(len(coluna)).\n",
        "#Queremos ler a posição, então, trabalharemos com o iterável i em item, que é a posição para iterar o range() com o comprimento da coluna.\n",
        "#Por fim, passaremos os valores que entrarão em chave e valor. Para chave, leremos as posições simples das colunas, então, coluna[i] (coluna na posição i). Para valor, vamos passar a lista completa na posição i: lista_completa[i].\n",
        "coluna = [\"Notas\", \"Media Final\", \"Situação\"]\n",
        "cadastro  = {coluna[i]: lista_completa[i] for i in range(len(coluna))}\n",
        "cadastro"
      ],
      "metadata": {
        "colab": {
          "base_uri": "https://localhost:8080/"
        },
        "id": "b0e4VUBWvIyk",
        "outputId": "8fd3f225-af09-4285-c359-d92f760edef8"
      },
      "execution_count": null,
      "outputs": [
        {
          "output_type": "execute_result",
          "data": {
            "text/plain": [
              "{'Notas': [('João', 'J720'),\n",
              "  ('Maria', 'M205'),\n",
              "  ('José', 'J371'),\n",
              "  ('Cláudia', 'C546'),\n",
              "  ('Ana', 'A347')],\n",
              " 'Media Final': [[8.0, 9.0, 10.0],\n",
              "  [9.0, 7.0, 6.0],\n",
              "  [3.4, 7.0, 7.0],\n",
              "  [5.5, 6.6, 8.0],\n",
              "  [6.0, 10.0, 9.5]],\n",
              " 'Situação': [9.0, 7.3, 5.8, 6.7, 8.5]}"
            ]
          },
          "metadata": {},
          "execution_count": 25
        }
      ]
    },
    {
      "cell_type": "markdown",
      "source": [
        "Atenção: Se testarmos rodar o código como está, teremos um problema, porque estamos considerando que a coluna de notas vai pegar a primeira lista da lista_completa: a lista de tuplas com os nomes dos estudantes e seus códigos.\n",
        "\n",
        "Não é isso que queremos. Precisamos da lista de notas, depois a de média e, por fim, a de situação. Ou seja, é necessário saltar uma linha. Para isso, vamos passar i+1."
      ],
      "metadata": {
        "id": "6o-KfZ9Xvd4L"
      }
    },
    {
      "cell_type": "code",
      "source": [
        "coluna = [\"Notas\", \"Media Final\", \"Situação\"]\n",
        "\n",
        "cadastro  = {coluna[i]: lista_completa[i+1] for i in range(len(coluna))}\n",
        "cadastro"
      ],
      "metadata": {
        "colab": {
          "base_uri": "https://localhost:8080/"
        },
        "id": "wxCVMrj3ve2f",
        "outputId": "0221e5c8-322d-4c20-9382-fb44f3e05997"
      },
      "execution_count": null,
      "outputs": [
        {
          "output_type": "execute_result",
          "data": {
            "text/plain": [
              "{'Notas': [[8.0, 9.0, 10.0],\n",
              "  [9.0, 7.0, 6.0],\n",
              "  [3.4, 7.0, 7.0],\n",
              "  [5.5, 6.6, 8.0],\n",
              "  [6.0, 10.0, 9.5]],\n",
              " 'Media Final': [9.0, 7.3, 5.8, 6.7, 8.5],\n",
              " 'Situação': ['Aprovado', 'Aprovado', 'Reprovado', 'Aprovado', 'Aprovado']}"
            ]
          },
          "metadata": {},
          "execution_count": 27
        }
      ]
    },
    {
      "cell_type": "code",
      "source": [
        "cadastro[\"Estudante\"] = [lista_completa[0][i][0] for i in range(len(lista_completa[0]))]\n",
        "cadastro"
      ],
      "metadata": {
        "colab": {
          "base_uri": "https://localhost:8080/"
        },
        "id": "aWBZywnxvnsP",
        "outputId": "14b48b22-54b9-480b-b145-81f61a8266d7"
      },
      "execution_count": null,
      "outputs": [
        {
          "output_type": "execute_result",
          "data": {
            "text/plain": [
              "{'Notas': [[8.0, 9.0, 10.0],\n",
              "  [9.0, 7.0, 6.0],\n",
              "  [3.4, 7.0, 7.0],\n",
              "  [5.5, 6.6, 8.0],\n",
              "  [6.0, 10.0, 9.5]],\n",
              " 'Media Final': [9.0, 7.3, 5.8, 6.7, 8.5],\n",
              " 'Situação': ['Aprovado', 'Aprovado', 'Reprovado', 'Aprovado', 'Aprovado'],\n",
              " 'Estudante': ['João', 'Maria', 'José', 'Cláudia', 'Ana']}"
            ]
          },
          "metadata": {},
          "execution_count": 30
        }
      ]
    },
    {
      "cell_type": "markdown",
      "source": [
        "Criamos nosso dicionário com a lista de notas, média final, situação e nome dos estudantes. Chegamos a um formato bonito e organizado: os dados estão separados por listas, com os valores relacionados um com o outro e com o tipo de dado a que pertencem."
      ],
      "metadata": {
        "id": "O03FY-pgwALW"
      }
    },
    {
      "cell_type": "markdown",
      "source": [
        "##Desafio: hora da prática"
      ],
      "metadata": {
        "id": "qIztDJEOwiy_"
      }
    },
    {
      "cell_type": "code",
      "source": [
        "#1. Crie um código para imprimir a soma dos elementos de cada uma das listas contidas na seguinte lista:\n",
        "lista_de_listas = [[4,6,5,9], [1,0,7,2], [3,4,1,8]]\n",
        "\n",
        "lista_de_somas = [sum(x) for x in lista_de_listas]\n",
        "lista_de_somas"
      ],
      "metadata": {
        "colab": {
          "base_uri": "https://localhost:8080/"
        },
        "id": "Fqgu8Y1Hwk4b",
        "outputId": "43b65ea4-d68e-4d61-90a1-f26e3c13393f"
      },
      "execution_count": null,
      "outputs": [
        {
          "output_type": "execute_result",
          "data": {
            "text/plain": [
              "[24, 10, 16]"
            ]
          },
          "metadata": {},
          "execution_count": 31
        }
      ]
    },
    {
      "cell_type": "code",
      "source": [
        "#2. Crie um código para gerar uma lista que armazena o terceiro elemento de cada tupla contida na seguinte lista de tuplas:\n",
        "lista_de_tuplas = [('Pedro', 1.74, 81), ('Júlia', 1.65, 67), ('Otávio', 1.81, 83)]\n",
        "lista_terceiro_elemento = [elemento[2] for elemento in lista_de_tuplas]\n",
        "lista_terceiro_elemento"
      ],
      "metadata": {
        "id": "uYgPeEwww1z7"
      },
      "execution_count": null,
      "outputs": []
    },
    {
      "cell_type": "markdown",
      "source": [
        "3. A partir da lista: lista = ['Pedro', 'Júlia', 'Otávio', 'Eduardo'], crie um código para gerar uma lista de tuplas em que cada tupla tenha o primeiro elemento como a posição do nome na lista original e o segundo elemento sendo o próprio nome."
      ],
      "metadata": {
        "id": "iw5adYEyxNOY"
      }
    },
    {
      "cell_type": "code",
      "source": [
        "lista = ['Pedro', 'Júlia', 'Otávio', 'Eduardo']\n",
        "lista_tuplas = [(i, lista[i]) for i in range(len(lista))]\n",
        "lista_tuplas"
      ],
      "metadata": {
        "colab": {
          "base_uri": "https://localhost:8080/"
        },
        "id": "Uulp4IZ2xPIH",
        "outputId": "559a766f-4440-4645-87c7-6ee74874bbf0"
      },
      "execution_count": null,
      "outputs": [
        {
          "output_type": "execute_result",
          "data": {
            "text/plain": [
              "[(0, 'Pedro'), (1, 'Júlia'), (2, 'Otávio'), (3, 'Eduardo')]"
            ]
          },
          "metadata": {},
          "execution_count": 33
        }
      ]
    },
    {
      "cell_type": "markdown",
      "source": [
        "4. Crie uma lista usando o list comprehension que armazena somente o valor numérico de cada tupla caso o primeiro elemento seja 'Apartamento', a partir da seguinte lista de tuplas:"
      ],
      "metadata": {
        "id": "WmfrgfGSyEXv"
      }
    },
    {
      "cell_type": "code",
      "source": [
        "aluguel = [('Apartamento', 1700), ('Apartamento', 1400), ('Casa', 2150), ('Apartamento', 1900), ('Casa', 1100)]\n",
        "#situacao = [resultado_if if cond else resultado_else for item in lista]\n",
        "lista_apartamento = [item[1] for item in aluguel if item[0]=='Apartamento']\n",
        "lista_apartamento"
      ],
      "metadata": {
        "colab": {
          "base_uri": "https://localhost:8080/"
        },
        "id": "bSEbPYm5yFKD",
        "outputId": "3d69dcca-d3ca-4da7-fd0b-0940c9a2df3f"
      },
      "execution_count": null,
      "outputs": [
        {
          "output_type": "execute_result",
          "data": {
            "text/plain": [
              "[1700, 1400, 1900]"
            ]
          },
          "metadata": {},
          "execution_count": 36
        }
      ]
    },
    {
      "cell_type": "markdown",
      "source": [
        "5. Crie um dicionário usando o dict comprehension em que as chaves estão na lista meses = ['Jan', 'Fev', 'Mar', 'Abr', 'Mai', 'Jun', 'Jul', 'Ago', 'Set', 'Out', 'Nov', 'Dez'] e os valores estão em despesa = [860, 490, 1010, 780, 900, 630, 590, 770, 620, 560, 840, 360]."
      ],
      "metadata": {
        "id": "1SGO_EL9zGsD"
      }
    },
    {
      "cell_type": "code",
      "source": [
        "meses = ['Jan', 'Fev', 'Mar', 'Abr', 'Mai', 'Jun', 'Jul', 'Ago', 'Set', 'Out', 'Nov', 'Dez']\n",
        "despesa = [860, 490, 1010, 780, 900, 630, 590, 770, 620, 560, 840, 360]\n",
        "\n",
        "gastos = {meses[i]: despesa[i] for i in range(len(meses))}\n",
        "gastos"
      ],
      "metadata": {
        "colab": {
          "base_uri": "https://localhost:8080/"
        },
        "id": "TLfAdzNHzHPP",
        "outputId": "368a0b51-001b-4f3b-e304-fbc946ccdbb3"
      },
      "execution_count": null,
      "outputs": [
        {
          "output_type": "execute_result",
          "data": {
            "text/plain": [
              "{'Jan': 860,\n",
              " 'Fev': 490,\n",
              " 'Mar': 1010,\n",
              " 'Abr': 780,\n",
              " 'Mai': 900,\n",
              " 'Jun': 630,\n",
              " 'Jul': 590,\n",
              " 'Ago': 770,\n",
              " 'Set': 620,\n",
              " 'Out': 560,\n",
              " 'Nov': 840,\n",
              " 'Dez': 360}"
            ]
          },
          "metadata": {},
          "execution_count": 40
        }
      ]
    },
    {
      "cell_type": "markdown",
      "source": [
        "###Aplicando a projetos"
      ],
      "metadata": {
        "id": "yr3ECUePzzVP"
      }
    },
    {
      "cell_type": "markdown",
      "source": [
        "6. Uma loja possui um banco de dados com a informação de venda de cada representante e de cada ano e precisa filtrar somente os dados do ano 2022 com venda maior do que 6000. A loja forneceu uma amostra contendo apenas as colunas com os anos e os valores de venda para que você ajude a realizar a filtragem dos dados a partir de um código:\n",
        "\n",
        "> vendas = [('2023', 4093), ('2021', 4320), ('2021', 5959), ('2022', 8883), ('2023', 9859), ('2022', 5141), ('2022', 7688), ('2022', 9544), ('2023', 4794), ('2021', 7178), ('2022', 3030), ('2021', 7471), ('2022', 4226), ('2022', 8190), ('2021', 9680), ('2022', 5616)]\n",
        "\n",
        "* Crie uma lista usando list comprehension para filtrar os valores de 2022 e que sejam maiores que 6000.\n",
        "\n"
      ],
      "metadata": {
        "id": "d1sVs-Srz1ES"
      }
    },
    {
      "cell_type": "code",
      "source": [
        "vendas = [('2023', 4093), ('2021', 4320), ('2021', 5959), ('2022', 8883), ('2023', 9859), ('2022', 5141), ('2022', 7688), ('2022', 9544), ('2023', 4794), ('2021', 7178), ('2022', 3030), ('2021', 7471), ('2022', 4226), ('2022', 8190), ('2021', 9680), ('2022', 5616)]\n",
        "vendas_maiores = [item[1] for item in vendas if item[0] == '2022' and item[1] >= 6000]\n",
        "vendas_maiores"
      ],
      "metadata": {
        "colab": {
          "base_uri": "https://localhost:8080/"
        },
        "id": "cnBZZF1hz2pd",
        "outputId": "b1f20e4e-f405-4139-f4f6-61697b9e3cc0"
      },
      "execution_count": null,
      "outputs": [
        {
          "output_type": "execute_result",
          "data": {
            "text/plain": [
              "[8883, 7688, 9544, 8190]"
            ]
          },
          "metadata": {},
          "execution_count": 42
        }
      ]
    },
    {
      "cell_type": "markdown",
      "source": [
        "7. Uma clínica analisa dados de pacientes e armazena o valor numérico da glicose em um banco de dados e gostaria de rotular os dados da seguinte maneira:\n",
        "\n",
        "* Glicose igual ou inferior a 70: 'Hipoglicemia'\n",
        "* Glicose entre 70 a 99: 'Normal'\n",
        "* Glicose entre 100 e 125: 'Alterada'\n",
        "* Glicose superior a 125: 'Diabetes'\n",
        "\n",
        "A clínica disponibilizou parte dos valores e sua tarefa é criar uma lista de tuplas usando list comprehension contendo o rótulo e o valor da glicemia em cada tupla.\n",
        "\n",
        ">glicemia = [129, 82, 60, 97, 101, 65, 62, 167, 87, 53, 58, 92, 66, 120, 109, 62, 86, 96, 103, 88, 155, 52, 89, 73]"
      ],
      "metadata": {
        "id": "W_cAKSlr07nI"
      }
    },
    {
      "cell_type": "code",
      "source": [
        "#Glicose igual ou inferior a 70: 'Hipoglicemia'\n",
        "#Glicose entre 70 a 99: 'Normal'\n",
        "#Glicose entre 100 e 125: 'Alterada'\n",
        "#Glicose superior a 125: 'Diabetes'\n",
        "#A clínica disponibilizou parte dos valores e sua tarefa é criar uma lista de tuplas usando list comprehension contendo o rótulo e o valor da glicemia em cada tupla.\n",
        "glicemia = [129, 82, 60, 97, 101, 65, 62, 167, 87, 53, 58, 92, 66, 120, 109, 62, 86, 96, 103, 88, 155, 52, 89, 73]\n",
        "glicemia_rotulada = [('Hipoglicemia', item) if item <= 70 else ('Normal', item) if item <= 99 else ('Alterada', item) if item <= 125 else ('Diabetes', item) for item in glicemia]\n",
        "glicemia_rotulada"
      ],
      "metadata": {
        "colab": {
          "base_uri": "https://localhost:8080/"
        },
        "id": "Yx3T2eip6ORa",
        "outputId": "94d5e11f-bf63-480b-9330-1e87846167a6"
      },
      "execution_count": null,
      "outputs": [
        {
          "output_type": "execute_result",
          "data": {
            "text/plain": [
              "[('Diabetes', 129),\n",
              " ('Normal', 82),\n",
              " ('Hipoglicemia', 60),\n",
              " ('Normal', 97),\n",
              " ('Alterada', 101),\n",
              " ('Hipoglicemia', 65),\n",
              " ('Hipoglicemia', 62),\n",
              " ('Diabetes', 167),\n",
              " ('Normal', 87),\n",
              " ('Hipoglicemia', 53),\n",
              " ('Hipoglicemia', 58),\n",
              " ('Normal', 92),\n",
              " ('Hipoglicemia', 66),\n",
              " ('Alterada', 120),\n",
              " ('Alterada', 109),\n",
              " ('Hipoglicemia', 62),\n",
              " ('Normal', 86),\n",
              " ('Normal', 96),\n",
              " ('Alterada', 103),\n",
              " ('Normal', 88),\n",
              " ('Diabetes', 155),\n",
              " ('Hipoglicemia', 52),\n",
              " ('Normal', 89),\n",
              " ('Normal', 73)]"
            ]
          },
          "metadata": {},
          "execution_count": 47
        }
      ]
    },
    {
      "cell_type": "markdown",
      "source": [
        "8. Um e-commerce possui as informações de id de venda, quantidade vendida e preço do produto divididos nas seguintes listas:\n",
        "\n",
        "*   id = [0, 1, 2, 3, 4, 5, 6, 7, 8, 9]\n",
        "* quantidade = [15, 12, 1, 15, 2, 11, 2, 12, 2, 4]\n",
        "* preco = [93.0, 102.0, 18.0, 41.0, 122.0, 14.0, 71.0, 48.0, 14.0, 144.0]\n",
        "\n",
        "O e-commerce precisa estruturar esses dados em uma tabela contendo o valor total da venda, que é obtida multiplicando a quantidade pelo preço unitário. Além disso, a tabela precisa conter um cabeçalho indicando as colunas: 'id', 'quantidade', 'preco' e 'total'.\n",
        "\n",
        "Crie uma lista de tuplas em que cada tupla tenha id, quantidade, preço e valor total, na qual a primeira tupla é o cabeçalho da tabela."
      ],
      "metadata": {
        "id": "eceiuveM88yI"
      }
    },
    {
      "cell_type": "code",
      "source": [
        "id = [0, 1, 2, 3, 4, 5, 6, 7, 8, 9]\n",
        "quantidade = [15, 12, 1, 15, 2, 11, 2, 12, 2, 4]\n",
        "preco = [93.0, 102.0, 18.0, 41.0, 122.0, 14.0, 71.0, 48.0, 14.0, 144.0]\n",
        "colunas = ['id', 'quantidade', 'preco', 'total']\n",
        "\n",
        "total = [quantidade[i]*preco[i] for i in range(len(colunas))]\n",
        "\n",
        "tabela = [('id', 'quantidade', 'preco', 'total')]\n",
        "tabela += ((id[i], quantidade[i], preco[i], total[i]) for i in range(len(colunas)))\n",
        "tabela"
      ],
      "metadata": {
        "colab": {
          "base_uri": "https://localhost:8080/"
        },
        "id": "UumTO4761EM3",
        "outputId": "7047e89c-f9a9-4b70-bda3-870179dca678"
      },
      "execution_count": null,
      "outputs": [
        {
          "output_type": "execute_result",
          "data": {
            "text/plain": [
              "[('id', 'quantidade', 'preco', 'total'),\n",
              " (0, 15, 93.0, 1395.0),\n",
              " (1, 12, 102.0, 1224.0),\n",
              " (2, 1, 18.0, 18.0),\n",
              " (3, 15, 41.0, 615.0)]"
            ]
          },
          "metadata": {},
          "execution_count": 66
        }
      ]
    },
    {
      "cell_type": "markdown",
      "source": [
        "9.Uma empresa possui filiais espalhadas nos Estados da região Sudeste do Brasil. Em uma das tabelas de cadastro das filiais há uma coluna contendo a informação de qual é o Estado a que pertence: estados = ['SP', 'ES', 'MG', 'MG', 'SP', 'MG', 'ES', 'ES', 'ES', 'SP', 'SP', 'MG', 'ES', 'SP', 'RJ', 'MG', 'RJ', 'SP', 'MG', 'SP', 'ES', 'SP', 'MG'].\n",
        "\n",
        "A empresa sempre está abrindo novas filiais, de modo que a tabela está constantemente recebendo novos registros e o gestor gostaria de possuir a informação atualizada da quantidade de filiais em cada Estado.\n",
        "\n",
        "A partir da coluna com a informação dos Estados, crie um dicionário usando dict comprehension com a chave sendo o nome de um Estado e o valor sendo a contagem de vezes em que o Estado aparece na lista.\n",
        "\n",
        "Dica: Você pode fazer um passo intermediário para gerar uma lista de listas em que cada uma das listas possui o nome de apenas um Estado com valores repetidos."
      ],
      "metadata": {
        "id": "iV9TrNgfB23_"
      }
    },
    {
      "cell_type": "code",
      "source": [
        "estados = ['SP', 'ES', 'MG', 'MG', 'SP', 'MG', 'ES', 'ES', 'ES', 'SP', 'SP', 'MG', 'ES', 'SP', 'RJ', 'MG', 'RJ', 'SP', 'MG', 'SP', 'ES', 'SP', 'MG']\n",
        "estados_unico = list(set(estados))\n",
        "\n",
        "filiais = {estados_unico[i]: estados.count(estados_unico[i]) for i in range(len(estados_unico))}\n",
        "filiais\n"
      ],
      "metadata": {
        "colab": {
          "base_uri": "https://localhost:8080/"
        },
        "id": "zAt0oUGR9OTv",
        "outputId": "f13b64f0-f65f-476a-b564-5d8437ba4567"
      },
      "execution_count": null,
      "outputs": [
        {
          "output_type": "execute_result",
          "data": {
            "text/plain": [
              "{'ES': 6, 'MG': 7, 'SP': 8, 'RJ': 2}"
            ]
          },
          "metadata": {},
          "execution_count": 72
        }
      ]
    },
    {
      "cell_type": "markdown",
      "source": [
        "10.Nessa mesma tabela de cadastro de filiais, há uma coluna com as informações da quantidade de pessoas colaboradoras e o(a) gestor(a) gostaria de ter um agrupamento da soma dessas pessoas para cada estado. As informações contidas na tabela são:\n",
        "* funcionarios = [('SP', 16), ('ES', 8), ('MG', 9), ('MG', 6), ('SP', 10), ('MG', 4), ('ES',9), ('ES', 7), ('ES', 12), ('SP', 7), ('SP', 11), ('MG',8), ('ES',8), ('SP',9), ('RJ', 13), ('MG', 5), ('RJ', 9), ('SP', 12), ('MG', 10), ('SP', 7), ('ES', 14), ('SP', 10), ('MG', 12)]\n",
        "\n",
        "A partir da lista de tuplas, crie um dicionário em que as chaves são os nomes dos Estados únicos e os valores são as listas com o número de colaboradores(as) referentes ao Estado. Crie também um dicionário em que as chaves são os nomes dos Estados e os valores são a soma de colaboradores(as) por Estado.\n",
        "\n",
        ">Dica: Você pode fazer um passo intermediário para gerar uma lista de listas em que cada uma das listas possui apenas os valores numéricos de funcionários(as) de cada Estado."
      ],
      "metadata": {
        "id": "2AhkVixyFAGT"
      }
    },
    {
      "cell_type": "code",
      "source": [
        "funcionarios = [('SP', 16), ('ES', 8), ('MG', 9), ('MG', 6), ('SP', 10), ('MG', 4), ('ES',9), ('ES', 7), ('ES', 12), ('SP', 7), ('SP', 11), ('MG',8), ('ES',8), ('SP',9), ('RJ', 13), ('MG', 5), ('RJ', 9), ('SP', 12), ('MG', 10), ('SP', 7), ('ES', 14), ('SP', 10), ('MG', 12)]\n",
        "estados_unicos = set([x[0] for x in funcionarios])\n",
        "\n",
        "# Criando uma lista de listas com valores repetidos de cada estado\n",
        "lista_de_listas = []\n",
        "for estado in estados_unicos:\n",
        "    lista = [uf[1] for uf in funcionarios if uf[0] == estado]\n",
        "    lista_de_listas.append(lista)\n",
        "\n",
        "estado_list_func = {estados_unico[i]: lista_de_listas[i] for i in range(len(estados_unico))}\n",
        "estado_func_total = {estados_unico[i]: sum(lista_de_listas[i]) for i in range(len(estados_unico))}\n",
        "estado_func_total"
      ],
      "metadata": {
        "colab": {
          "base_uri": "https://localhost:8080/"
        },
        "id": "_MhomZaAFFKf",
        "outputId": "29c1603d-82d1-4752-8a29-632872d9ab45"
      },
      "execution_count": null,
      "outputs": [
        {
          "output_type": "execute_result",
          "data": {
            "text/plain": [
              "{'ES': 58, 'MG': 54, 'SP': 82, 'RJ': 22}"
            ]
          },
          "metadata": {},
          "execution_count": 92
        }
      ]
    },
    {
      "cell_type": "markdown",
      "source": [],
      "metadata": {
        "id": "XK3ql0LJF_fA"
      }
    },
    {
      "cell_type": "markdown",
      "source": [
        "#4. Lidando com exceções"
      ],
      "metadata": {
        "id": "LE3c9279INR8"
      }
    },
    {
      "cell_type": "markdown",
      "source": [
        "##Tipos de Exceçoes"
      ],
      "metadata": {
        "id": "0OqoYB8cIQod"
      }
    },
    {
      "cell_type": "markdown",
      "source": [
        "No Python existem basicamente duas formas distintas de erros: os de sintaxe e as exceções. As exceções são uma forma de lidar com erros e situações inesperadas no código, garantindo um fluxo de execução mais controlado."
      ],
      "metadata": {
        "id": "Eew47TXHIS2k"
      }
    },
    {
      "cell_type": "markdown",
      "source": [
        "###Como aparece uma exceção no Python:"
      ],
      "metadata": {
        "id": "b2ukCgwcIzmP"
      }
    },
    {
      "cell_type": "markdown",
      "source": [
        "![Aula04-img01.webp](data:image/webp;base64,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)"
      ],
      "metadata": {
        "id": "c_fLx98oI1fQ"
      }
    },
    {
      "cell_type": "markdown",
      "source": [
        "####Tipos de Exceções"
      ],
      "metadata": {
        "id": "Wwoq1aqoI-do"
      }
    },
    {
      "cell_type": "markdown",
      "source": [
        "**SyntaxError**"
      ],
      "metadata": {
        "id": "pKtStCdYJHZJ"
      }
    },
    {
      "cell_type": "markdown",
      "source": [
        "Ocorre quando é detectado pelo parser (analisador) um erro na descrição do código. Normalmente uma seta aponta para a parte do código que gerou o erro, como uma espécie de dica onde o erro possa ter ocorrido."
      ],
      "metadata": {
        "id": "RlZh7u43JN7l"
      }
    },
    {
      "cell_type": "code",
      "source": [
        "print(10 / 2"
      ],
      "metadata": {
        "colab": {
          "base_uri": "https://localhost:8080/",
          "height": 106
        },
        "id": "mZqCtLHAMO9w",
        "outputId": "093de2b5-5a2a-45be-a547-e542cef5f3ab"
      },
      "execution_count": null,
      "outputs": [
        {
          "output_type": "error",
          "ename": "SyntaxError",
          "evalue": "incomplete input (ipython-input-94-1225550915.py, line 1)",
          "traceback": [
            "\u001b[0;36m  File \u001b[0;32m\"/tmp/ipython-input-94-1225550915.py\"\u001b[0;36m, line \u001b[0;32m1\u001b[0m\n\u001b[0;31m    print(10 / 2\u001b[0m\n\u001b[0m                ^\u001b[0m\n\u001b[0;31mSyntaxError\u001b[0m\u001b[0;31m:\u001b[0m incomplete input\n"
          ]
        }
      ]
    },
    {
      "cell_type": "markdown",
      "source": [
        "**NameError**"
      ],
      "metadata": {
        "id": "6xoL8MCaMBYQ"
      }
    },
    {
      "cell_type": "markdown",
      "source": [
        "Exceção lançada quando tentamos utilizar um nome de algum elemento que não está presente em nosso código."
      ],
      "metadata": {
        "id": "VtD_mc7eMEaK"
      }
    },
    {
      "cell_type": "code",
      "source": [
        "raiz = sqrt(100)"
      ],
      "metadata": {
        "colab": {
          "base_uri": "https://localhost:8080/",
          "height": 141
        },
        "id": "N7x6NlRGMQLx",
        "outputId": "5c189798-0534-404b-8a9e-1383390d88d9"
      },
      "execution_count": null,
      "outputs": [
        {
          "output_type": "error",
          "ename": "NameError",
          "evalue": "name 'sqrt' is not defined",
          "traceback": [
            "\u001b[0;31m---------------------------------------------------------------------------\u001b[0m",
            "\u001b[0;31mNameError\u001b[0m                                 Traceback (most recent call last)",
            "\u001b[0;32m/tmp/ipython-input-95-767676588.py\u001b[0m in \u001b[0;36m<cell line: 0>\u001b[0;34m()\u001b[0m\n\u001b[0;32m----> 1\u001b[0;31m \u001b[0mraiz\u001b[0m \u001b[0;34m=\u001b[0m \u001b[0msqrt\u001b[0m\u001b[0;34m(\u001b[0m\u001b[0;36m100\u001b[0m\u001b[0;34m)\u001b[0m\u001b[0;34m\u001b[0m\u001b[0;34m\u001b[0m\u001b[0m\n\u001b[0m",
            "\u001b[0;31mNameError\u001b[0m: name 'sqrt' is not defined"
          ]
        }
      ]
    },
    {
      "cell_type": "markdown",
      "source": [
        "**IndexError**"
      ],
      "metadata": {
        "id": "r9Lfkb0jMGa4"
      }
    },
    {
      "cell_type": "markdown",
      "source": [
        "Exceção lançada quando tentamos indexar alguma estrutura de dados como lista, tupla ou até string além de seus limites."
      ],
      "metadata": {
        "id": "TCLWVnTNMHPg"
      }
    },
    {
      "cell_type": "code",
      "source": [
        "lista = [1, 2, 3]\n",
        "lista[4]"
      ],
      "metadata": {
        "colab": {
          "base_uri": "https://localhost:8080/",
          "height": 159
        },
        "id": "e3EUzZ1aMkyr",
        "outputId": "72a5a27b-c508-4cac-e361-de2d3c0a1cdb"
      },
      "execution_count": null,
      "outputs": [
        {
          "output_type": "error",
          "ename": "IndexError",
          "evalue": "list index out of range",
          "traceback": [
            "\u001b[0;31m---------------------------------------------------------------------------\u001b[0m",
            "\u001b[0;31mIndexError\u001b[0m                                Traceback (most recent call last)",
            "\u001b[0;32m/tmp/ipython-input-96-3513969580.py\u001b[0m in \u001b[0;36m<cell line: 0>\u001b[0;34m()\u001b[0m\n\u001b[1;32m      1\u001b[0m \u001b[0mlista\u001b[0m \u001b[0;34m=\u001b[0m \u001b[0;34m[\u001b[0m\u001b[0;36m1\u001b[0m\u001b[0;34m,\u001b[0m \u001b[0;36m2\u001b[0m\u001b[0;34m,\u001b[0m \u001b[0;36m3\u001b[0m\u001b[0;34m]\u001b[0m\u001b[0;34m\u001b[0m\u001b[0;34m\u001b[0m\u001b[0m\n\u001b[0;32m----> 2\u001b[0;31m \u001b[0mlista\u001b[0m\u001b[0;34m[\u001b[0m\u001b[0;36m4\u001b[0m\u001b[0;34m]\u001b[0m\u001b[0;34m\u001b[0m\u001b[0;34m\u001b[0m\u001b[0m\n\u001b[0m",
            "\u001b[0;31mIndexError\u001b[0m: list index out of range"
          ]
        }
      ]
    },
    {
      "cell_type": "markdown",
      "source": [
        "**TypeError**"
      ],
      "metadata": {
        "id": "esHhBkN5MJYF"
      }
    },
    {
      "cell_type": "markdown",
      "source": [
        "Exceção lançada quando um operador ou função são aplicados a um objeto cujo tipo é inapropriado."
      ],
      "metadata": {
        "id": "6Vn6KQpOMLR4"
      }
    },
    {
      "cell_type": "code",
      "source": [
        "\"1\" + 1"
      ],
      "metadata": {
        "colab": {
          "base_uri": "https://localhost:8080/",
          "height": 141
        },
        "id": "ok0C1AhGMSwJ",
        "outputId": "22a9c59a-827f-4b84-d91f-73f89cda6c04"
      },
      "execution_count": null,
      "outputs": [
        {
          "output_type": "error",
          "ename": "TypeError",
          "evalue": "can only concatenate str (not \"int\") to str",
          "traceback": [
            "\u001b[0;31m---------------------------------------------------------------------------\u001b[0m",
            "\u001b[0;31mTypeError\u001b[0m                                 Traceback (most recent call last)",
            "\u001b[0;32m/tmp/ipython-input-97-991885494.py\u001b[0m in \u001b[0;36m<cell line: 0>\u001b[0;34m()\u001b[0m\n\u001b[0;32m----> 1\u001b[0;31m \u001b[0;34m\"1\"\u001b[0m \u001b[0;34m+\u001b[0m \u001b[0;36m1\u001b[0m\u001b[0;34m\u001b[0m\u001b[0;34m\u001b[0m\u001b[0m\n\u001b[0m",
            "\u001b[0;31mTypeError\u001b[0m: can only concatenate str (not \"int\") to str"
          ]
        }
      ]
    },
    {
      "cell_type": "markdown",
      "source": [
        "**KeyError**"
      ],
      "metadata": {
        "id": "z-em1KK5MUFo"
      }
    },
    {
      "cell_type": "markdown",
      "source": [
        "Exceção lançada quando tentamos acessar uma chave que não está no dicionário presente em nosso código."
      ],
      "metadata": {
        "id": "O9j0xLwWMV5I"
      }
    },
    {
      "cell_type": "code",
      "source": [
        "estados = {'Bahia': 1, 'São Paulo': 2, 'Goiás': 3}\n",
        "estados[\"Amazonas\"]"
      ],
      "metadata": {
        "colab": {
          "base_uri": "https://localhost:8080/",
          "height": 159
        },
        "id": "25Wya-INMWvI",
        "outputId": "6dccc7d5-3629-4f81-c5d1-ffaadc002f7d"
      },
      "execution_count": null,
      "outputs": [
        {
          "output_type": "error",
          "ename": "KeyError",
          "evalue": "'Amazonas'",
          "traceback": [
            "\u001b[0;31m---------------------------------------------------------------------------\u001b[0m",
            "\u001b[0;31mKeyError\u001b[0m                                  Traceback (most recent call last)",
            "\u001b[0;32m/tmp/ipython-input-98-1922908202.py\u001b[0m in \u001b[0;36m<cell line: 0>\u001b[0;34m()\u001b[0m\n\u001b[1;32m      1\u001b[0m \u001b[0mestados\u001b[0m \u001b[0;34m=\u001b[0m \u001b[0;34m{\u001b[0m\u001b[0;34m'Bahia'\u001b[0m\u001b[0;34m:\u001b[0m \u001b[0;36m1\u001b[0m\u001b[0;34m,\u001b[0m \u001b[0;34m'São Paulo'\u001b[0m\u001b[0;34m:\u001b[0m \u001b[0;36m2\u001b[0m\u001b[0;34m,\u001b[0m \u001b[0;34m'Goiás'\u001b[0m\u001b[0;34m:\u001b[0m \u001b[0;36m3\u001b[0m\u001b[0;34m}\u001b[0m\u001b[0;34m\u001b[0m\u001b[0;34m\u001b[0m\u001b[0m\n\u001b[0;32m----> 2\u001b[0;31m \u001b[0mestados\u001b[0m\u001b[0;34m[\u001b[0m\u001b[0;34m\"Amazonas\"\u001b[0m\u001b[0;34m]\u001b[0m\u001b[0;34m\u001b[0m\u001b[0;34m\u001b[0m\u001b[0m\n\u001b[0m",
            "\u001b[0;31mKeyError\u001b[0m: 'Amazonas'"
          ]
        }
      ]
    },
    {
      "cell_type": "markdown",
      "source": [
        "**Warning**"
      ],
      "metadata": {
        "id": "HcSa1zwVMX-5"
      }
    },
    {
      "cell_type": "markdown",
      "source": [
        "Exceção lançada em situações que precisamos alertar à pessoa usuária sobre algumas condições do código. Essas condições não necessariamente interrompem a execução do programa, mas podem lançar avisos sobre uso de módulos obsoletos, ou que possam ser depreciados em atualizações futuras ou também para alterações que podem reverberar sobre alguma parte do código.\n",
        "\n",
        "Lembrando que, no caso dos Warnings eles podem ser ignorados ou tratados como exceções."
      ],
      "metadata": {
        "id": "CDCsAEPqMaff"
      }
    },
    {
      "cell_type": "code",
      "source": [
        "import numpy as np\n",
        "\n",
        "a = np.arange(5)\n",
        "a / a  # apresenta um warning"
      ],
      "metadata": {
        "colab": {
          "base_uri": "https://localhost:8080/"
        },
        "id": "xBX3EbFoMbt6",
        "outputId": "91ba29b5-4def-49aa-9c95-9e090ce51ff4"
      },
      "execution_count": null,
      "outputs": [
        {
          "output_type": "stream",
          "name": "stderr",
          "text": [
            "/tmp/ipython-input-93-2109087288.py:4: RuntimeWarning: invalid value encountered in divide\n",
            "  a / a  # apresenta um warning\n"
          ]
        },
        {
          "output_type": "execute_result",
          "data": {
            "text/plain": [
              "array([nan,  1.,  1.,  1.,  1.])"
            ]
          },
          "metadata": {},
          "execution_count": 93
        }
      ]
    },
    {
      "cell_type": "markdown",
      "source": [
        "##Tratando Exceções"
      ],
      "metadata": {
        "id": "RGnLDN6NPTJu"
      }
    },
    {
      "cell_type": "markdown",
      "source": [
        "As exceções são erros que ocorrem dentro a execução do programa e interrompem o fluxo do programa quando não tratadas. Para isso, precisamos saber identificar esses erros e tratá-los."
      ],
      "metadata": {
        "id": "NgmM8PU5PVrB"
      }
    },
    {
      "cell_type": "markdown",
      "source": [
        "Imagine que temos um código com um fluxo padrão a este código. Caso alguma exceção ou erro ocorra, ao invés de quebrarmos este fluxo padrão, entramos em um fluxo alternativo, no caso, uma exceção, que gera para o usuário uma explicação do erro ou um caminho alternativo para seguir na execução do programa.\n",
        "\n",
        "Explicaremos o tratamento de exceções a partir de algumas cláusulas, começando pela Try...Except."
      ],
      "metadata": {
        "id": "AwGAVfOkPgr4"
      }
    },
    {
      "cell_type": "markdown",
      "source": [
        "**Try...Except**"
      ],
      "metadata": {
        "id": "ziyuTPERPh3E"
      }
    },
    {
      "cell_type": "markdown",
      "source": [
        "Nela, temos dois tipos de cláusulas em que try representa o código padrão. Caso não ocorra nenhuma exceção, ele será executado por completo e o programa seguirá.\n",
        "\n",
        "Se uma exceção for lançada, quebramos a execução de try e continuamos com o que precisa ser executado em except, que seria a cláusula de exceção. Ou seja, a cláusula except só será acionada se uma exceção for lançada na cláusula try.\n",
        "\n",
        "Esta exceção não precisa necessariamente ser declarada, então podemos apenas incluir except e as instruções de código. Caso optemos por declarar o nome da exceção, o passamos seguido d o apelido e.\n",
        "\n"
      ],
      "metadata": {
        "id": "UUiDE0dzPmuw"
      }
    },
    {
      "cell_type": "code",
      "source": [
        "#except <nome_da_excecao as e>:"
      ],
      "metadata": {
        "id": "mIT03aWkPxlo"
      },
      "execution_count": null,
      "outputs": []
    },
    {
      "cell_type": "code",
      "source": [
        "notas = {'João': [8.0, 9.0, 10.0], 'Maria': [9.0, 7.0, 6.0], 'José': [3.4, 7.0, 8.0],'Cláudia': [5.5, 6.6, 8.0], 'Ana': [6.0, 10.0, 9.5], 'Joaquim': [5.5, 7.5, 9.0], 'Júlia': [6.0, 8.0, 7.0], 'Pedro': [3.0, 4.0, 6.0]}\n",
        "nome = input(\"Digite o nome do(a) estudante: \") #Bruno\n",
        "resultado = notas[nome]\n",
        "resultado"
      ],
      "metadata": {
        "colab": {
          "base_uri": "https://localhost:8080/",
          "height": 228
        },
        "id": "oe8ASPJvP0KJ",
        "outputId": "6c45cec7-8526-452b-98a0-06e06e3c5ff4"
      },
      "execution_count": null,
      "outputs": [
        {
          "name": "stdout",
          "output_type": "stream",
          "text": [
            "Digite o nome do(a) estudante: Bruno\n"
          ]
        },
        {
          "output_type": "error",
          "ename": "KeyError",
          "evalue": "'Bruno'",
          "traceback": [
            "\u001b[0;31m---------------------------------------------------------------------------\u001b[0m",
            "\u001b[0;31mKeyError\u001b[0m                                  Traceback (most recent call last)",
            "\u001b[0;32m/tmp/ipython-input-100-4229045615.py\u001b[0m in \u001b[0;36m<cell line: 0>\u001b[0;34m()\u001b[0m\n\u001b[1;32m      1\u001b[0m \u001b[0mnotas\u001b[0m \u001b[0;34m=\u001b[0m \u001b[0;34m{\u001b[0m\u001b[0;34m'João'\u001b[0m\u001b[0;34m:\u001b[0m \u001b[0;34m[\u001b[0m\u001b[0;36m8.0\u001b[0m\u001b[0;34m,\u001b[0m \u001b[0;36m9.0\u001b[0m\u001b[0;34m,\u001b[0m \u001b[0;36m10.0\u001b[0m\u001b[0;34m]\u001b[0m\u001b[0;34m,\u001b[0m \u001b[0;34m'Maria'\u001b[0m\u001b[0;34m:\u001b[0m \u001b[0;34m[\u001b[0m\u001b[0;36m9.0\u001b[0m\u001b[0;34m,\u001b[0m \u001b[0;36m7.0\u001b[0m\u001b[0;34m,\u001b[0m \u001b[0;36m6.0\u001b[0m\u001b[0;34m]\u001b[0m\u001b[0;34m,\u001b[0m \u001b[0;34m'José'\u001b[0m\u001b[0;34m:\u001b[0m \u001b[0;34m[\u001b[0m\u001b[0;36m3.4\u001b[0m\u001b[0;34m,\u001b[0m \u001b[0;36m7.0\u001b[0m\u001b[0;34m,\u001b[0m \u001b[0;36m8.0\u001b[0m\u001b[0;34m]\u001b[0m\u001b[0;34m,\u001b[0m\u001b[0;34m'Cláudia'\u001b[0m\u001b[0;34m:\u001b[0m \u001b[0;34m[\u001b[0m\u001b[0;36m5.5\u001b[0m\u001b[0;34m,\u001b[0m \u001b[0;36m6.6\u001b[0m\u001b[0;34m,\u001b[0m \u001b[0;36m8.0\u001b[0m\u001b[0;34m]\u001b[0m\u001b[0;34m,\u001b[0m \u001b[0;34m'Ana'\u001b[0m\u001b[0;34m:\u001b[0m \u001b[0;34m[\u001b[0m\u001b[0;36m6.0\u001b[0m\u001b[0;34m,\u001b[0m \u001b[0;36m10.0\u001b[0m\u001b[0;34m,\u001b[0m \u001b[0;36m9.5\u001b[0m\u001b[0;34m]\u001b[0m\u001b[0;34m,\u001b[0m \u001b[0;34m'Joaquim'\u001b[0m\u001b[0;34m:\u001b[0m \u001b[0;34m[\u001b[0m\u001b[0;36m5.5\u001b[0m\u001b[0;34m,\u001b[0m \u001b[0;36m7.5\u001b[0m\u001b[0;34m,\u001b[0m \u001b[0;36m9.0\u001b[0m\u001b[0;34m]\u001b[0m\u001b[0;34m,\u001b[0m \u001b[0;34m'Júlia'\u001b[0m\u001b[0;34m:\u001b[0m \u001b[0;34m[\u001b[0m\u001b[0;36m6.0\u001b[0m\u001b[0;34m,\u001b[0m \u001b[0;36m8.0\u001b[0m\u001b[0;34m,\u001b[0m \u001b[0;36m7.0\u001b[0m\u001b[0;34m]\u001b[0m\u001b[0;34m,\u001b[0m \u001b[0;34m'Pedro'\u001b[0m\u001b[0;34m:\u001b[0m \u001b[0;34m[\u001b[0m\u001b[0;36m3.0\u001b[0m\u001b[0;34m,\u001b[0m \u001b[0;36m4.0\u001b[0m\u001b[0;34m,\u001b[0m \u001b[0;36m6.0\u001b[0m\u001b[0;34m]\u001b[0m\u001b[0;34m}\u001b[0m\u001b[0;34m\u001b[0m\u001b[0;34m\u001b[0m\u001b[0m\n\u001b[1;32m      2\u001b[0m \u001b[0mnome\u001b[0m \u001b[0;34m=\u001b[0m \u001b[0minput\u001b[0m\u001b[0;34m(\u001b[0m\u001b[0;34m\"Digite o nome do(a) estudante: \"\u001b[0m\u001b[0;34m)\u001b[0m\u001b[0;34m\u001b[0m\u001b[0;34m\u001b[0m\u001b[0m\n\u001b[0;32m----> 3\u001b[0;31m \u001b[0mresultado\u001b[0m \u001b[0;34m=\u001b[0m \u001b[0mnotas\u001b[0m\u001b[0;34m[\u001b[0m\u001b[0mnome\u001b[0m\u001b[0;34m]\u001b[0m\u001b[0;34m\u001b[0m\u001b[0;34m\u001b[0m\u001b[0m\n\u001b[0m\u001b[1;32m      4\u001b[0m \u001b[0mresultado\u001b[0m\u001b[0;34m\u001b[0m\u001b[0;34m\u001b[0m\u001b[0m\n",
            "\u001b[0;31mKeyError\u001b[0m: 'Bruno'"
          ]
        }
      ]
    },
    {
      "cell_type": "code",
      "source": [
        "try:\n",
        "    nome = input(\"Digite o nome do(a) estudante: \")\n",
        "    resultado = notas[nome]\n",
        "except Exception as e:\n",
        "    print(type(e), f\"Erro: {e}\")"
      ],
      "metadata": {
        "colab": {
          "base_uri": "https://localhost:8080/"
        },
        "id": "jSTzhazkP_nV",
        "outputId": "cdf404a6-56a4-4201-f6e7-dd129afdb339"
      },
      "execution_count": null,
      "outputs": [
        {
          "output_type": "stream",
          "name": "stdout",
          "text": [
            "Digite o nome do(a) estudante: Bruno\n",
            "<class 'KeyError'> Erro: 'Bruno'\n"
          ]
        }
      ]
    },
    {
      "cell_type": "code",
      "source": [
        "try:\n",
        "    nome = input(\"Digite o nome do(a) estudante: \")\n",
        "    resultado = notas[nome]\n",
        "except KeyError:\n",
        "    print(\"Estudante não matriculado(a) na turma\")"
      ],
      "metadata": {
        "colab": {
          "base_uri": "https://localhost:8080/"
        },
        "id": "5qsODB2KQNh4",
        "outputId": "079979c4-5464-49e7-9100-b37660680f1f"
      },
      "execution_count": null,
      "outputs": [
        {
          "output_type": "stream",
          "name": "stdout",
          "text": [
            "Digite o nome do(a) estudante: Bruno\n",
            "Estudante não matriculado(a) na turma\n"
          ]
        }
      ]
    },
    {
      "cell_type": "markdown",
      "source": [
        "**Else**"
      ],
      "metadata": {
        "id": "BPnyaONAQTAM"
      }
    },
    {
      "cell_type": "markdown",
      "source": [
        "O else, semelhante à if...else, pega o caso contrário. Ou seja, se não tiver uma exceção, seguimos o fluxo do try e ao concluí-lo com sucesso saltamos para o else."
      ],
      "metadata": {
        "id": "FbhapR9UQUUY"
      }
    },
    {
      "cell_type": "code",
      "source": [
        "try:\n",
        "    nome = input(\"Digite o nome do(a) estudante: \")\n",
        "    resultado = notas[nome]\n",
        "except KeyError:\n",
        "    print(\"Estudante não matriculado(a) na turma\")\n",
        "else:\n",
        "    print(resultado)"
      ],
      "metadata": {
        "colab": {
          "base_uri": "https://localhost:8080/"
        },
        "id": "gmfXPBzDQgC0",
        "outputId": "3b10e946-ce74-4742-fb55-b44aa6bbb8da"
      },
      "execution_count": null,
      "outputs": [
        {
          "output_type": "stream",
          "name": "stdout",
          "text": [
            "Digite o nome do(a) estudante: teste\n",
            "Estudante não matriculado(a) na turma\n"
          ]
        }
      ]
    },
    {
      "cell_type": "markdown",
      "source": [
        "##Cláusula finally"
      ],
      "metadata": {
        "id": "NS-LvEyfRVXd"
      }
    },
    {
      "cell_type": "markdown",
      "source": [
        "O `try` corresponde ao fluxo normal, `except` ao fluxo de exceção, e `else` para o caso em que a exceção não for lançada. O `finally`, por sua vez, funciona para os casos em que qualquer uma das duas situações ocorra. Ou seja, tendo ou não exceção, a cláusula `finally` será executada."
      ],
      "metadata": {
        "id": "yo05Zd_CRWVp"
      }
    },
    {
      "cell_type": "code",
      "source": [
        "notas = {'João': [8.0, 9.0, 10.0], 'Maria': [9.0, 7.0, 6.0], 'José': [3.4, 7.0, 8.0],'Cláudia': [5.5, 6.6, 8.0], 'Ana': [6.0, 10.0, 9.5], 'Joaquim': [5.5, 7.5, 9.0], 'Júlia': [6.0, 8.0, 7.0], 'Pedro': [3.0, 4.0, 6.0]}\n",
        "try:\n",
        "    nome = input(\"Digite o nome do(a) estudante: \")\n",
        "    resultado = notas[nome]\n",
        "except KeyError:\n",
        "    print(\"Estudante não matriculado(a) na turma\")\n",
        "else:\n",
        "    print(resultado)\n",
        "finally:\n",
        "    print(\"A consulta foi encerrada!\")"
      ],
      "metadata": {
        "colab": {
          "base_uri": "https://localhost:8080/"
        },
        "id": "9DuNqX39RdOI",
        "outputId": "041f058a-731d-451e-cf24-2f156fe8e4e1"
      },
      "execution_count": null,
      "outputs": [
        {
          "output_type": "stream",
          "name": "stdout",
          "text": [
            "Digite o nome do(a) estudante: Teste\n",
            "Estudante não matriculado(a) na turma\n",
            "A consulta foi encerrada!\n"
          ]
        }
      ]
    },
    {
      "cell_type": "markdown",
      "source": [
        "Ou seja, mesmo ao executar a cláusula except, que avisa que o estudante não está matriculado(a), recebemos o informativo de encerramento da consulta.\n",
        "\n",
        "Conseguimos tratar o mesmo problema utilizando mais camadas para atingir fluxos necessários para o nosso dado."
      ],
      "metadata": {
        "id": "X7URi1C6Rkoo"
      }
    },
    {
      "cell_type": "markdown",
      "source": [
        "##Raise"
      ],
      "metadata": {
        "id": "C87z0fEYRl04"
      }
    },
    {
      "cell_type": "markdown",
      "source": [
        "Outra forma de trabalhar com exceções, é criar uma própria pensando em um comportamento que não queremos que ocorra em nosso programa. Para isso, usamos a palavra-chave `raise` que permitirá que lancemos uma exceção."
      ],
      "metadata": {
        "id": "TmxjQDWGSUep"
      }
    },
    {
      "cell_type": "code",
      "source": [
        "#raise ValueError(\"A lista de notas deve possuir dez elementos\")"
      ],
      "metadata": {
        "id": "8g7Bfe8dSXeV"
      },
      "execution_count": null,
      "outputs": []
    },
    {
      "cell_type": "code",
      "source": [
        "def media(lista: list=[0]) -> float:\n",
        "  '''\n",
        "  Função para calcular a média de notas passadas por uma lista\n",
        "  '''\n",
        "  calculo = sum(lista) / len(lista)\n",
        "  if len(lista) > 4: raise ValueError(\"A lista não pode possuir mais de 4 notas.\")\n",
        "  return calculo"
      ],
      "metadata": {
        "id": "ghQ8kRwMSkW2"
      },
      "execution_count": null,
      "outputs": []
    },
    {
      "cell_type": "code",
      "source": [
        "notas = [6, 7, 8, 8, 9]\n",
        "resultado = media(notas)\n",
        "resultado"
      ],
      "metadata": {
        "colab": {
          "base_uri": "https://localhost:8080/",
          "height": 280
        },
        "id": "4Z86ctKmSxTw",
        "outputId": "cda4df00-e565-4af7-855d-2cdee69a765a"
      },
      "execution_count": null,
      "outputs": [
        {
          "output_type": "error",
          "ename": "ValueError",
          "evalue": "A lista não pode possuir mais de 4 notas.",
          "traceback": [
            "\u001b[0;31m---------------------------------------------------------------------------\u001b[0m",
            "\u001b[0;31mValueError\u001b[0m                                Traceback (most recent call last)",
            "\u001b[0;32m/tmp/ipython-input-33-2616636938.py\u001b[0m in \u001b[0;36m<cell line: 0>\u001b[0;34m()\u001b[0m\n\u001b[1;32m      1\u001b[0m \u001b[0mnotas\u001b[0m \u001b[0;34m=\u001b[0m \u001b[0;34m[\u001b[0m\u001b[0;36m6\u001b[0m\u001b[0;34m,\u001b[0m \u001b[0;36m7\u001b[0m\u001b[0;34m,\u001b[0m \u001b[0;36m8\u001b[0m\u001b[0;34m,\u001b[0m \u001b[0;36m8\u001b[0m\u001b[0;34m,\u001b[0m \u001b[0;36m9\u001b[0m\u001b[0;34m]\u001b[0m\u001b[0;34m\u001b[0m\u001b[0;34m\u001b[0m\u001b[0m\n\u001b[0;32m----> 2\u001b[0;31m \u001b[0mresultado\u001b[0m \u001b[0;34m=\u001b[0m \u001b[0mmedia\u001b[0m\u001b[0;34m(\u001b[0m\u001b[0mnotas\u001b[0m\u001b[0;34m)\u001b[0m\u001b[0;34m\u001b[0m\u001b[0;34m\u001b[0m\u001b[0m\n\u001b[0m\u001b[1;32m      3\u001b[0m \u001b[0mresultado\u001b[0m\u001b[0;34m\u001b[0m\u001b[0;34m\u001b[0m\u001b[0m\n",
            "\u001b[0;32m/tmp/ipython-input-32-848187017.py\u001b[0m in \u001b[0;36mmedia\u001b[0;34m(lista)\u001b[0m\n\u001b[1;32m      4\u001b[0m   '''\n\u001b[1;32m      5\u001b[0m   \u001b[0mcalculo\u001b[0m \u001b[0;34m=\u001b[0m \u001b[0msum\u001b[0m\u001b[0;34m(\u001b[0m\u001b[0mlista\u001b[0m\u001b[0;34m)\u001b[0m \u001b[0;34m/\u001b[0m \u001b[0mlen\u001b[0m\u001b[0;34m(\u001b[0m\u001b[0mlista\u001b[0m\u001b[0;34m)\u001b[0m\u001b[0;34m\u001b[0m\u001b[0;34m\u001b[0m\u001b[0m\n\u001b[0;32m----> 6\u001b[0;31m   \u001b[0;32mif\u001b[0m \u001b[0mlen\u001b[0m\u001b[0;34m(\u001b[0m\u001b[0mlista\u001b[0m\u001b[0;34m)\u001b[0m \u001b[0;34m>\u001b[0m \u001b[0;36m4\u001b[0m\u001b[0;34m:\u001b[0m \u001b[0;32mraise\u001b[0m \u001b[0mValueError\u001b[0m\u001b[0;34m(\u001b[0m\u001b[0;34m\"A lista não pode possuir mais de 4 notas.\"\u001b[0m\u001b[0;34m)\u001b[0m\u001b[0;34m\u001b[0m\u001b[0;34m\u001b[0m\u001b[0m\n\u001b[0m\u001b[1;32m      7\u001b[0m   \u001b[0;32mreturn\u001b[0m \u001b[0mcalculo\u001b[0m\u001b[0;34m\u001b[0m\u001b[0;34m\u001b[0m\u001b[0m\n",
            "\u001b[0;31mValueError\u001b[0m: A lista não pode possuir mais de 4 notas."
          ]
        }
      ]
    },
    {
      "cell_type": "code",
      "source": [
        "notas = [6, 7, 8, 8, 9, '8']\n",
        "resultado = media(notas)\n",
        "resultado"
      ],
      "metadata": {
        "colab": {
          "base_uri": "https://localhost:8080/",
          "height": 297
        },
        "id": "eaOwH0RXS56C",
        "outputId": "165885e0-8993-4f80-b8da-0a8f357bdff7"
      },
      "execution_count": null,
      "outputs": [
        {
          "output_type": "error",
          "ename": "TypeError",
          "evalue": "unsupported operand type(s) for +: 'int' and 'str'",
          "traceback": [
            "\u001b[0;31m---------------------------------------------------------------------------\u001b[0m",
            "\u001b[0;31mTypeError\u001b[0m                                 Traceback (most recent call last)",
            "\u001b[0;32m/tmp/ipython-input-34-4057826515.py\u001b[0m in \u001b[0;36m<cell line: 0>\u001b[0;34m()\u001b[0m\n\u001b[1;32m      1\u001b[0m \u001b[0mnotas\u001b[0m \u001b[0;34m=\u001b[0m \u001b[0;34m[\u001b[0m\u001b[0;36m6\u001b[0m\u001b[0;34m,\u001b[0m \u001b[0;36m7\u001b[0m\u001b[0;34m,\u001b[0m \u001b[0;36m8\u001b[0m\u001b[0;34m,\u001b[0m \u001b[0;36m8\u001b[0m\u001b[0;34m,\u001b[0m \u001b[0;36m9\u001b[0m\u001b[0;34m,\u001b[0m \u001b[0;34m'8'\u001b[0m\u001b[0;34m]\u001b[0m\u001b[0;34m\u001b[0m\u001b[0;34m\u001b[0m\u001b[0m\n\u001b[0;32m----> 2\u001b[0;31m \u001b[0mresultado\u001b[0m \u001b[0;34m=\u001b[0m \u001b[0mmedia\u001b[0m\u001b[0;34m(\u001b[0m\u001b[0mnotas\u001b[0m\u001b[0;34m)\u001b[0m\u001b[0;34m\u001b[0m\u001b[0;34m\u001b[0m\u001b[0m\n\u001b[0m\u001b[1;32m      3\u001b[0m \u001b[0mresultado\u001b[0m\u001b[0;34m\u001b[0m\u001b[0;34m\u001b[0m\u001b[0m\n",
            "\u001b[0;32m/tmp/ipython-input-32-848187017.py\u001b[0m in \u001b[0;36mmedia\u001b[0;34m(lista)\u001b[0m\n\u001b[1;32m      3\u001b[0m   \u001b[0mFunção\u001b[0m \u001b[0mpara\u001b[0m \u001b[0mcalcular\u001b[0m \u001b[0ma\u001b[0m \u001b[0mmédia\u001b[0m \u001b[0mde\u001b[0m \u001b[0mnotas\u001b[0m \u001b[0mpassadas\u001b[0m \u001b[0mpor\u001b[0m \u001b[0muma\u001b[0m \u001b[0mlista\u001b[0m\u001b[0;34m\u001b[0m\u001b[0;34m\u001b[0m\u001b[0m\n\u001b[1;32m      4\u001b[0m   '''\n\u001b[0;32m----> 5\u001b[0;31m   \u001b[0mcalculo\u001b[0m \u001b[0;34m=\u001b[0m \u001b[0msum\u001b[0m\u001b[0;34m(\u001b[0m\u001b[0mlista\u001b[0m\u001b[0;34m)\u001b[0m \u001b[0;34m/\u001b[0m \u001b[0mlen\u001b[0m\u001b[0;34m(\u001b[0m\u001b[0mlista\u001b[0m\u001b[0;34m)\u001b[0m\u001b[0;34m\u001b[0m\u001b[0;34m\u001b[0m\u001b[0m\n\u001b[0m\u001b[1;32m      6\u001b[0m   \u001b[0;32mif\u001b[0m \u001b[0mlen\u001b[0m\u001b[0;34m(\u001b[0m\u001b[0mlista\u001b[0m\u001b[0;34m)\u001b[0m \u001b[0;34m>\u001b[0m \u001b[0;36m4\u001b[0m\u001b[0;34m:\u001b[0m \u001b[0;32mraise\u001b[0m \u001b[0mValueError\u001b[0m\u001b[0;34m(\u001b[0m\u001b[0;34m\"A lista não pode possuir mais de 4 notas.\"\u001b[0m\u001b[0;34m)\u001b[0m\u001b[0;34m\u001b[0m\u001b[0;34m\u001b[0m\u001b[0m\n\u001b[1;32m      7\u001b[0m   \u001b[0;32mreturn\u001b[0m \u001b[0mcalculo\u001b[0m\u001b[0;34m\u001b[0m\u001b[0;34m\u001b[0m\u001b[0m\n",
            "\u001b[0;31mTypeError\u001b[0m: unsupported operand type(s) for +: 'int' and 'str'"
          ]
        }
      ]
    },
    {
      "cell_type": "code",
      "source": [
        "try:\n",
        "    notas = [6, 7, 8, 9, '9']\n",
        "    resultado = media(notas)\n",
        "except TypeError: print(\"Não foi possível calcular a média do(a) estudante. Só são aceitos valores numéricos!\")\n",
        "except ValueError as e: print(e)\n",
        "else: print(resultado)\n",
        "finally: print(\"A consulta foi encerrada!\")"
      ],
      "metadata": {
        "colab": {
          "base_uri": "https://localhost:8080/"
        },
        "id": "QCmvJyXyTAZI",
        "outputId": "2dfd2e44-7daf-43d7-aedb-8cd91c757297"
      },
      "execution_count": null,
      "outputs": [
        {
          "output_type": "stream",
          "name": "stdout",
          "text": [
            "Não foi possível calcular a média do(a) estudante. Só são aceitos valores numéricos!\n",
            "A consulta foi encerrada!\n"
          ]
        }
      ]
    },
    {
      "cell_type": "markdown",
      "source": [
        "##Hora da Prática"
      ],
      "metadata": {
        "id": "BT66nVi9WZJk"
      }
    },
    {
      "cell_type": "markdown",
      "source": [
        "1.Faça um programa que solicite à pessoa usuária digitar dois números float e calcular a divisão entre esses números. O código deve conter um tratamento de erro, indicando o tipo de erro que foi gerado caso a divisão não seja possível de realizar.\n",
        "\n",
        "Teste o programa com o segundo valor numérico do input igual a 0. Também teste utilizando caracteres textuais no input para checar os tipos de erro que ocorrem"
      ],
      "metadata": {
        "id": "8Qh146mwWcpU"
      }
    },
    {
      "cell_type": "code",
      "source": [
        "try:\n",
        "  num1 = float(input('Digite um número: '))\n",
        "  num2 = float(input('Digite um número: '))\n",
        "  div = num1/num2\n",
        "except Exception as e: print(type(e), f\"Erro: {e}\")\n",
        "else: print(f'o resultado da divisão é: {div}')"
      ],
      "metadata": {
        "colab": {
          "base_uri": "https://localhost:8080/"
        },
        "id": "R1Ibk_e6WeLQ",
        "outputId": "9cc82f5b-d6bb-47b0-e3ff-0ac47e824cfb"
      },
      "execution_count": null,
      "outputs": [
        {
          "output_type": "stream",
          "name": "stdout",
          "text": [
            "Digite um número: 10\n",
            "Digite um número: 0\n",
            "<class 'ZeroDivisionError'> Erro: float division by zero\n"
          ]
        }
      ]
    },
    {
      "cell_type": "markdown",
      "source": [
        "2.Faça um programa que solicite à pessoa usuária digitar um texto que será uma chave a ser pesquisada no seguinte dicionário: idades = {'Júlia': 16, 'Carol': 23, 'Alberto': 19, 'Roberta': 17}, armazenando o resultado do valor em uma variável. O código deve conter um tratamento de erro KeyError, imprimindo a informação 'Nome não encontrado', caso ocorra o erro; e imprimir o valor caso não ocorra nenhum.\n",
        "\n",
        "Teste o programa com um nome presente em uma das chaves do dicionário e com um que não esteja no dicionário para verificar a mensagem de erro."
      ],
      "metadata": {
        "id": "1E22OnjSZYwI"
      }
    },
    {
      "cell_type": "code",
      "source": [
        "try:\n",
        "  idades = {'Júlia': 16, 'Carol': 23, 'Alberto': 19, 'Roberta': 17}\n",
        "  nome = input('Digite o nome da pessoa: ')\n",
        "  resultado = idades[nome]\n",
        "except KeyError as e: print('Nome não encontrado')\n",
        "else: print('A idade de %s é %d' %(nome, resultado))"
      ],
      "metadata": {
        "colab": {
          "base_uri": "https://localhost:8080/"
        },
        "id": "orX87mdlZal4",
        "outputId": "095ddbdc-28e5-4235-b2a7-a4903b80c9c6"
      },
      "execution_count": null,
      "outputs": [
        {
          "output_type": "stream",
          "name": "stdout",
          "text": [
            "Digite o nome da pessoa: brunp\n",
            "Nome não encontrado\n"
          ]
        }
      ]
    },
    {
      "cell_type": "markdown",
      "source": [
        "3.Crie uma função que recebe uma lista como parâmetro e converta todos os valores da lista para float. A função deve conter um tratamento de erro indicando o tipo de erro gerado e retornar a lista caso não tenha ocorrido nenhum erro. Por fim, deve ter a cláusula finally para imprimir o texto: 'Fim da execução da função'."
      ],
      "metadata": {
        "id": "qm59ABUGakjU"
      }
    },
    {
      "cell_type": "code",
      "source": [
        "lista_teste = [1, 3, 4, 6, 7, 'oi']\n",
        "def transforma_para_float (lista : list=[0]):\n",
        "  '''\n",
        "  Tranforma todos os itens da lista fornecida para Float\n",
        "  '''\n",
        "  try: resultado = [float(item) for item in lista]\n",
        "  except Exception as e: print(type(e), f\"Erro: {e}\")\n",
        "  else: return resultado\n",
        "  finally: print('Fim da execução da função')\n",
        "transforma_para_float(lista_teste)"
      ],
      "metadata": {
        "id": "IsQw3cnDaj3K",
        "colab": {
          "base_uri": "https://localhost:8080/"
        },
        "outputId": "8c3973e6-7396-4561-a66c-6e2734ba59f3"
      },
      "execution_count": null,
      "outputs": [
        {
          "output_type": "stream",
          "name": "stdout",
          "text": [
            "<class 'ValueError'> Erro: could not convert string to float: 'oi'\n",
            "Fim da execução da função\n"
          ]
        }
      ]
    },
    {
      "cell_type": "markdown",
      "source": [
        "4.Crie uma função que recebe duas listas como parâmetros e agrupe os elementos um a um das listas, formando uma lista de tuplas de 3 elementos, no qual o primeiro e segundo elemento da tupla são os valores na posição i das listas e o terceiro elemento é a soma dos valores na posição i das listas.\n",
        "\n",
        "A função deve conter um tratamento de erro indicando o tipo de erro gerado e retornar como resultado a lista de tuplas. Caso as listas enviadas como parâmetro tenham tamanhos diferentes, a função deve retornar um IndexError com a frase: 'A quantidade de elementos em cada lista é diferente."
      ],
      "metadata": {
        "id": "VuEI-MBGPrGV"
      }
    },
    {
      "cell_type": "code",
      "source": [
        "lista1 = [4,6,7,9]\n",
        "lista2 = [-4,4,8,7,9]\n",
        "def transforma_lista(lista1:list=[0], lista2:list=[0]):\n",
        "  '''\n",
        "  Essa recebe duas listas como parâmetros e agrupe os elementos um a um das listas, formando uma lista de tuplas de 3 elementos, no qual o primeiro e segundo elemento da tupla são os valores na posição i das listas e o terceiro elemento é a soma dos valores na posição i das listas.\n",
        "  '''\n",
        "  try:\n",
        "    if len(lista1) != len(lista2): raise IndexError ('A quantidade de elementos em cada lista é diferente')\n",
        "    lista_retorno = [(lista1[i], lista2[i], lista1[i]+lista2[i]) for i in range(len(lista1))]\n",
        "  except Exception as e: print(type(e), f'Erro: {e}')\n",
        "  else: return lista_retorno\n",
        "transforma_lista(lista1, lista2)"
      ],
      "metadata": {
        "colab": {
          "base_uri": "https://localhost:8080/"
        },
        "id": "8bF1VbbcPr9Y",
        "outputId": "e28c7cac-ec60-4338-c714-f72c8d3b0b78"
      },
      "execution_count": null,
      "outputs": [
        {
          "output_type": "stream",
          "name": "stdout",
          "text": [
            "<class 'IndexError'> Erro: A quantidade de elementos em cada lista é diferente\n"
          ]
        }
      ]
    },
    {
      "cell_type": "markdown",
      "source": [
        "**Aplicando a projetos**"
      ],
      "metadata": {
        "id": "5aUDnvTqT1Fh"
      }
    },
    {
      "cell_type": "markdown",
      "source": [
        "5.Como desafio, você recebeu a tarefa de desenvolver um código que contabiliza as pontuações de estudantes de uma instituição de ensino de acordo com suas respostas num teste. Este código deve ser testado para um exemplo de 3 estudantes com uma lista de listas em que cada lista possui as respostas de 5 questões objetivas de cada estudante. Cada questão vale um ponto e as alternativas possíveis são A, B, C ou D.\n",
        "\n",
        "Caso alguma alternativa em um dos testes não esteja entre as alternativas possíveis, você deve lançar um ValueError com a mensagem \"A alternativa [alternativa] não é uma opção de alternativa válida\". O cálculo das 3 notas só será realizado mediante as entradas com as alternativas A, B, C ou D em todos os testes. Se não for lançada a exceção, será exibida uma lista com as notas em cada teste.\n",
        "\n",
        "Os dados para o teste do código são:\n",
        "\n",
        "* Gabarito da prova:\n",
        "> gabarito = ['D', 'A', 'B', 'C', 'A']\n",
        "\n",
        "Abaixo temos 2 listas de listas que você pode usar como teste\n",
        "\n",
        "* Notas sem exceção:\n",
        "> testes_sem_ex = [['D', 'A', 'B', 'C', 'A'], ['C', 'A', 'A', 'C', 'A'], ['D', 'B', 'A', 'C', 'A']]\n",
        "\n",
        "* Notas com exceção:\n",
        "> testes_com_ex = [['D', 'A', 'B', 'C', 'A'], ['C', 'A', 'A', 'E', 'A'], ['D', 'B', 'A', 'C', 'A']]\n",
        "\n",
        "> Dica: Para verificar se uma entrada da lista não está entre as alternativas possíveis, use a estrutura lista[i] not in ['A','B','C','D']. Por exemplo, 1 not in [2,3,4]... Saída: True."
      ],
      "metadata": {
        "id": "ZIps_IKPT4t7"
      }
    },
    {
      "cell_type": "code",
      "source": [
        "#valor = 'D' not in ['A','B','C','D'] : 'true'\n",
        "gabarito = ['D', 'A', 'B', 'C', 'A']\n",
        "testes_sem_ex = [['D', 'A', 'B', 'C', 'A'], ['C', 'A', 'A', 'C', 'A'], ['D', 'B', 'A', 'C', 'A']]\n",
        "testes_com_ex = [['D', 'A', 'B', 'C', 'A'], ['C', 'A', 'A', 'E', 'A'], ['D', 'B', 'A', 'C', 'A']]\n",
        "def nota_dos_testes (testes, gabarito):\n",
        "  '''\n",
        "  Contabiliza as pontuações de estudantes de uma instituição de ensino de acordo com suas respostas num teste\n",
        "  '''\n",
        "  try:\n",
        "    notas = []\n",
        "    for teste in testes:\n",
        "      pontuacao=0\n",
        "      for i in range(len(teste)):\n",
        "        if teste[i] not in ['A','B','C','D']: raise ValueError(f'A alternativa {teste[i]} não é uma opção de alternativa válida')\n",
        "        elif teste[i] == gabarito[i]: pontuacao += 1\n",
        "      notas.append(pontuacao)\n",
        "  except Exception as e: print(e)\n",
        "  else: return notas\n",
        "alunos = nota_dos_testes(testes_com_ex, gabarito)\n",
        "alunos"
      ],
      "metadata": {
        "colab": {
          "base_uri": "https://localhost:8080/"
        },
        "id": "sPLvwv1GUIu2",
        "outputId": "4215485c-ac45-48dd-aa2f-4577d5279c2e"
      },
      "execution_count": null,
      "outputs": [
        {
          "output_type": "stream",
          "name": "stdout",
          "text": [
            "A alternativa E não é uma opção de alternativa válida\n"
          ]
        }
      ]
    },
    {
      "cell_type": "markdown",
      "source": [
        "6.Você está trabalhando com processamento de linguagem natural (NLP) e, dessa vez, sua líder requisitou que você criasse um trecho de código que recebe uma lista com as palavras separadas de uma frase gerada pelo ChatGPT.\n",
        "\n",
        "Você precisa criar uma função que avalia cada palavra desse texto e verificar se o tratamento para retirar os símbolos de pontuação (',' '.', '!' e '?') foi realizado. Caso contrário, será lançada uma exceção do tipo ValueError apontando o 1º caso em que foi detectado o uso de uma pontuação por meio da frase \"O texto apresenta pontuações na palavra \"[palavra]\".\". Essa demanda é voltada para a análise do padrão de frases geradas pela inteligência artificial.\n",
        "\n",
        "> Dica: Para verificar se uma ou mais das pontuações estão presentes em cada palavra, utilize a palavra chave or na condição if. Por exemplo, 'a' in 'alura' or 'b' in 'alura'… Saída: True\n",
        "\n",
        "Os dados para o teste do código são:\n",
        "\n",
        "* Lista tratada:\n",
        "      lista_tratada = ['Python', 'é', 'uma', 'linguagem', 'de', 'programação', 'poderosa', 'versátil', 'e', 'fácil', 'de', 'aprender', 'utilizada', 'em', 'diversos', 'campos', 'desde','análise', 'de', 'dados', 'até', 'inteligência', 'artificial']\n",
        "* Lista não tratada:\n",
        "        lista_nao_tratada = ['Python', 'é', 'uma', 'linguagem', 'de', 'programação', 'poderosa,', 'versátil', 'e', 'fácil,', 'de', 'aprender', 'utilizada', 'em', 'diversos', 'campos,', 'desde','análise', 'de', 'dados', 'até', 'inteligência', 'artificial!']"
      ],
      "metadata": {
        "id": "Zv698TLsaQWO"
      }
    },
    {
      "cell_type": "code",
      "source": [
        "# 'a' in 'alura' or 'b' in 'alura'… Saída: True\n",
        "lista_tratada = ['Python', 'é', 'uma', 'linguagem', 'de', 'programação', 'poderosa', 'versátil', 'e', 'fácil', 'de', 'aprender', 'utilizada', 'em', 'diversos', 'campos', 'desde','análise', 'de', 'dados', 'até', 'inteligência', 'artificial']\n",
        "lista_nao_tratada = ['Python', 'é', 'uma', 'linguagem', 'de', 'programação', 'poderosa,', 'versátil', 'e', 'fácil,', 'de', 'aprender', 'utilizada', 'em', 'diversos', 'campos,', 'desde','análise', 'de', 'dados', 'até', 'inteligência', 'artificial!']\n",
        "simbolos = [',', '.', '!', '?']\n",
        "def avalia_tratamento (lista):\n",
        "  '''\n",
        "  Avalia cada palavra desse texto e verificar se o tratamento para retirar os símbolos de pontuação (',' '.', '!' e '?') foi realizado\n",
        "  '''\n",
        "  try:\n",
        "    for i in range(len(lista)):\n",
        "      for simbolo in simbolos:\n",
        "        if simbolo in lista[i]: raise ValueError (f'O texto apresenta pontuações na palavra [{lista[i]}]')\n",
        "  except Exception as e: print(e)\n",
        "  else: return 'Lista tratada'\n",
        "avalia_tratamento(lista_nao_tratada)\n"
      ],
      "metadata": {
        "colab": {
          "base_uri": "https://localhost:8080/"
        },
        "id": "EwGzjLx_avre",
        "outputId": "f994ae3f-aa6d-48ac-8c30-b00ae99fc1e2"
      },
      "execution_count": null,
      "outputs": [
        {
          "output_type": "stream",
          "name": "stdout",
          "text": [
            "O texto apresenta pontuações na palavra [poderosa,]\n"
          ]
        }
      ]
    },
    {
      "cell_type": "markdown",
      "source": [
        "7.Você foi contratado(a) como uma pessoa cientista de dados para auxiliar um laboratório que faz experimentos sobre o comportamento de uma cultura de fungos. O laboratório precisa avaliar constantemente a razão (divisão) entre os dados de pressão e temperatura do ambiente controlado recolhidos durante a experimentação para definir a melhor condição para os testes.\n",
        "\n",
        "Para cumprir com a demanda, você precisa criar uma função divide_colunas que recebe os dados das colunas de pressão e temperatura (que vem no formato de listas) e gerar uma nova coluna com o resultado da divisão. Os parâmetros da função são as duas listas e você deve tratar dentro dela ao menos 2 tipos de exceções:\n",
        "\n",
        "Verificar se as listas têm o mesmo tamanho (ValueError)\n",
        "Verificar se existe alguma divisão por zero (ZeroDivisionError)\n",
        "Para testar a função, vamos realizar a divisão entre duas listas de dados coletados no experimento, com os valores de pressão e temperatura do ambiente controlado.\n",
        "\n",
        "Como teste, use os seguintes dados:\n",
        "\n",
        "* Dados sem exceção:\n",
        "        pressoes = [100, 120, 140, 160, 180]\n",
        "        temperaturas = [20, 25, 30, 35, 40]\n",
        "\n",
        "* Dados com exceção:\n",
        "\n",
        "  * 1) Exceção de ZeroDivisionError\n",
        "        pressoes = [60, 120, 140, 160, 180]\n",
        "        temperaturas = [0, 25, 30, 35, 40]\n",
        "\n",
        "  * 2) Exceção de ValueError\n",
        "        pressoes = [100, 120, 140, 160]\n",
        "        temperaturas = [20, 25, 30, 35, 40]\n",
        "\n",
        "> Dica: Você pode usar zip() para parear os dados da lista_1 com a lista_2. Crie uma estrutura try-except que caso uma das exceções sejam lançadas, podemos ver o tipo de erro na saída."
      ],
      "metadata": {
        "id": "N5rIwO0ndWNu"
      }
    },
    {
      "cell_type": "code",
      "source": [
        "pressoes = [100, 120, 140, 160, 180]\n",
        "temperaturas = [20, 25, 30, 35, 40, 0]\n",
        "def divide_colunas (pressoes, temperaturas):\n",
        "  '''\n",
        "  recebe os dados das colunas de pressão e temperatura e gerar uma nova coluna com o resultado da divisão\n",
        "  '''\n",
        "  try:\n",
        "    if len(pressoes) != len(temperaturas): raise ValueError ('As listas não tem o mesmo tamanho')\n",
        "    razoes = []\n",
        "    for tempPress in lista:\n",
        "      if tempPress[1] == 0: raise ZeroDivisionError ('Não existe divisão por zero')\n",
        "      razoes.append(round(tempPress[0]/tempPress[1],2))\n",
        "    resultado = list(zip(pressoes, temperaturas, razoes))\n",
        "  except Exception as e: print(e)\n",
        "  else: return resultado\n",
        "  finally: print('Operação finalizada')\n",
        "resultado = divide_colunas(pressoes, temperaturas)\n",
        "resultado\n"
      ],
      "metadata": {
        "colab": {
          "base_uri": "https://localhost:8080/"
        },
        "id": "mVhoWAtweIUh",
        "outputId": "464ac926-0a53-42fd-cf83-1ce711ecf5bc"
      },
      "execution_count": null,
      "outputs": [
        {
          "output_type": "stream",
          "name": "stdout",
          "text": [
            "As listas não tem o mesmo tamanho\n",
            "Operação finalizada\n"
          ]
        }
      ]
    }
  ]
}